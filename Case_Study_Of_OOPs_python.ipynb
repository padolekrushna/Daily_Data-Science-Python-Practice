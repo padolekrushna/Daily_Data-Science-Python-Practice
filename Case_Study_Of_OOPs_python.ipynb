{
  "nbformat": 4,
  "nbformat_minor": 0,
  "metadata": {
    "colab": {
      "provenance": [],
      "authorship_tag": "ABX9TyO30v/QR49jAK8heFk1d98T",
      "include_colab_link": true
    },
    "kernelspec": {
      "name": "python3",
      "display_name": "Python 3"
    },
    "language_info": {
      "name": "python"
    }
  },
  "cells": [
    {
      "cell_type": "markdown",
      "metadata": {
        "id": "view-in-github",
        "colab_type": "text"
      },
      "source": [
        "<a href=\"https://colab.research.google.com/github/padolekrushna/Daily_Data-Science-Python-Practice/blob/main/Case_Study_Of_OOPs_python.ipynb\" target=\"_parent\"><img src=\"https://colab.research.google.com/assets/colab-badge.svg\" alt=\"Open In Colab\"/></a>"
      ]
    },
    {
      "cell_type": "markdown",
      "source": [
        "CASE STUDYS OF OOPs IN PYTHON PROGRAMMING"
      ],
      "metadata": {
        "id": "lNkjedUOxj0d"
      }
    },
    {
      "cell_type": "markdown",
      "source": [
        "case study 1)   In this case study, we have an Animal superclass with subclasses Dog, Cat, and Cow. Each subclass implements its own speak method to represent the sound the animal makes. This demonstrates polymorphism, where different objects can be treated uniformly through a common interface (the speak method).\n",
        "\n",
        "\n"
      ],
      "metadata": {
        "id": "aJ5Fq1HoyGED"
      }
    },
    {
      "cell_type": "code",
      "source": [
        "class Animal:\n",
        "    def __init__(self, name):\n",
        "        self.name = name\n",
        "\n",
        "    def speak(self):\n",
        "        pass\n",
        "\n",
        "class Dog(Animal):\n",
        "    def speak(self):\n",
        "        return \"Woof!\"\n",
        "\n",
        "class Cat(Animal):\n",
        "    def speak(self):\n",
        "        return \"Meow!\"\n",
        "\n",
        "class Cow(Animal):\n",
        "    def speak(self):\n",
        "        return \"Moo!\"\n",
        "\n",
        "animals = [Dog(\"Buddy\"), Cat(\"Whiskers\"), Cow(\"Bessie\")]\n",
        "\n",
        "for animal in animals:\n",
        "    print(f\"{animal.name} says {animal.speak()}\")\n"
      ],
      "metadata": {
        "colab": {
          "base_uri": "https://localhost:8080/"
        },
        "id": "Y6rH2eu9yHCM",
        "outputId": "7b55eed8-a4b3-460b-92b8-548925884f36"
      },
      "execution_count": 1,
      "outputs": [
        {
          "output_type": "stream",
          "name": "stdout",
          "text": [
            "Buddy says Woof!\n",
            "Whiskers says Meow!\n",
            "Bessie says Moo!\n"
          ]
        }
      ]
    },
    {
      "cell_type": "markdown",
      "source": [
        "case study 2)   In this case study, we've created a BankAccount class with methods to deposit, withdraw, and check balance. We then demonstrated its usage by creating an instance of the class and performing operations on it."
      ],
      "metadata": {
        "id": "OqYbhwHvyrlX"
      }
    },
    {
      "cell_type": "code",
      "source": [
        "# Example case study: Implementing a simple bank account system using classes\n",
        "class BankAccount:\n",
        "    def __init__(self, account_number, balance=0):\n",
        "        self.account_number = account_number\n",
        "        self.balance = balance\n",
        "\n",
        "    def deposit(self, amount):\n",
        "        self.balance += amount\n",
        "\n",
        "    def withdraw(self, amount):\n",
        "        if self.balance >= amount:\n",
        "            self.balance -= amount\n",
        "        else:\n",
        "            print(\"Insufficient funds\")\n",
        "\n",
        "    def get_balance(self):\n",
        "        return self.balance\n",
        "\n",
        "# Usage\n",
        "account1 = BankAccount(\"123456789\")\n",
        "print(\"Initial balance:\", account1.get_balance())\n",
        "account1.deposit(1000)\n",
        "print(\"Balance after deposit:\", account1.get_balance())\n",
        "account1.withdraw(500)\n",
        "print(\"Balance after withdrawal:\", account1.get_balance())\n"
      ],
      "metadata": {
        "colab": {
          "base_uri": "https://localhost:8080/"
        },
        "id": "WMADMmfNyT6z",
        "outputId": "f88a7961-fa2f-465a-80c7-029d167b397a"
      },
      "execution_count": 2,
      "outputs": [
        {
          "output_type": "stream",
          "name": "stdout",
          "text": [
            "Initial balance: 0\n",
            "Balance after deposit: 1000\n",
            "Balance after withdrawal: 500\n"
          ]
        }
      ]
    },
    {
      "cell_type": "markdown",
      "source": [
        "case study 3)    A case study can demonstrate how inheritance, polymorphism, and abstract base classes are used together to solve a real-world problem or simulate a scenario"
      ],
      "metadata": {
        "id": "aqfplzfxy3o8"
      }
    },
    {
      "cell_type": "code",
      "source": [
        "# Example case study: Implementing a shape hierarchy using inheritance and abstract base classes\n",
        "from abc import ABC, abstractmethod\n",
        "\n",
        "class Shape(ABC):\n",
        "    @abstractmethod\n",
        "    def area(self):\n",
        "        pass\n",
        "\n",
        "class Rectangle(Shape):\n",
        "    def __init__(self, length, width):\n",
        "        self.length = length\n",
        "        self.width = width\n",
        "\n",
        "    def area(self):\n",
        "        return self.length * self.width\n",
        "\n",
        "class Circle(Shape):\n",
        "    def __init__(self, radius):\n",
        "        self.radius = radius\n",
        "\n",
        "    def area(self):\n",
        "        return 3.14 * self.radius ** 2\n",
        "\n",
        "shapes = [Rectangle(5, 4), Circle(3)]\n",
        "for shape in shapes:\n",
        "    print(\"Area:\", shape.area())\n"
      ],
      "metadata": {
        "colab": {
          "base_uri": "https://localhost:8080/"
        },
        "id": "nnF7c-o5yxrd",
        "outputId": "c4591970-36c5-48f8-8302-1d5e8bf0375b"
      },
      "execution_count": 3,
      "outputs": [
        {
          "output_type": "stream",
          "name": "stdout",
          "text": [
            "Area: 20\n",
            "Area: 28.26\n"
          ]
        }
      ]
    },
    {
      "cell_type": "markdown",
      "source": [
        "case study 4)   A case study can demonstrate how exceptions are used to handle errors and unexpected situations in real-world scenarios.  [In this case study, we attempt to read from a file that doesn't exist, raising a FileNotFoundError. We use a try-except block to handle this error gracefully and provide appropriate feedback to the user. Additionally, we use the finally block to ensure cleanup code is executed regardless of whether an exception occurs.]"
      ],
      "metadata": {
        "id": "bwbyyL8izFlB"
      }
    },
    {
      "cell_type": "code",
      "source": [
        "# Example case study: Handling file operations with exceptions\n",
        "try:\n",
        "    with open(\"non_existent_file.txt\", \"r\") as file:\n",
        "        content = file.read()\n",
        "except FileNotFoundError:\n",
        "    print(\"File not found\")\n",
        "except IOError as e:\n",
        "    print(\"IOError:\", e)\n",
        "except Exception as e:\n",
        "    print(\"An unexpected error occurred:\", e)\n",
        "else:\n",
        "    print(\"File read successfully\")\n",
        "finally:\n",
        "    print(\"Execution completed\")\n"
      ],
      "metadata": {
        "id": "uruYZVLpy8Qj"
      },
      "execution_count": null,
      "outputs": []
    },
    {
      "cell_type": "markdown",
      "source": [
        "case study 5)  In this case study, we've implemented a simple banking system using OOP principles. The Account class represents a bank account with methods to deposit and withdraw funds. This demonstrates how OOP can be used to model real-world entities and encapsulate their behavior and data."
      ],
      "metadata": {
        "id": "0mgfx9KUziGz"
      }
    },
    {
      "cell_type": "code",
      "source": [
        "# Example case study: Implementing a simple banking system using OOP principles\n",
        "class Account:\n",
        "    def __init__(self, account_number, balance=0):\n",
        "        self.account_number = account_number\n",
        "        self.balance = balance\n",
        "\n",
        "    def deposit(self, amount):\n",
        "        self.balance += amount\n",
        "\n",
        "    def withdraw(self, amount):\n",
        "        if self.balance >= amount:\n",
        "            self.balance -= amount\n",
        "        else:\n",
        "            raise ValueError(\"Insufficient funds\")\n",
        "\n",
        "# Usage\n",
        "account1 = Account(\"123456\", 1000)\n",
        "account1.deposit(500)\n",
        "print(\"Balance after deposit:\", account1.balance)\n",
        "account1.withdraw(300)\n",
        "print(\"Balance after withdrawal:\", account1.balance)\n"
      ],
      "metadata": {
        "colab": {
          "base_uri": "https://localhost:8080/"
        },
        "id": "_K0-4sbVziXu",
        "outputId": "9ff73bb5-0579-453b-9c6a-6358c476c4b9"
      },
      "execution_count": 4,
      "outputs": [
        {
          "output_type": "stream",
          "name": "stdout",
          "text": [
            "Balance after deposit: 1500\n",
            "Balance after withdrawal: 1200\n"
          ]
        }
      ]
    },
    {
      "cell_type": "markdown",
      "source": [
        "case study 6)    A case study can demonstrate how Python data structures and built-in functions are used to solve real-world problems or implement algorithms efficiently."
      ],
      "metadata": {
        "id": "grbQozugzipr"
      }
    },
    {
      "cell_type": "code",
      "source": [
        "# Example case study: Implementing a simple web browser history using stacks\n",
        "class BrowserHistory:\n",
        "    def __init__(self):\n",
        "        self.history = []\n",
        "\n",
        "    def visit(self, url):\n",
        "        self.history.append(url)\n",
        "\n",
        "    def back(self):\n",
        "        if len(self.history) > 1:\n",
        "            self.history.pop()\n",
        "            return self.history[-1]\n",
        "        else:\n",
        "            return None\n",
        "\n",
        "    def forward(self):\n",
        "        # Implement forward functionality if needed\n",
        "        pass\n",
        "\n",
        "# Usage\n",
        "browser = BrowserHistory()\n",
        "browser.visit(\"https://www.example.com\")\n",
        "browser.visit(\"https://www.example.com/page1\")\n",
        "print(\"Current page:\", browser.history[-1])\n",
        "print(\"Previous page:\", browser.back())\n"
      ],
      "metadata": {
        "colab": {
          "base_uri": "https://localhost:8080/"
        },
        "id": "zxBeRwM8zi2L",
        "outputId": "944c3675-320f-4e43-e652-1711f9d88313"
      },
      "execution_count": 5,
      "outputs": [
        {
          "output_type": "stream",
          "name": "stdout",
          "text": [
            "Current page: https://www.example.com/page1\n",
            "Previous page: https://www.example.com\n"
          ]
        }
      ]
    },
    {
      "cell_type": "markdown",
      "source": [
        "case study 7)  In this case study, we've implemented a simple calculator function that supports addition, multiplication, subtraction, and division with variable arguments and default argument handling. This demonstrates how Python's features like default arguments and variable argument lists can be used to implement function overloading-like behavior efficiently."
      ],
      "metadata": {
        "id": "U8QrVAxB0BU0"
      }
    },
    {
      "cell_type": "code",
      "source": [
        "# Example case study: Implementing a simple calculator using function overloading and default arguments\n",
        "def calculator(operation, *args):\n",
        "    if operation == 'add':\n",
        "        return sum(args)\n",
        "    elif operation == 'multiply':\n",
        "        result = 1\n",
        "        for arg in args:\n",
        "            result *= arg\n",
        "        return result\n",
        "    elif operation == 'subtract':\n",
        "        return args[0] - sum(args[1:])\n",
        "    elif operation == 'divide':\n",
        "        if len(args) == 2 and args[1] != 0:\n",
        "            return args[0] / args[1]\n",
        "        else:\n",
        "            return \"Invalid arguments for division\"\n",
        "\n",
        "# Usage\n",
        "print(\"Addition:\", calculator('add', 1, 2, 3))  # Output: 6\n",
        "print(\"Multiplication:\", calculator('multiply', 2, 3, 4))  # Output: 24\n",
        "print(\"Subtraction:\", calculator('subtract', 10, 3, 2))  # Output: 5\n",
        "print(\"Division:\", calculator('divide', 10, 2))  # Output: 5.0\n",
        "print(\"Division:\", calculator('divide', 10, 0))  # Output: Invalid arguments for division\n"
      ],
      "metadata": {
        "colab": {
          "base_uri": "https://localhost:8080/"
        },
        "id": "8kmHDyxZ0Evt",
        "outputId": "8597aa91-17de-4eea-85d0-b08424a07056"
      },
      "execution_count": 6,
      "outputs": [
        {
          "output_type": "stream",
          "name": "stdout",
          "text": [
            "Addition: 6\n",
            "Multiplication: 24\n",
            "Subtraction: 5\n",
            "Division: 5.0\n",
            "Division: Invalid arguments for division\n"
          ]
        }
      ]
    },
    {
      "cell_type": "code",
      "source": [],
      "metadata": {
        "id": "kDfrpc3b0HjN"
      },
      "execution_count": null,
      "outputs": []
    }
  ]
}