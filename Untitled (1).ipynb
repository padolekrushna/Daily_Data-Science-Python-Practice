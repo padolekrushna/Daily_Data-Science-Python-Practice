{
 "cells": [
  {
   "cell_type": "code",
   "execution_count": 1,
   "id": "e7d6eba9",
   "metadata": {},
   "outputs": [],
   "source": [
    "'''Q1 write a fuction in python to read content from txt file poem.txt line by line and display the same on screen'''"
   ]
  },
  {
   "cell_type": "code",
   "execution_count": 2,
   "id": "09e71d98",
   "metadata": {},
   "outputs": [
    {
     "name": "stdout",
     "output_type": "stream",
     "text": [
      "krushna padole \n",
      "data scentist \n",
      "SY"
     ]
    }
   ],
   "source": [
    "def read_file():\n",
    "    file = open(\"poem.txt\", \"w\")\n",
    "    file.write(\"krushna padole \\ndata scentist \\nSY\")\n",
    "    file = open(\"poem.txt\",\"r\")\n",
    "    for line in file:\n",
    "        print(line, end=\"\")\n",
    "    file.close()\n",
    "\n",
    "read_file()"
   ]
  },
  {
   "cell_type": "code",
   "execution_count": 3,
   "id": "06f75e95",
   "metadata": {},
   "outputs": [],
   "source": [
    "'''Q2 write a fuction in python to count the number of lines from a text file \"story.txt\" which is not starting with an \n",
    "alphabet  \"T\"'''"
   ]
  },
  {
   "cell_type": "code",
   "execution_count": 4,
   "id": "4bdc82d3",
   "metadata": {},
   "outputs": [
    {
     "name": "stdout",
     "output_type": "stream",
     "text": [
      "No of lines not starting with 'T'= 2\n"
     ]
    }
   ],
   "source": [
    "def line_count():\n",
    "    file = open(\"story.txt\", \"w\")\n",
    "    file.write(\"A boy is playing there.\\nThere is a playground.\\nAn aeroplane is in the sky.\\nThe sky is pink.\")\n",
    "    file = open(\"story.txt\",\"r\")\n",
    "    count=0\n",
    "    for line in file:\n",
    "        if line[0] not in 'T':\n",
    "            count+= 1\n",
    "    file.close()\n",
    "    print(\"No of lines not starting with 'T'=\",count)\n",
    "\n",
    "line_count()"
   ]
  },
  {
   "cell_type": "code",
   "execution_count": 5,
   "id": "a9a3def6",
   "metadata": {},
   "outputs": [],
   "source": [
    "'''Q3write a fuction in python to count and display the total number of words in a text file.'''"
   ]
  },
  {
   "cell_type": "code",
   "execution_count": 6,
   "id": "f5c1e0a9",
   "metadata": {},
   "outputs": [
    {
     "name": "stdout",
     "output_type": "stream",
     "text": [
      "Total words are 39\n"
     ]
    }
   ],
   "source": [
    "def count_words():\n",
    "    file = open(\"notes.txt\", \"w\")\n",
    "    file.write(\"India is the fastest-growing economy. India is looking for more investments around the globe. The whole world is looking at India as a great market. Most of the Indians can foresee the heights that India is capable of reaching.\")\n",
    "    file = open(\"notes.txt\",\"r\")\n",
    "    count = 0\n",
    "    data = file.read()\n",
    "    words = data.split()\n",
    "    for word in words:\n",
    "        count += 1\n",
    "    print(\"Total words are\",count)\n",
    "    file.close()\n",
    "\n",
    "count_words()"
   ]
  },
  {
   "cell_type": "code",
   "execution_count": 7,
   "id": "da61ec8a",
   "metadata": {},
   "outputs": [
    {
     "data": {
      "text/plain": [
       "'write a fuction in python to read lines from a text file \"notes.txt\" Your fuction should\\nfind and display the occurrence of word \"The\" '"
      ]
     },
     "execution_count": 7,
     "metadata": {},
     "output_type": "execute_result"
    }
   ],
   "source": [
    "\"\"\"Q4 write a fuction in python to read lines from a text file \"notes.txt\" Your fuction should\n",
    "find and display the occurrence of word \"The\" \"\"\""
   ]
  },
  {
   "cell_type": "code",
   "execution_count": 8,
   "id": "751dbe65",
   "metadata": {},
   "outputs": [
    {
     "name": "stdout",
     "output_type": "stream",
     "text": [
      "5\n"
     ]
    }
   ],
   "source": [
    "def count_words():\n",
    "    file = open(\"notes.txt\", \"w\")\n",
    "    file.write(\"India is the fastest-growing economy. India is looking for more investments around the globe. The whole world is looking at India as a great market. Most of the Indians can foresee the heights that India is capable of reaching.\")\n",
    "    file = open(\"notes.txt\",\"r\")\n",
    "    count = 0\n",
    "    data = file.read()\n",
    "    words = data.split()\n",
    "    for word in words:\n",
    "        if word ==\"the\" or word ==\"The\":\n",
    "            count += 1\n",
    "    print(count)\n",
    "    file.close()\n",
    "\n",
    "count_words()"
   ]
  },
  {
   "cell_type": "code",
   "execution_count": 9,
   "id": "c4d7a914",
   "metadata": {},
   "outputs": [
    {
     "data": {
      "text/plain": [
       "'write a fuction display_word() in python to read lines from a text file \"story.txt\" and display those words\\nwhich are less than 4 characters.'"
      ]
     },
     "execution_count": 9,
     "metadata": {},
     "output_type": "execute_result"
    }
   ],
   "source": [
    "\"\"\"Q5 write a fuction display_word() in python to read lines from a text file \"story.txt\" and display those words\n",
    "which are less than 4 characters.\"\"\""
   ]
  },
  {
   "cell_type": "code",
   "execution_count": 10,
   "id": "da8bc953",
   "metadata": {},
   "outputs": [
    {
     "name": "stdout",
     "output_type": "stream",
     "text": [
      "A boy is is a An is in the The sky is "
     ]
    }
   ],
   "source": [
    "def display_word():\n",
    "    file = open(\"story.txt\", \"w\")\n",
    "    file.write(\"A boy is playing there.\\nThere is a playground.\\nAn aeroplane is in the sky.\\nThe sky is pink.\")\n",
    "    file=open(\"story.txt\",\"r\")\n",
    "    data = file.read()\n",
    "    words = data.split()\n",
    "    for word in words:\n",
    "        if len(word) < 4:\n",
    "            print(word, end=\" \")\n",
    "    \n",
    "    file.close()\n",
    "display_word()"
   ]
  },
  {
   "cell_type": "code",
   "execution_count": null,
   "id": "0c160971",
   "metadata": {},
   "outputs": [],
   "source": []
  }
 ],
 "metadata": {
  "kernelspec": {
   "display_name": "Python 3 (ipykernel)",
   "language": "python",
   "name": "python3"
  },
  "language_info": {
   "codemirror_mode": {
    "name": "ipython",
    "version": 3
   },
   "file_extension": ".py",
   "mimetype": "text/x-python",
   "name": "python",
   "nbconvert_exporter": "python",
   "pygments_lexer": "ipython3",
   "version": "3.11.5"
  }
 },
 "nbformat": 4,
 "nbformat_minor": 5
}
