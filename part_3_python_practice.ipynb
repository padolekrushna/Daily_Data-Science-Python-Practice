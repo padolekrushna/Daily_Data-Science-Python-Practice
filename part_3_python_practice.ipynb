{
  "nbformat": 4,
  "nbformat_minor": 0,
  "metadata": {
    "colab": {
      "provenance": [],
      "authorship_tag": "ABX9TyOuNALCv+9ySCn4mvQUJeXO",
      "include_colab_link": true
    },
    "kernelspec": {
      "name": "python3",
      "display_name": "Python 3"
    },
    "language_info": {
      "name": "python"
    }
  },
  "cells": [
    {
      "cell_type": "markdown",
      "metadata": {
        "id": "view-in-github",
        "colab_type": "text"
      },
      "source": [
        "<a href=\"https://colab.research.google.com/github/padolekrushna/Daily_Data-Science-Python-Practice/blob/main/part_3_python_practice.ipynb\" target=\"_parent\"><img src=\"https://colab.research.google.com/assets/colab-badge.svg\" alt=\"Open In Colab\"/></a>"
      ]
    },
    {
      "cell_type": "markdown",
      "source": [
        "Day 36) write program to convert celsius to fehrenheit."
      ],
      "metadata": {
        "id": "EZn37c-E_hQS"
      }
    },
    {
      "cell_type": "code",
      "source": [
        "celsius = float(input(\"Enter temperature in celsius: \"))\n",
        "fahrenheit = (celsius * 9/5) + 32\n",
        "print('%.2f Celsius is: %0.2f Fahrenheit' %(celsius, fahrenheit))"
      ],
      "metadata": {
        "colab": {
          "base_uri": "https://localhost:8080/"
        },
        "id": "H2hWmXTo_oq6",
        "outputId": "8a285fd6-0cb5-4f78-97b0-c826106cb45b"
      },
      "execution_count": null,
      "outputs": [
        {
          "output_type": "stream",
          "name": "stdout",
          "text": [
            "Enter temperature in celsius: 37\n",
            "37.00 Celsius is: 98.60 Fahrenheit\n"
          ]
        }
      ]
    },
    {
      "cell_type": "markdown",
      "source": [
        "day 37) In this example, we will see how we can read a file using the with statement in Python."
      ],
      "metadata": {
        "id": "-xu8Hr1x4TpF"
      }
    },
    {
      "cell_type": "code",
      "source": [
        "# Python code to create a file\n",
        "file = open('geek.txt', 'w')\n",
        "file.write(\"This is the write command\\n\")\n",
        "file.write(\"It allows us to write in a particular file\\n\")\n",
        "file.close()\n",
        "\n",
        "# Using 'with' statement to open and read a file\n",
        "with open(\"geek.txt\") as file:\n",
        "    data = file.read()\n",
        "\n",
        "print(data)\n",
        "\n"
      ],
      "metadata": {
        "id": "xW2EM-7d_qDM",
        "outputId": "03aa7ca6-2d2d-4706-9bfb-a7f4c76d5b45",
        "colab": {
          "base_uri": "https://localhost:8080/"
        }
      },
      "execution_count": null,
      "outputs": [
        {
          "output_type": "stream",
          "name": "stdout",
          "text": [
            "This is the write command\n",
            "It allows us to write in a particular file\n",
            "\n"
          ]
        }
      ]
    },
    {
      "cell_type": "markdown",
      "source": [
        "Day 38) Create a class named MyClass, with a property named x and Now we can use the class named MyClass to create objects."
      ],
      "metadata": {
        "id": "NmtOKvZyQKDd"
      }
    },
    {
      "cell_type": "code",
      "source": [
        "class MyClass:\n",
        "  x = 5\n",
        "p1 = MyClass()\n",
        "print(p1.x)"
      ],
      "metadata": {
        "id": "LhF-eX9n6kPG",
        "outputId": "334d911e-b83f-44af-e290-95bd7911f580",
        "colab": {
          "base_uri": "https://localhost:8080/"
        }
      },
      "execution_count": null,
      "outputs": [
        {
          "output_type": "stream",
          "name": "stdout",
          "text": [
            "5\n"
          ]
        }
      ]
    },
    {
      "cell_type": "markdown",
      "source": [
        "Day 39) syntax to create an object and Access Class Attributes Using Objects"
      ],
      "metadata": {
        "id": "tUX6tJA7QbvH"
      }
    },
    {
      "cell_type": "code",
      "source": [
        "# define a class\n",
        "class Bike:\n",
        "    name = \"\"\n",
        "    gear = 0\n",
        "\n",
        "# create object of class\n",
        "bike1 = Bike()\n",
        "\n",
        "# access attributes and assign new values\n",
        "bike1.gear = 11\n",
        "bike1.name = \"Mountain Bike\"\n",
        "\n",
        "print(f\"Name: {bike1.name}, Gears: {bike1.gear} \")"
      ],
      "metadata": {
        "id": "B4MyGhoNQQ9S",
        "outputId": "c4e648f4-946f-40e7-83e4-7813d0b5f28f",
        "colab": {
          "base_uri": "https://localhost:8080/"
        }
      },
      "execution_count": null,
      "outputs": [
        {
          "output_type": "stream",
          "name": "stdout",
          "text": [
            "Name: Mountain Bike, Gears: 11 \n"
          ]
        }
      ]
    },
    {
      "cell_type": "markdown",
      "source": [
        "Day 40)Write a program for creating an integer array with values belonging to the range 10 and 60"
      ],
      "metadata": {
        "id": "KRq2UFxYJixd"
      }
    },
    {
      "cell_type": "code",
      "source": [
        "import numpy as np\n",
        "array = np.arange(30, 71)\n",
        "print(\"Array of the integers from 30 to 70\")\n",
        "print(array)\n"
      ],
      "metadata": {
        "id": "8ke1K5s9DavC",
        "colab": {
          "base_uri": "https://localhost:8080/"
        },
        "outputId": "e2d93d95-2a83-493a-c54d-dae4ef3ee51b"
      },
      "execution_count": null,
      "outputs": [
        {
          "output_type": "stream",
          "name": "stdout",
          "text": [
            "Array of the integers from 30 to 70\n",
            "[30 31 32 33 34 35 36 37 38 39 40 41 42 43 44 45 46 47 48 49 50 51 52 53\n",
            " 54 55 56 57 58 59 60 61 62 63 64 65 66 67 68 69 70]\n"
          ]
        }
      ]
    },
    {
      "cell_type": "markdown",
      "source": [
        "Day 41)Write a program for inserting space between characters of all elements in a NumPy array."
      ],
      "metadata": {
        "id": "mxuwR7MbqWFJ"
      }
    },
    {
      "cell_type": "code",
      "source": [
        "import numpy as np\n",
        "x = np.array([\"geeks\", \"for\", \"geeks\"],\n",
        "\t\t\tdtype=np.str)\n",
        "print(\"Printing the Original Array:\")\n",
        "print(x)\n",
        "r = np.char.join(\" \", x)\n",
        "print(\"Printing the array after inserting space\\between the elements\")\n",
        "print(r)\n"
      ],
      "metadata": {
        "colab": {
          "base_uri": "https://localhost:8080/"
        },
        "id": "9i_gfRZSqWNe",
        "outputId": "9ab8d0b4-1c9a-46ca-b93d-45b668150f0a"
      },
      "execution_count": null,
      "outputs": [
        {
          "output_type": "stream",
          "name": "stdout",
          "text": [
            "Printing the Original Array:\n",
            "['geeks' 'for' 'geeks']\n",
            "Printing the array after inserting space\between the elements\n",
            "['g e e k s' 'f o r' 'g e e k s']\n"
          ]
        },
        {
          "output_type": "stream",
          "name": "stderr",
          "text": [
            "<ipython-input-2-391742b8bac6>:3: DeprecationWarning: `np.str` is a deprecated alias for the builtin `str`. To silence this warning, use `str` by itself. Doing this will not modify any behavior and is safe. If you specifically wanted the numpy scalar type, use `np.str_` here.\n",
            "Deprecated in NumPy 1.20; for more details and guidance: https://numpy.org/devdocs/release/1.20.0-notes.html#deprecations\n",
            "  dtype=np.str)\n"
          ]
        }
      ]
    },
    {
      "cell_type": "markdown",
      "source": [
        "Day 42) How to find the Index of value in Numpy Array ?"
      ],
      "metadata": {
        "id": "-78EQlx0qsoo"
      }
    },
    {
      "cell_type": "code",
      "source": [
        "import numpy as np\n",
        "a = np.array([1, 2, 3, 4, 8, 6, 7, 3, 9, 10])\n",
        "print(\"All index value of 3 is: \", np.where(a == 3)[0])\n",
        "\n",
        "print(\"First index value of 3 is: \",np.where(a==3)[0][0])\n"
      ],
      "metadata": {
        "colab": {
          "base_uri": "https://localhost:8080/"
        },
        "id": "1KJ0UCq_qsw4",
        "outputId": "1b146932-f9fa-4d18-8dcc-0d5b53966fa2"
      },
      "execution_count": null,
      "outputs": [
        {
          "output_type": "stream",
          "name": "stdout",
          "text": [
            "All index value of 3 is:  [2 7]\n",
            "First index value of 3 is:  2\n"
          ]
        }
      ]
    },
    {
      "cell_type": "markdown",
      "source": [
        "Day 43) Python Program for Stack in Python"
      ],
      "metadata": {
        "id": "LIj_PXH0rKyS"
      }
    },
    {
      "cell_type": "code",
      "source": [
        "stack = []\n",
        "stack.append('a')\n",
        "stack.append('b')\n",
        "stack.append('c')\n",
        "\n",
        "print('Initial stack')\n",
        "print(stack)\n",
        "\n",
        "print('\\nElements popped from stack:')\n",
        "print(stack.pop())\n",
        "print(stack.pop())\n",
        "print(stack.pop())\n",
        "\n",
        "print('\\nStack after elements are popped:')\n",
        "print(stack)"
      ],
      "metadata": {
        "id": "8jWrC_3Crt27",
        "colab": {
          "base_uri": "https://localhost:8080/"
        },
        "outputId": "d6e84502-ae5c-4d4b-dd8a-1ace2a0e9f8a"
      },
      "execution_count": null,
      "outputs": [
        {
          "output_type": "stream",
          "name": "stdout",
          "text": [
            "Initial stack\n",
            "['a', 'b', 'c']\n",
            "\n",
            "Elements popped from stack:\n",
            "c\n",
            "b\n",
            "a\n",
            "\n",
            "Stack after elements are popped:\n",
            "[]\n"
          ]
        }
      ]
    },
    {
      "cell_type": "markdown",
      "source": [
        "Day 44) Queue in Python"
      ],
      "metadata": {
        "id": "ueLuYLPKkShq"
      }
    },
    {
      "cell_type": "code",
      "source": [
        "queue = []\n",
        "queue.append('a')\n",
        "queue.append('b')\n",
        "queue.append('c')\n",
        "print(\"Initial queue\")\n",
        "print(queue)\n",
        "print(\"\\nElements dequeued from queue\")\n",
        "print(queue.pop(0))\n",
        "print(queue.pop(0))\n",
        "print(queue.pop(0))\n",
        "print(\"\\nQueue after removing elements\")\n",
        "print(queue)\n"
      ],
      "metadata": {
        "colab": {
          "base_uri": "https://localhost:8080/"
        },
        "id": "YwjyqEqBkSvi",
        "outputId": "c0aa6a39-4df5-4d7a-c245-a5ed1210e155"
      },
      "execution_count": null,
      "outputs": [
        {
          "output_type": "stream",
          "name": "stdout",
          "text": [
            "Initial queue\n",
            "['a', 'b', 'c']\n",
            "\n",
            "Elements dequeued from queue\n",
            "a\n",
            "b\n",
            "c\n",
            "\n",
            "Queue after removing elements\n",
            "[]\n"
          ]
        }
      ]
    },
    {
      "cell_type": "markdown",
      "source": [
        "Day 45) Program to display the Fibonacci sequence up to n-th term"
      ],
      "metadata": {
        "id": "kuqBa1w8kgFA"
      }
    },
    {
      "cell_type": "code",
      "source": [
        "nterms = int(input(\"How many terms? \"))\n",
        "n1, n2 = 0, 1\n",
        "count = 0\n",
        "if nterms <= 0:\n",
        "   print(\"Please enter a positive integer\")\n",
        "elif nterms == 1:\n",
        "   print(\"Fibonacci sequence upto\",nterms,\":\")\n",
        "   print(n1)\n",
        "else:\n",
        "   print(\"Fibonacci sequence:\")\n",
        "   while count < nterms:\n",
        "       print(n1)\n",
        "       nth = n1 + n2\n",
        "       n1 = n2\n",
        "       n2 = nth\n",
        "       count += 1"
      ],
      "metadata": {
        "colab": {
          "base_uri": "https://localhost:8080/"
        },
        "id": "96Br3OS4kZEF",
        "outputId": "2a6c0285-b403-4f16-b2fc-7ceab518ebe4"
      },
      "execution_count": null,
      "outputs": [
        {
          "output_type": "stream",
          "name": "stdout",
          "text": [
            "How many terms? 10\n",
            "Fibonacci sequence:\n",
            "0\n",
            "1\n",
            "1\n",
            "2\n",
            "3\n",
            "5\n",
            "8\n",
            "13\n",
            "21\n",
            "34\n"
          ]
        }
      ]
    },
    {
      "cell_type": "markdown",
      "source": [
        "Day 46) Encapsulation"
      ],
      "metadata": {
        "id": "PjZjcAmjQsld"
      }
    },
    {
      "cell_type": "code",
      "source": [
        "class Car:\n",
        "    def __init__(self, make, model):\n",
        "        self.__make = make  # private attribute\n",
        "        self.__model = model  # private attribute\n",
        "\n",
        "    def drive(self):\n",
        "        print(f\"Driving {self.__make} {self.__model}\")\n",
        "\n",
        "    def get_make(self):  # public method\n",
        "        return self.__make\n",
        "\n",
        "my_car = Car(\"Toyota\", \"Camry\")\n",
        "print(my_car.get_make())  # accessing through public method\n"
      ],
      "metadata": {
        "id": "D8Hx0Uueln_R",
        "outputId": "c6fda222-6833-47bc-867f-0129ff2fa459",
        "colab": {
          "base_uri": "https://localhost:8080/"
        }
      },
      "execution_count": null,
      "outputs": [
        {
          "output_type": "stream",
          "name": "stdout",
          "text": [
            "Toyota\n"
          ]
        }
      ]
    },
    {
      "cell_type": "markdown",
      "source": [
        "Day 47) Composition"
      ],
      "metadata": {
        "id": "8MZXmRKu1WG0"
      }
    },
    {
      "cell_type": "code",
      "source": [
        "class Engine:\n",
        "    def start(self):\n",
        "        print(\"Engine started\")\n",
        "\n",
        "class Car:\n",
        "    def __init__(self):\n",
        "        self.engine = Engine()  # Composition: Car has an Engine\n",
        "\n",
        "    def start(self):\n",
        "        self.engine.start()\n",
        "\n",
        "my_car = Car()\n",
        "my_car.start()  # This will start the engine of the car\n"
      ],
      "metadata": {
        "id": "x40zKa-11HcG",
        "outputId": "c596082c-99d5-420d-a4d2-8d298ce925ca",
        "colab": {
          "base_uri": "https://localhost:8080/"
        }
      },
      "execution_count": null,
      "outputs": [
        {
          "output_type": "stream",
          "name": "stdout",
          "text": [
            "Engine started\n"
          ]
        }
      ]
    },
    {
      "cell_type": "markdown",
      "source": [
        "Day 48)  function definition to make both functions that always Triples and Doubles the number you send in:"
      ],
      "metadata": {
        "id": "O8_XbTf_Ex0b"
      }
    },
    {
      "cell_type": "code",
      "source": [
        "def myfunc(n):\n",
        "  return lambda a : a * n\n",
        "\n",
        "mydoubler = myfunc(2)\n",
        "mytripler = myfunc(3)\n",
        "\n",
        "print(mydoubler(10))\n",
        "print(mytripler(10))"
      ],
      "metadata": {
        "id": "avSJ297AEl07",
        "outputId": "a21260dc-2c95-4743-d970-bd9b4512c616",
        "colab": {
          "base_uri": "https://localhost:8080/"
        }
      },
      "execution_count": 2,
      "outputs": [
        {
          "output_type": "stream",
          "name": "stdout",
          "text": [
            "20\n",
            "30\n"
          ]
        }
      ]
    },
    {
      "cell_type": "markdown",
      "source": [],
      "metadata": {
        "id": "hefBVtrRE4wM"
      }
    },
    {
      "cell_type": "code",
      "source": [],
      "metadata": {
        "id": "MijnlSchE0Dj"
      },
      "execution_count": null,
      "outputs": []
    }
  ]
}