{
  "nbformat": 4,
  "nbformat_minor": 0,
  "metadata": {
    "colab": {
      "provenance": [],
      "authorship_tag": "ABX9TyNtEY+ZZTxNKKfM2JFQpdhS",
      "include_colab_link": true
    },
    "kernelspec": {
      "name": "python3",
      "display_name": "Python 3"
    },
    "language_info": {
      "name": "python"
    }
  },
  "cells": [
    {
      "cell_type": "markdown",
      "metadata": {
        "id": "view-in-github",
        "colab_type": "text"
      },
      "source": [
        "<a href=\"https://colab.research.google.com/github/padolekrushna/Daily_Data-Science-Python-Practice/blob/main/part_3_python_practice.ipynb\" target=\"_parent\"><img src=\"https://colab.research.google.com/assets/colab-badge.svg\" alt=\"Open In Colab\"/></a>"
      ]
    },
    {
      "cell_type": "markdown",
      "source": [
        "Day 36) write program to convert celsius to fehrenheit."
      ],
      "metadata": {
        "id": "EZn37c-E_hQS"
      }
    },
    {
      "cell_type": "code",
      "source": [
        "celsius = float(input(\"Enter temperature in celsius: \"))\n",
        "fahrenheit = (celsius * 9/5) + 32\n",
        "print('%.2f Celsius is: %0.2f Fahrenheit' %(celsius, fahrenheit))"
      ],
      "metadata": {
        "colab": {
          "base_uri": "https://localhost:8080/"
        },
        "id": "H2hWmXTo_oq6",
        "outputId": "8a285fd6-0cb5-4f78-97b0-c826106cb45b"
      },
      "execution_count": null,
      "outputs": [
        {
          "output_type": "stream",
          "name": "stdout",
          "text": [
            "Enter temperature in celsius: 37\n",
            "37.00 Celsius is: 98.60 Fahrenheit\n"
          ]
        }
      ]
    },
    {
      "cell_type": "markdown",
      "source": [
        "day 37) In this example, we will see how we can read a file using the with statement in Python."
      ],
      "metadata": {
        "id": "-xu8Hr1x4TpF"
      }
    },
    {
      "cell_type": "code",
      "source": [
        "# Python code to create a file\n",
        "file = open('geek.txt', 'w')\n",
        "file.write(\"This is the write command\\n\")\n",
        "file.write(\"It allows us to write in a particular file\\n\")\n",
        "file.close()\n",
        "\n",
        "# Using 'with' statement to open and read a file\n",
        "with open(\"geek.txt\") as file:\n",
        "    data = file.read()\n",
        "\n",
        "print(data)\n",
        "\n"
      ],
      "metadata": {
        "id": "xW2EM-7d_qDM",
        "outputId": "03aa7ca6-2d2d-4706-9bfb-a7f4c76d5b45",
        "colab": {
          "base_uri": "https://localhost:8080/"
        }
      },
      "execution_count": null,
      "outputs": [
        {
          "output_type": "stream",
          "name": "stdout",
          "text": [
            "This is the write command\n",
            "It allows us to write in a particular file\n",
            "\n"
          ]
        }
      ]
    },
    {
      "cell_type": "markdown",
      "source": [
        "Day 38) Create a class named MyClass, with a property named x and Now we can use the class named MyClass to create objects."
      ],
      "metadata": {
        "id": "NmtOKvZyQKDd"
      }
    },
    {
      "cell_type": "code",
      "source": [
        "class MyClass:\n",
        "  x = 5\n",
        "p1 = MyClass()\n",
        "print(p1.x)"
      ],
      "metadata": {
        "id": "LhF-eX9n6kPG",
        "outputId": "334d911e-b83f-44af-e290-95bd7911f580",
        "colab": {
          "base_uri": "https://localhost:8080/"
        }
      },
      "execution_count": null,
      "outputs": [
        {
          "output_type": "stream",
          "name": "stdout",
          "text": [
            "5\n"
          ]
        }
      ]
    },
    {
      "cell_type": "markdown",
      "source": [
        "Day 39) syntax to create an object and Access Class Attributes Using Objects"
      ],
      "metadata": {
        "id": "tUX6tJA7QbvH"
      }
    },
    {
      "cell_type": "code",
      "source": [
        "# define a class\n",
        "class Bike:\n",
        "    name = \"\"\n",
        "    gear = 0\n",
        "\n",
        "# create object of class\n",
        "bike1 = Bike()\n",
        "\n",
        "# access attributes and assign new values\n",
        "bike1.gear = 11\n",
        "bike1.name = \"Mountain Bike\"\n",
        "\n",
        "print(f\"Name: {bike1.name}, Gears: {bike1.gear} \")"
      ],
      "metadata": {
        "id": "B4MyGhoNQQ9S",
        "outputId": "c4e648f4-946f-40e7-83e4-7813d0b5f28f",
        "colab": {
          "base_uri": "https://localhost:8080/"
        }
      },
      "execution_count": null,
      "outputs": [
        {
          "output_type": "stream",
          "name": "stdout",
          "text": [
            "Name: Mountain Bike, Gears: 11 \n"
          ]
        }
      ]
    },
    {
      "cell_type": "markdown",
      "source": [
        "Day 40)Write a program for creating an integer array with values belonging to the range 10 and 60"
      ],
      "metadata": {
        "id": "KRq2UFxYJixd"
      }
    },
    {
      "cell_type": "code",
      "source": [
        "import numpy as np\n",
        "array = np.arange(30, 71)\n",
        "print(\"Array of the integers from 30 to 70\")\n",
        "print(array)\n"
      ],
      "metadata": {
        "id": "8ke1K5s9DavC",
        "outputId": "e2d93d95-2a83-493a-c54d-dae4ef3ee51b",
        "colab": {
          "base_uri": "https://localhost:8080/"
        }
      },
      "execution_count": 1,
      "outputs": [
        {
          "output_type": "stream",
          "name": "stdout",
          "text": [
            "Array of the integers from 30 to 70\n",
            "[30 31 32 33 34 35 36 37 38 39 40 41 42 43 44 45 46 47 48 49 50 51 52 53\n",
            " 54 55 56 57 58 59 60 61 62 63 64 65 66 67 68 69 70]\n"
          ]
        }
      ]
    },
    {
      "cell_type": "markdown",
      "source": [
        "Day 41)Write a program for inserting space between characters of all elements in a NumPy array."
      ],
      "metadata": {
        "id": "mxuwR7MbqWFJ"
      }
    },
    {
      "cell_type": "code",
      "source": [
        "import numpy as np\n",
        "x = np.array([\"geeks\", \"for\", \"geeks\"],\n",
        "\t\t\tdtype=np.str)\n",
        "print(\"Printing the Original Array:\")\n",
        "print(x)\n",
        "r = np.char.join(\" \", x)\n",
        "print(\"Printing the array after inserting space\\between the elements\")\n",
        "print(r)\n"
      ],
      "metadata": {
        "id": "9i_gfRZSqWNe",
        "outputId": "9ab8d0b4-1c9a-46ca-b93d-45b668150f0a",
        "colab": {
          "base_uri": "https://localhost:8080/"
        }
      },
      "execution_count": 2,
      "outputs": [
        {
          "output_type": "stream",
          "name": "stdout",
          "text": [
            "Printing the Original Array:\n",
            "['geeks' 'for' 'geeks']\n",
            "Printing the array after inserting space\between the elements\n",
            "['g e e k s' 'f o r' 'g e e k s']\n"
          ]
        },
        {
          "output_type": "stream",
          "name": "stderr",
          "text": [
            "<ipython-input-2-391742b8bac6>:3: DeprecationWarning: `np.str` is a deprecated alias for the builtin `str`. To silence this warning, use `str` by itself. Doing this will not modify any behavior and is safe. If you specifically wanted the numpy scalar type, use `np.str_` here.\n",
            "Deprecated in NumPy 1.20; for more details and guidance: https://numpy.org/devdocs/release/1.20.0-notes.html#deprecations\n",
            "  dtype=np.str)\n"
          ]
        }
      ]
    },
    {
      "cell_type": "markdown",
      "source": [
        "Day 42)"
      ],
      "metadata": {
        "id": "-78EQlx0qsoo"
      }
    },
    {
      "cell_type": "code",
      "source": [],
      "metadata": {
        "id": "1KJ0UCq_qsw4"
      },
      "execution_count": null,
      "outputs": []
    }
  ]
}