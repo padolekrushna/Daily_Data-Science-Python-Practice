{
  "nbformat": 4,
  "nbformat_minor": 0,
  "metadata": {
    "colab": {
      "provenance": [],
      "authorship_tag": "ABX9TyMfYxL044SVqD0TP3catrPk",
      "include_colab_link": true
    },
    "kernelspec": {
      "name": "python3",
      "display_name": "Python 3"
    },
    "language_info": {
      "name": "python"
    }
  },
  "cells": [
    {
      "cell_type": "markdown",
      "metadata": {
        "id": "view-in-github",
        "colab_type": "text"
      },
      "source": [
        "<a href=\"https://colab.research.google.com/github/padolekrushna/Daily_Data-Science-Python-Practice/blob/main/part_3_python_practice.ipynb\" target=\"_parent\"><img src=\"https://colab.research.google.com/assets/colab-badge.svg\" alt=\"Open In Colab\"/></a>"
      ]
    },
    {
      "cell_type": "markdown",
      "source": [
        "Day 36) write program to convert celsius to fehrenheit."
      ],
      "metadata": {
        "id": "EZn37c-E_hQS"
      }
    },
    {
      "cell_type": "code",
      "source": [
        "celsius = float(input(\"Enter temperature in celsius: \"))\n",
        "fahrenheit = (celsius * 9/5) + 32\n",
        "print('%.2f Celsius is: %0.2f Fahrenheit' %(celsius, fahrenheit))"
      ],
      "metadata": {
        "colab": {
          "base_uri": "https://localhost:8080/"
        },
        "id": "H2hWmXTo_oq6",
        "outputId": "8a285fd6-0cb5-4f78-97b0-c826106cb45b"
      },
      "execution_count": null,
      "outputs": [
        {
          "output_type": "stream",
          "name": "stdout",
          "text": [
            "Enter temperature in celsius: 37\n",
            "37.00 Celsius is: 98.60 Fahrenheit\n"
          ]
        }
      ]
    },
    {
      "cell_type": "markdown",
      "source": [
        "day 37) In this example, we will see how we can read a file using the with statement in Python."
      ],
      "metadata": {
        "id": "-xu8Hr1x4TpF"
      }
    },
    {
      "cell_type": "code",
      "source": [
        "# Python code to create a file\n",
        "file = open('geek.txt', 'w')\n",
        "file.write(\"This is the write command\\n\")\n",
        "file.write(\"It allows us to write in a particular file\\n\")\n",
        "file.close()\n",
        "\n",
        "# Using 'with' statement to open and read a file\n",
        "with open(\"geek.txt\") as file:\n",
        "    data = file.read()\n",
        "\n",
        "print(data)\n",
        "\n"
      ],
      "metadata": {
        "id": "xW2EM-7d_qDM",
        "outputId": "03aa7ca6-2d2d-4706-9bfb-a7f4c76d5b45",
        "colab": {
          "base_uri": "https://localhost:8080/"
        }
      },
      "execution_count": 5,
      "outputs": [
        {
          "output_type": "stream",
          "name": "stdout",
          "text": [
            "This is the write command\n",
            "It allows us to write in a particular file\n",
            "\n"
          ]
        }
      ]
    },
    {
      "cell_type": "code",
      "source": [],
      "metadata": {
        "id": "LhF-eX9n6kPG"
      },
      "execution_count": null,
      "outputs": []
    }
  ]
}