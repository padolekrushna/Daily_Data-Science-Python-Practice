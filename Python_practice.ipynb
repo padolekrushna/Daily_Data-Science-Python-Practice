{
  "nbformat": 4,
  "nbformat_minor": 0,
  "metadata": {
    "colab": {
      "provenance": [],
      "authorship_tag": "ABX9TyMbjeIk1MATb3mO9MDYmikr"
    },
    "kernelspec": {
      "name": "python3",
      "display_name": "Python 3"
    },
    "language_info": {
      "name": "python"
    }
  },
  "cells": [
    {
      "cell_type": "markdown",
      "source": [
        "Welcome to the Data Science Python Practice Repository! This repository is designed to provide a platform for practicing Python programming in the field of data science. It offers a wide range of code snippets and exercises to help you enhance your Python skills, with a particular focus on data analysis, machine learning, and data visualization."
      ],
      "metadata": {
        "id": "4ahqrBeL2vO7"
      }
    },
    {
      "cell_type": "code",
      "source": [
        "# Importing necessary libraries\n",
        "import numpy as np\n",
        "import pandas as pd\n",
        "import seaborn as sns\n",
        "import matplotlib.pyplot as plt\n",
        "%matplotlib inline"
      ],
      "metadata": {
        "id": "C_cFBrKI21KW"
      },
      "execution_count": null,
      "outputs": []
    },
    {
      "cell_type": "markdown",
      "source": [
        "Q1) predicting number is even or odd in python."
      ],
      "metadata": {
        "id": "CZmZMs3r3qbE"
      }
    },
    {
      "cell_type": "code",
      "source": [
        "x = 24\n",
        "\n",
        "if x % 24 == 0:\n",
        "\tprint(x,\"Is Even Number\")\n",
        "else:\n",
        "\tprint(x, \"Is Odd Number\")\n",
        "\n",
        "y = 19\n",
        "\n",
        "if y % 19 == 0:\n",
        "\tprint(y,\"Is Even Number\")\n",
        "else:\n",
        "\tprint(y, \"Is Odd Number\")\n"
      ],
      "metadata": {
        "id": "U7Ho0wMQ24Tl",
        "outputId": "ad86f158-89b1-4027-e483-85138ee03f78",
        "colab": {
          "base_uri": "https://localhost:8080/"
        }
      },
      "execution_count": null,
      "outputs": [
        {
          "output_type": "stream",
          "name": "stdout",
          "text": [
            "24 Is Even Number\n",
            "19 Is Even Number\n"
          ]
        }
      ]
    },
    {
      "cell_type": "markdown",
      "source": [
        "Q2) Python Program to Find Area of a Circle"
      ],
      "metadata": {
        "id": "jIqaj9ppg2LI"
      }
    },
    {
      "cell_type": "code",
      "source": [
        "# Python program to find Area of a circle\n",
        "\n",
        "def findArea(r):\n",
        "\tPI = 3.142\n",
        "\treturn PI * (r*r);\n",
        "\n",
        "# Driver method\n",
        "print(\"Area is\",findArea(5));"
      ],
      "metadata": {
        "id": "tMo0g6_Yg29V",
        "outputId": "96c043e8-d955-45c7-98c8-de5171bafcba",
        "colab": {
          "base_uri": "https://localhost:8080/"
        }
      },
      "execution_count": null,
      "outputs": [
        {
          "output_type": "stream",
          "name": "stdout",
          "text": [
            "Area is 78.55\n"
          ]
        }
      ]
    },
    {
      "cell_type": "markdown",
      "source": [
        "Q3) Python Program to Replace all Occurrences of ‘a’ with $ in a String."
      ],
      "metadata": {
        "id": "-esBSXu9EjRR"
      }
    },
    {
      "cell_type": "code",
      "source": [
        "\n",
        "str1 = \"Krushna PADOLE\"\n",
        "str2 = \"\"\n",
        "for char in range(0, len(str1)):\n",
        "\tif(str1[char]== \"a\" or str1[char]== \"A\"):\n",
        "\t\tstr2 += '$'\n",
        "\telse:\n",
        "\t\tstr2 += str1[char]\n",
        "print(\"Modified string : \",str2)"
      ],
      "metadata": {
        "id": "PdPTRvz6HcvV",
        "outputId": "7f3b51c8-4d97-4685-8b38-9eca63a51191",
        "colab": {
          "base_uri": "https://localhost:8080/"
        }
      },
      "execution_count": 32,
      "outputs": [
        {
          "output_type": "stream",
          "name": "stdout",
          "text": [
            "Modified string :  Krushn$ P$DOLE\n"
          ]
        }
      ]
    },
    {
      "cell_type": "markdown",
      "source": [
        "Q4) Python Program to Calculate the Length of a String Without using Library Functions."
      ],
      "metadata": {
        "id": "sDeiUV0IJf5c"
      }
    },
    {
      "cell_type": "code",
      "source": [
        "string=input(\"Enter string:\")\n",
        "count=0\n",
        "for i in string:\n",
        "      count+=1\n",
        "print(\"Length of the string is:\",count)"
      ],
      "metadata": {
        "id": "ftHUB-L7JgJw",
        "outputId": "154cba5b-d450-46a0-8441-07c53fee1a15",
        "colab": {
          "base_uri": "https://localhost:8080/"
        }
      },
      "execution_count": 35,
      "outputs": [
        {
          "output_type": "stream",
          "name": "stdout",
          "text": [
            "Enter string:Krushna padole\n",
            "Length of the string is: 14\n"
          ]
        }
      ]
    },
    {
      "cell_type": "markdown",
      "source": [
        "Q5) Python program to Calculate Frequency of a Characters in a String."
      ],
      "metadata": {
        "id": "m9KBlfPaLQlR"
      }
    },
    {
      "cell_type": "code",
      "source": [
        "str1 =\"Krushna Padole\"\n",
        "dict = {}\n",
        "for i in str1:\n",
        "\tkeys = dict.keys()\n",
        "\tif i in keys:\n",
        "\t\tdict[i] += 1\n",
        "\telse:\n",
        "\t\tdict[i] = 1\n",
        "print(dict)"
      ],
      "metadata": {
        "id": "Ezbugs3sMrro",
        "outputId": "bb028444-f46b-44b3-e40f-75a058626b30",
        "colab": {
          "base_uri": "https://localhost:8080/"
        }
      },
      "execution_count": 43,
      "outputs": [
        {
          "output_type": "stream",
          "name": "stdout",
          "text": [
            "{'K': 1, 'r': 1, 'u': 1, 's': 1, 'h': 1, 'n': 1, 'a': 2, ' ': 1, 'P': 1, 'd': 1, 'o': 1, 'l': 1, 'e': 1}\n"
          ]
        }
      ]
    },
    {
      "cell_type": "code",
      "source": [],
      "metadata": {
        "id": "ZwqLuFXPNC19"
      },
      "execution_count": null,
      "outputs": []
    }
  ]
}