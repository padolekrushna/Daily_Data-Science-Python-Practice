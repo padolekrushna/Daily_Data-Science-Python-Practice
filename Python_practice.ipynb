{
  "nbformat": 4,
  "nbformat_minor": 0,
  "metadata": {
    "colab": {
      "provenance": [],
      "authorship_tag": "ABX9TyM8cHzkfKx64V1MR7gknEct"
    },
    "kernelspec": {
      "name": "python3",
      "display_name": "Python 3"
    },
    "language_info": {
      "name": "python"
    }
  },
  "cells": [
    {
      "cell_type": "markdown",
      "source": [
        "Welcome to the Data Science Python Practice Repository! This repository is designed to provide a platform for practicing Python programming in the field of data science. It offers a wide range of code snippets and exercises to help you enhance your Python skills, with a particular focus on data analysis, machine learning, and data visualization."
      ],
      "metadata": {
        "id": "4ahqrBeL2vO7"
      }
    },
    {
      "cell_type": "code",
      "source": [
        "# Importing necessary libraries\n",
        "import numpy as np\n",
        "import pandas as pd\n",
        "import seaborn as sns\n",
        "import matplotlib.pyplot as plt\n",
        "%matplotlib inline"
      ],
      "metadata": {
        "id": "C_cFBrKI21KW"
      },
      "execution_count": 1,
      "outputs": []
    },
    {
      "cell_type": "markdown",
      "source": [
        "Q1) predicting number is even or odd in python."
      ],
      "metadata": {
        "id": "CZmZMs3r3qbE"
      }
    },
    {
      "cell_type": "code",
      "source": [
        "x = 24\n",
        "\n",
        "if x % 24 == 0:\n",
        "\tprint(x,\"Is Even Number\")\n",
        "else:\n",
        "\tprint(x, \"Is Odd Number\")\n",
        "\n",
        "y = 19\n",
        "\n",
        "if y % 19 == 0:\n",
        "\tprint(y,\"Is Even Number\")\n",
        "else:\n",
        "\tprint(y, \"Is Odd Number\")\n"
      ],
      "metadata": {
        "id": "U7Ho0wMQ24Tl",
        "outputId": "ad86f158-89b1-4027-e483-85138ee03f78",
        "colab": {
          "base_uri": "https://localhost:8080/"
        }
      },
      "execution_count": 2,
      "outputs": [
        {
          "output_type": "stream",
          "name": "stdout",
          "text": [
            "24 Is Even Number\n",
            "19 Is Even Number\n"
          ]
        }
      ]
    }
  ]
}