{
  "nbformat": 4,
  "nbformat_minor": 0,
  "metadata": {
    "colab": {
      "provenance": [],
      "authorship_tag": "ABX9TyM8BYQgPdMO7AP5E+W/TPPz",
      "include_colab_link": true
    },
    "kernelspec": {
      "name": "python3",
      "display_name": "Python 3"
    },
    "language_info": {
      "name": "python"
    }
  },
  "cells": [
    {
      "cell_type": "markdown",
      "metadata": {
        "id": "view-in-github",
        "colab_type": "text"
      },
      "source": [
        "<a href=\"https://colab.research.google.com/github/padolekrushna/Data-Science-Python-Practice/blob/main/Python_practice.ipynb\" target=\"_parent\"><img src=\"https://colab.research.google.com/assets/colab-badge.svg\" alt=\"Open In Colab\"/></a>"
      ]
    },
    {
      "cell_type": "markdown",
      "source": [
        "Welcome to the Data Science Python Practice Repository! This repository is designed to provide a platform for practicing Python programming in the field of data science. It offers a wide range of code snippets and exercises to help you enhance your Python skills, with a particular focus on data analysis, machine learning, and data visualization."
      ],
      "metadata": {
        "id": "4ahqrBeL2vO7"
      }
    },
    {
      "cell_type": "code",
      "source": [
        "# Importing necessary libraries\n",
        "import numpy as np\n",
        "import pandas as pd\n",
        "import seaborn as sns\n",
        "import matplotlib.pyplot as plt\n",
        "%matplotlib inline"
      ],
      "metadata": {
        "id": "C_cFBrKI21KW"
      },
      "execution_count": null,
      "outputs": []
    },
    {
      "cell_type": "markdown",
      "source": [
        "Q1) predicting number is even or odd in python."
      ],
      "metadata": {
        "id": "CZmZMs3r3qbE"
      }
    },
    {
      "cell_type": "code",
      "source": [
        "x = int(input(\"Enter a number: \"))\n",
        "\n",
        "if x % 2 == 0:\n",
        "    print(x, \"is an even number\")\n",
        "else:\n",
        "    print(x, \"is an odd number\")\n"
      ],
      "metadata": {
        "id": "U7Ho0wMQ24Tl",
        "outputId": "3458a621-1955-4e2d-e10c-a47aaa76e259",
        "colab": {
          "base_uri": "https://localhost:8080/"
        }
      },
      "execution_count": null,
      "outputs": [
        {
          "output_type": "stream",
          "name": "stdout",
          "text": [
            "Enter a number: 100\n",
            "100 is an even number\n"
          ]
        }
      ]
    },
    {
      "cell_type": "markdown",
      "source": [
        "Q2) Python Program to Find Area of a Circle"
      ],
      "metadata": {
        "id": "jIqaj9ppg2LI"
      }
    },
    {
      "cell_type": "code",
      "source": [
        "def findArea(r):\n",
        "\tPI = 3.142\n",
        "\treturn PI * (r*r);\n",
        "print(\"Area is\",findArea(5));"
      ],
      "metadata": {
        "id": "tMo0g6_Yg29V",
        "outputId": "96c043e8-d955-45c7-98c8-de5171bafcba",
        "colab": {
          "base_uri": "https://localhost:8080/"
        }
      },
      "execution_count": null,
      "outputs": [
        {
          "output_type": "stream",
          "name": "stdout",
          "text": [
            "Area is 78.55\n"
          ]
        }
      ]
    },
    {
      "cell_type": "markdown",
      "source": [
        "Q3) Python Program to Replace all Occurrences of ‘a’ with $ in a String."
      ],
      "metadata": {
        "id": "-esBSXu9EjRR"
      }
    },
    {
      "cell_type": "code",
      "source": [
        "str1 = \"Krushna PADOLE\"\n",
        "str2 = \"\"\n",
        "for char in range(0, len(str1)):\n",
        "\tif(str1[char]== \"a\" or str1[char]== \"A\"):\n",
        "\t\tstr2 += '$'\n",
        "\telse:\n",
        "\t\tstr2 += str1[char]\n",
        "print(\"Modified string : \",str2)"
      ],
      "metadata": {
        "id": "PdPTRvz6HcvV",
        "outputId": "7f3b51c8-4d97-4685-8b38-9eca63a51191",
        "colab": {
          "base_uri": "https://localhost:8080/"
        }
      },
      "execution_count": null,
      "outputs": [
        {
          "output_type": "stream",
          "name": "stdout",
          "text": [
            "Modified string :  Krushn$ P$DOLE\n"
          ]
        }
      ]
    },
    {
      "cell_type": "markdown",
      "source": [
        "Q4) Python Program to Calculate the Length of a String Without using Library Functions."
      ],
      "metadata": {
        "id": "sDeiUV0IJf5c"
      }
    },
    {
      "cell_type": "code",
      "source": [
        "string=input(\"Enter string:\")\n",
        "count=0\n",
        "for i in string:\n",
        "      count+=1\n",
        "print(\"Length of the string is:\",count)"
      ],
      "metadata": {
        "id": "ftHUB-L7JgJw",
        "outputId": "154cba5b-d450-46a0-8441-07c53fee1a15",
        "colab": {
          "base_uri": "https://localhost:8080/"
        }
      },
      "execution_count": null,
      "outputs": [
        {
          "output_type": "stream",
          "name": "stdout",
          "text": [
            "Enter string:Krushna padole\n",
            "Length of the string is: 14\n"
          ]
        }
      ]
    },
    {
      "cell_type": "markdown",
      "source": [
        "Q5) Python program to Calculate Frequency of a Characters in a String."
      ],
      "metadata": {
        "id": "m9KBlfPaLQlR"
      }
    },
    {
      "cell_type": "code",
      "source": [
        "str1 = \"Krushna Padole\"\n",
        "char_count = {}\n",
        "for char in str1:\n",
        "    if char in char_count:\n",
        "        char_count[char] += 1\n",
        "    else:\n",
        "        char_count[char] = 1\n",
        "print(char_count)"
      ],
      "metadata": {
        "id": "NPw_fbEwTiXL",
        "outputId": "d0319e08-c054-44db-d75c-461d7e654f41",
        "colab": {
          "base_uri": "https://localhost:8080/"
        }
      },
      "execution_count": null,
      "outputs": [
        {
          "output_type": "stream",
          "name": "stdout",
          "text": [
            "{'K': 1, 'r': 1, 'u': 1, 's': 1, 'h': 1, 'n': 1, 'a': 2, ' ': 1, 'P': 1, 'd': 1, 'o': 1, 'l': 1, 'e': 1}\n"
          ]
        }
      ]
    },
    {
      "cell_type": "markdown",
      "source": [
        "Q6) Python Program to Check if a String is Palindrome or Not."
      ],
      "metadata": {
        "id": "_aFdo-VkPMae"
      }
    },
    {
      "cell_type": "code",
      "source": [
        "x = input(\"enter a string : \")\n",
        "y = \"\"\n",
        "for i in x:\n",
        "\ty = i + y\n",
        "if (x == y):\n",
        "\tprint(\"Yes its palindrome\")\n",
        "else:\n",
        "\tprint(\"No palindrome\")"
      ],
      "metadata": {
        "colab": {
          "base_uri": "https://localhost:8080/"
        },
        "id": "Lt7RN6_CPMmx",
        "outputId": "16ce8d5c-0c57-4216-ac5d-6f434202ddc4"
      },
      "execution_count": null,
      "outputs": [
        {
          "output_type": "stream",
          "name": "stdout",
          "text": [
            "enter a string : abccba\n",
            "Yes its palindrome\n"
          ]
        }
      ]
    },
    {
      "cell_type": "markdown",
      "source": [
        "Q7) Python program to calculate the number of digits and letters in a string."
      ],
      "metadata": {
        "id": "tBEXVaf0o2Zx"
      }
    },
    {
      "cell_type": "code",
      "source": [
        "def count(input_string):\n",
        "    num_digits = 0\n",
        "    num_letters = 0\n",
        "\n",
        "    for i in input_string:\n",
        "\n",
        "        if '0' <= i <= '9':\n",
        "            num_digits += 1\n",
        "        else:\n",
        "            if 'a' <= i.lower() <= 'z':\n",
        "                num_letters += 1\n",
        "\n",
        "    print(\"Number of digits:\", num_digits)\n",
        "    print(\"Number of letters:\", num_letters)\n",
        "\n",
        "input_string = input(\"Enter a string: \")\n",
        "count(input_string)"
      ],
      "metadata": {
        "colab": {
          "base_uri": "https://localhost:8080/"
        },
        "id": "74TRcivlqh2H",
        "outputId": "915a6320-390b-4217-d04c-d0339b1606e2"
      },
      "execution_count": 19,
      "outputs": [
        {
          "output_type": "stream",
          "name": "stdout",
          "text": [
            "Enter a string: krushna123\n",
            "Number of digits: 3\n",
            "Number of letters: 7\n"
          ]
        }
      ]
    },
    {
      "cell_type": "code",
      "source": [],
      "metadata": {
        "id": "6dLGdpD1qjFi"
      },
      "execution_count": null,
      "outputs": []
    }
  ]
}