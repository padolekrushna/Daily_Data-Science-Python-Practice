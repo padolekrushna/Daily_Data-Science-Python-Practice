{
  "nbformat": 4,
  "nbformat_minor": 0,
  "metadata": {
    "colab": {
      "provenance": [],
      "authorship_tag": "ABX9TyOkOOcpou277rRF/Gzuwcnq"
    },
    "kernelspec": {
      "name": "python3",
      "display_name": "Python 3"
    },
    "language_info": {
      "name": "python"
    }
  },
  "cells": [
    {
      "cell_type": "markdown",
      "source": [
        "daily practic python part 2:"
      ],
      "metadata": {
        "id": "W2I9OTqA1815"
      }
    },
    {
      "cell_type": "markdown",
      "source": [
        " day 14) write program to get the 3 elements from front and 3 elements from back of tuple."
      ],
      "metadata": {
        "id": "ymppGDnv2SiU"
      }
    },
    {
      "cell_type": "code",
      "source": [
        "tup=('K','r','u','s','h','n','a')\n",
        "print(\"front 3 elements are\",tup[2])\n",
        "print(\"last 3 elements are\",tup[-3])"
      ],
      "metadata": {
        "colab": {
          "base_uri": "https://localhost:8080/"
        },
        "id": "5_sJ7f4_2S67",
        "outputId": "6acd9cb9-70f7-46ac-fb56-6fb0ebc11006"
      },
      "execution_count": null,
      "outputs": [
        {
          "output_type": "stream",
          "name": "stdout",
          "text": [
            "front 3 elements are u\n",
            "last 3 elements are h\n"
          ]
        }
      ]
    },
    {
      "cell_type": "markdown",
      "source": [
        "day 15) write program repeated items of a tuple."
      ],
      "metadata": {
        "id": "Kj8kSLXO3kSy"
      }
    },
    {
      "cell_type": "code",
      "source": [
        "tup=('K','r','u','s','h','n','a','a')\n",
        "print(tup.count('a'))"
      ],
      "metadata": {
        "colab": {
          "base_uri": "https://localhost:8080/"
        },
        "id": "JHiYGHrv3cIS",
        "outputId": "2374e003-c38a-4509-c12f-9f4a4a248a83"
      },
      "execution_count": null,
      "outputs": [
        {
          "output_type": "stream",
          "name": "stdout",
          "text": [
            "2\n"
          ]
        }
      ]
    },
    {
      "cell_type": "markdown",
      "source": [
        "day 16) wirte a program to check whether an element exists within a tuple."
      ],
      "metadata": {
        "id": "ySORw8jQRkYD"
      }
    },
    {
      "cell_type": "code",
      "source": [
        "tup1=('K','r','u','s','h','n','a')\n",
        "ch=input(\"enter element to search : \")\n",
        "print(ch in tup1)"
      ],
      "metadata": {
        "colab": {
          "base_uri": "https://localhost:8080/"
        },
        "id": "qY2OoTASRklz",
        "outputId": "18c54241-fd74-403c-be1a-6c04675117ca"
      },
      "execution_count": null,
      "outputs": [
        {
          "output_type": "stream",
          "name": "stdout",
          "text": [
            "enter element to search : K\n",
            "True\n"
          ]
        }
      ]
    },
    {
      "cell_type": "markdown",
      "source": [
        "day 17) Write a Python program to find repeated items in a tuple."
      ],
      "metadata": {
        "id": "jxXtRgk_tLZI"
      }
    },
    {
      "cell_type": "code",
      "source": [
        "tuplex = 2, 4, 5, 6, 2, 3, 4, 4, 7\n",
        "print(tuplex)\n",
        "count = tuplex.count(4)\n",
        "print(count)\n"
      ],
      "metadata": {
        "colab": {
          "base_uri": "https://localhost:8080/"
        },
        "id": "DIqM3ErLtLkR",
        "outputId": "654816c9-0226-4eaa-ccac-bf726d1d71bf"
      },
      "execution_count": null,
      "outputs": [
        {
          "output_type": "stream",
          "name": "stdout",
          "text": [
            "(2, 4, 5, 6, 2, 3, 4, 4, 7)\n",
            "3\n"
          ]
        }
      ]
    },
    {
      "cell_type": "markdown",
      "source": [
        "Day 18) what is output and iteration over set."
      ],
      "metadata": {
        "id": "l0rgSXuvbA5G"
      }
    },
    {
      "cell_type": "code",
      "source": [
        "set={10,20,30,40,40}\n",
        "print(set)\n",
        "for i in set:\n",
        "  print(i)"
      ],
      "metadata": {
        "colab": {
          "base_uri": "https://localhost:8080/"
        },
        "id": "yBlakfTubBDV",
        "outputId": "8eb3e7b3-fbe3-4952-a1db-2280c846e46c"
      },
      "execution_count": null,
      "outputs": [
        {
          "output_type": "stream",
          "name": "stdout",
          "text": [
            "{40, 10, 20, 30}\n",
            "40\n",
            "10\n",
            "20\n",
            "30\n"
          ]
        }
      ]
    },
    {
      "cell_type": "markdown",
      "source": [
        "Day 19) WAP to add & remove operation on set."
      ],
      "metadata": {
        "id": "tOJyzBFQbBK0"
      }
    },
    {
      "cell_type": "code",
      "source": [
        "set.add(50)\n",
        "set.pop()\n",
        "set.remove(30)\n",
        "set.discard(20)\n",
        "print(set)"
      ],
      "metadata": {
        "colab": {
          "base_uri": "https://localhost:8080/"
        },
        "id": "Nh_quuNebBSo",
        "outputId": "7c966b69-33dc-42b6-dabf-ab86b58bd17d"
      },
      "execution_count": null,
      "outputs": [
        {
          "output_type": "stream",
          "name": "stdout",
          "text": [
            "{10, 50}\n"
          ]
        }
      ]
    },
    {
      "cell_type": "markdown",
      "source": [
        "Day 20) WAP to create union and intersection of sets."
      ],
      "metadata": {
        "id": "veDRubFYbBbI"
      }
    },
    {
      "cell_type": "code",
      "source": [
        "set1={1,2,3}\n",
        "set2={2,3,4}\n",
        "print(set1.union(set2))\n",
        "print(set1&set2)"
      ],
      "metadata": {
        "colab": {
          "base_uri": "https://localhost:8080/"
        },
        "id": "xZzgfCGubBjp",
        "outputId": "7bd5f62a-400b-4afe-fd02-ffc2e16b599a"
      },
      "execution_count": null,
      "outputs": [
        {
          "output_type": "stream",
          "name": "stdout",
          "text": [
            "{1, 2, 3, 4}\n",
            "{2, 3}\n"
          ]
        }
      ]
    },
    {
      "cell_type": "markdown",
      "source": [
        "Day 21) WAP to min,max,difference,symmetrix_difference."
      ],
      "metadata": {
        "id": "C8cSlXIHbBqH"
      }
    },
    {
      "cell_type": "code",
      "source": [
        "set3={10,20,30,40,50,60}\n",
        "print(min(set3))\n",
        "print(max(set3))\n",
        "set1={1,2,3}\n",
        "set2={2,3,4}\n",
        "print(set1-set2)\n",
        "print(set1^set2)\n",
        "\"\"\"\"print(set1.difference(set2))\n",
        "print(set1.symmetric_difference(set2))\"\"\""
      ],
      "metadata": {
        "colab": {
          "base_uri": "https://localhost:8080/",
          "height": 104
        },
        "id": "dUFG90cpbBxg",
        "outputId": "519205e3-48b0-4e38-ac7b-53a75da5956c"
      },
      "execution_count": null,
      "outputs": [
        {
          "output_type": "stream",
          "name": "stdout",
          "text": [
            "10\n",
            "60\n",
            "{1}\n",
            "{1, 4}\n"
          ]
        },
        {
          "output_type": "execute_result",
          "data": {
            "text/plain": [
              "'\"print(set1.difference(set2))\\nprint(set1.symmetric_difference(set2))'"
            ],
            "application/vnd.google.colaboratory.intrinsic+json": {
              "type": "string"
            }
          },
          "metadata": {},
          "execution_count": 11
        }
      ]
    },
    {
      "cell_type": "markdown",
      "source": [
        "Day 22) WAp to create shallow copy of sets ."
      ],
      "metadata": {
        "id": "8EXJiiMIeysd"
      }
    },
    {
      "cell_type": "code",
      "source": [
        "set4={\"abc\",\"def\",\"ghi\"}\n",
        "set5=set4.copy()\n",
        "print(set5)"
      ],
      "metadata": {
        "colab": {
          "base_uri": "https://localhost:8080/"
        },
        "id": "mf_9y_Cdey3o",
        "outputId": "4c208179-e3bc-4707-d6d2-e1e6b2f8a58e"
      },
      "execution_count": null,
      "outputs": [
        {
          "output_type": "stream",
          "name": "stdout",
          "text": [
            "{'ghi', 'def', 'abc'}\n"
          ]
        }
      ]
    },
    {
      "cell_type": "markdown",
      "source": [
        "Day 23) WAP to accept the string which contains all vowels."
      ],
      "metadata": {
        "id": "trgC2MPHp9Lj"
      }
    },
    {
      "cell_type": "code",
      "source": [
        "def check(string) :\n",
        "\n",
        "\tstring = string.lower()\n",
        "\tvowels = set(\"aeiou\")\n",
        "\ts = set({})\n",
        "\tfor char in string :\n",
        "\t\tif char in vowels :\n",
        "\t\t\ts.add(char)\n",
        "\t\telse:\n",
        "\t\t\tpass\n",
        "\tif len(s) == len(vowels) :\n",
        "\t\tprint(\"Accepted\")\n",
        "\telse :\n",
        "\t\tprint(\"Not Accepted\")\n",
        "if __name__ == \"__main__\" :\n",
        "\n",
        "\tstring = \"SEEquoiaL\"\n",
        "\tcheck(string)\n"
      ],
      "metadata": {
        "colab": {
          "base_uri": "https://localhost:8080/"
        },
        "id": "18Ijb6SUrj_9",
        "outputId": "a31dfab1-63be-43c6-a4b9-86abb0081d3c"
      },
      "execution_count": null,
      "outputs": [
        {
          "output_type": "stream",
          "name": "stdout",
          "text": [
            "Accepted\n"
          ]
        }
      ]
    },
    {
      "cell_type": "markdown",
      "source": [
        "Day 24)Write a Python script to concatenate the following dictionaries to create a new one."
      ],
      "metadata": {
        "id": "0C64ZqQsh3N9"
      }
    },
    {
      "cell_type": "code",
      "source": [
        "dic1 = {1: 10, 2: 20}\n",
        "dic2 = {3: 30, 4: 40}\n",
        "dic3 = {5: 50, 6: 60}\n",
        "dic4 = {}\n",
        "for d in (dic1, dic2, dic3):\n",
        "    dic4.update(d)\n",
        "print(dic4)"
      ],
      "metadata": {
        "colab": {
          "base_uri": "https://localhost:8080/"
        },
        "id": "QH-uit-7h3V2",
        "outputId": "3f6701e5-b422-46d3-8521-642649944323"
      },
      "execution_count": null,
      "outputs": [
        {
          "output_type": "stream",
          "name": "stdout",
          "text": [
            "{1: 10, 2: 20, 3: 30, 4: 40, 5: 50, 6: 60}\n"
          ]
        }
      ]
    },
    {
      "cell_type": "markdown",
      "source": [
        "Day 25) WAP to calculate  the avg of number given in list."
      ],
      "metadata": {
        "id": "nXtThQAG8net"
      }
    },
    {
      "cell_type": "code",
      "source": [
        "lst=[10,20,30,40]\n",
        "sum=0\n",
        "for i in range(len(lst)):\n",
        "   sum=sum+lst[i]\n",
        "   avg=sum/len(lst)\n",
        "print(sum)\n",
        "print(avg)"
      ],
      "metadata": {
        "colab": {
          "base_uri": "https://localhost:8080/"
        },
        "id": "hxpXFbl58npR",
        "outputId": "4ae13471-6ba4-4ea9-aba8-23783b79c81b"
      },
      "execution_count": null,
      "outputs": [
        {
          "output_type": "stream",
          "name": "stdout",
          "text": [
            "100\n",
            "25.0\n"
          ]
        }
      ]
    },
    {
      "cell_type": "markdown",
      "source": [
        "Day 26) WAP which accepts 6 integer values and prints \"duplicates\" if any of the values entered are duplicates otherwise it prints \"all unique\"."
      ],
      "metadata": {
        "id": "1y3xagRVI_PS"
      }
    },
    {
      "cell_type": "code",
      "source": [
        "a=list()\n",
        "for i in range(6):\n",
        "  a.append (int(input(\"enter\")))\n",
        "  if len (set(a))!=len(a):\n",
        "    print(\"duplication\")\n",
        "  else:\n",
        "      print(\"all unique\")"
      ],
      "metadata": {
        "colab": {
          "base_uri": "https://localhost:8080/"
        },
        "id": "uep2ND20I_e7",
        "outputId": "d297a22b-f738-4c0e-b6ac-377306c31104"
      },
      "execution_count": null,
      "outputs": [
        {
          "output_type": "stream",
          "name": "stdout",
          "text": [
            "enter12\n",
            "all unique\n",
            "enter12\n",
            "duplication\n"
          ]
        }
      ]
    },
    {
      "cell_type": "markdown",
      "source": [
        "Day 27) WAP which finds sum of digits of a number example example n=130 then o\\p is 4 (1+3+0)."
      ],
      "metadata": {
        "id": "j77eDI3mB3n-"
      }
    },
    {
      "cell_type": "code",
      "source": [
        "num = 1330\n",
        "N=num\n",
        "sum_of_digit=0\n",
        "while N>0:\n",
        "  digit=N%10\n",
        "  sum_of_digit+=digit\n",
        "  N=N//10\n",
        "  print(sum_of_digit)"
      ],
      "metadata": {
        "colab": {
          "base_uri": "https://localhost:8080/"
        },
        "id": "woLgxvbDB3zh",
        "outputId": "b643a4fb-a9e1-41bc-e942-9acd52fc7a9c"
      },
      "execution_count": null,
      "outputs": [
        {
          "output_type": "stream",
          "name": "stdout",
          "text": [
            "0\n",
            "3\n",
            "6\n",
            "7\n"
          ]
        }
      ]
    },
    {
      "cell_type": "markdown",
      "source": [
        "Day 28) WAP to Display following pattern."
      ],
      "metadata": {
        "id": "o5twtV0l2z-p"
      }
    },
    {
      "cell_type": "code",
      "source": [
        "n=4\n",
        "for i in range(n,0,-1):\n",
        "\n",
        "  for j in range(1,i+1):\n",
        "    print(j,end=\" \")\n",
        "\n",
        "  print()"
      ],
      "metadata": {
        "colab": {
          "base_uri": "https://localhost:8080/"
        },
        "id": "Au7WUouh20F2",
        "outputId": "5ca730f7-98f8-4d02-d3b7-310ffe1ad52f"
      },
      "execution_count": null,
      "outputs": [
        {
          "output_type": "stream",
          "name": "stdout",
          "text": [
            "1 2 3 4 \n",
            "1 2 3 \n",
            "1 2 \n",
            "1 \n"
          ]
        }
      ]
    },
    {
      "cell_type": "markdown",
      "source": [
        "Day 29)WAP to reverse a given number."
      ],
      "metadata": {
        "id": "q8F6mob3WffO"
      }
    },
    {
      "cell_type": "code",
      "source": [
        "n=int(input(\"enter any number\"))\n",
        "rev=0\n",
        "while n!=0:\n",
        "  digit=n%10\n",
        "  rev=rev*10+digit\n",
        "  n//=10\n",
        "  print(\"reverse no is\",str(rev))"
      ],
      "metadata": {
        "colab": {
          "base_uri": "https://localhost:8080/"
        },
        "id": "ADTI1jRDWfq2",
        "outputId": "da0d7a20-bbc0-4659-fd14-07c4de3a6b20"
      },
      "execution_count": null,
      "outputs": [
        {
          "output_type": "stream",
          "name": "stdout",
          "text": [
            "enter any number1234\n",
            "reverse no is 4\n",
            "reverse no is 43\n",
            "reverse no is 432\n",
            "reverse no is 4321\n"
          ]
        }
      ]
    },
    {
      "cell_type": "markdown",
      "source": [
        "Day 30)Python Program to Print the Fibonacci sequence."
      ],
      "metadata": {
        "id": "hNWXihSGwe7Q"
      }
    },
    {
      "cell_type": "code",
      "source": [
        "n = 10\n",
        "num1 = 0\n",
        "num2 = 1\n",
        "next_number = num2\n",
        "count = 1\n",
        "\n",
        "while count <= n:\n",
        "\tprint(next_number, end=\" \")\n",
        "\tcount += 1\n",
        "\tnum1, num2 = num2, next_number\n",
        "\tnext_number = num1 + num2\n",
        "print()\n"
      ],
      "metadata": {
        "colab": {
          "base_uri": "https://localhost:8080/"
        },
        "id": "EWYvV4OOwfIh",
        "outputId": "7f4c30a7-7578-49a5-de7b-9683d59b034c"
      },
      "execution_count": null,
      "outputs": [
        {
          "output_type": "stream",
          "name": "stdout",
          "text": [
            "1 2 3 5 8 13 21 34 55 89 \n"
          ]
        }
      ]
    },
    {
      "cell_type": "markdown",
      "source": [
        "Day 31) write an nanymous Function to Calculate Area of Square"
      ],
      "metadata": {
        "id": "jfvX4HOCzCbk"
      }
    },
    {
      "cell_type": "code",
      "source": [
        "Area=lambda r:S*S\n",
        "S=(int(input(\"Entervthe side of Square: \")))\n",
        "print(\"Area\",Area(S))"
      ],
      "metadata": {
        "colab": {
          "base_uri": "https://localhost:8080/"
        },
        "id": "xFd2HFhvzCsD",
        "outputId": "ab0a2614-97d9-47bd-9663-b2153347fbdf"
      },
      "execution_count": null,
      "outputs": [
        {
          "output_type": "stream",
          "name": "stdout",
          "text": [
            "Entervthe side of Square: 12\n",
            "Area 144\n"
          ]
        }
      ]
    },
    {
      "cell_type": "markdown",
      "source": [
        "Day 32) Write a generator Function That Reverses a Given String."
      ],
      "metadata": {
        "id": "r8dK-PcgMMrx"
      }
    },
    {
      "cell_type": "code",
      "source": [
        "S=input(\"Enter The String : \")\n",
        "def reverse(S):\n",
        "  yield S[len(S): :-1]\n",
        "for i  in reverse(S):\n",
        "    print(i)"
      ],
      "metadata": {
        "colab": {
          "base_uri": "https://localhost:8080/"
        },
        "id": "1AB3Z0_ZMMzD",
        "outputId": "593b867f-4fde-4094-fb84-1aded21752e1"
      },
      "execution_count": null,
      "outputs": [
        {
          "output_type": "stream",
          "name": "stdout",
          "text": [
            "Enter The String : Krushna\n",
            "anhsurK\n"
          ]
        }
      ]
    },
    {
      "cell_type": "markdown",
      "source": [
        "Day 33) write a recursive function to calculate the sum of number from 0 to 10."
      ],
      "metadata": {
        "id": "k1L8xqHd0OKz"
      }
    },
    {
      "cell_type": "code",
      "source": [
        "def sum(n):\n",
        "  if n==1:\n",
        "    return n\n",
        "  else:\n",
        "      return n+sum(n-1)\n",
        "\n",
        "print(sum(10))"
      ],
      "metadata": {
        "colab": {
          "base_uri": "https://localhost:8080/"
        },
        "id": "f06EvVHY0OT6",
        "outputId": "e48731ee-ca38-46bf-974a-6467a8476f9f"
      },
      "execution_count": null,
      "outputs": [
        {
          "output_type": "stream",
          "name": "stdout",
          "text": [
            "55\n"
          ]
        }
      ]
    },
    {
      "cell_type": "markdown",
      "source": [
        "Day 34) Python Program to Swap Two Variables."
      ],
      "metadata": {
        "id": "oLx7dyL5cl5R"
      }
    },
    {
      "cell_type": "code",
      "source": [
        "# Python program to swap two variables\n",
        "\n",
        "x = 5\n",
        "y = 10\n",
        "\n",
        "# To take inputs from the user\n",
        "#x = input('Enter value of x: ')\n",
        "#y = input('Enter value of y: ')\n",
        "\n",
        "# create a temporary variable and swap the values\n",
        "temp = x\n",
        "x = y\n",
        "y = temp\n",
        "\n",
        "print('The value of x after swapping: {}'.format(x))\n",
        "print('The value of y after swapping: {}'.format(y))\n"
      ],
      "metadata": {
        "colab": {
          "base_uri": "https://localhost:8080/"
        },
        "id": "_F39me_kcmGg",
        "outputId": "32ee73a5-c906-4ae2-839f-661ea5aa8deb"
      },
      "execution_count": 1,
      "outputs": [
        {
          "output_type": "stream",
          "name": "stdout",
          "text": [
            "The value of x after swapping: 10\n",
            "The value of y after swapping: 5\n"
          ]
        }
      ]
    }
  ]
}