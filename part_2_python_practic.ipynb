{
  "nbformat": 4,
  "nbformat_minor": 0,
  "metadata": {
    "colab": {
      "provenance": [],
      "authorship_tag": "ABX9TyOM/0WQe2vl27k+KvAzGffP",
      "include_colab_link": true
    },
    "kernelspec": {
      "name": "python3",
      "display_name": "Python 3"
    },
    "language_info": {
      "name": "python"
    }
  },
  "cells": [
    {
      "cell_type": "markdown",
      "metadata": {
        "id": "view-in-github",
        "colab_type": "text"
      },
      "source": [
        "<a href=\"https://colab.research.google.com/github/padolekrushna/Daily_Data-Science-Python-Practice/blob/main/part_2_python_practic.ipynb\" target=\"_parent\"><img src=\"https://colab.research.google.com/assets/colab-badge.svg\" alt=\"Open In Colab\"/></a>"
      ]
    },
    {
      "cell_type": "markdown",
      "source": [
        "daily practic python part 2:"
      ],
      "metadata": {
        "id": "W2I9OTqA1815"
      }
    },
    {
      "cell_type": "markdown",
      "source": [
        " day 14) write program to get the 3 elements from front and 3 elements from back of tuple."
      ],
      "metadata": {
        "id": "ymppGDnv2SiU"
      }
    },
    {
      "cell_type": "code",
      "source": [
        "tup=('K','r','u','s','h','n','a')\n",
        "print(\"front 3 elements are\",tup[2])\n",
        "print(\"last 3 elements are\",tup[-3])"
      ],
      "metadata": {
        "colab": {
          "base_uri": "https://localhost:8080/"
        },
        "id": "5_sJ7f4_2S67",
        "outputId": "6acd9cb9-70f7-46ac-fb56-6fb0ebc11006"
      },
      "execution_count": null,
      "outputs": [
        {
          "output_type": "stream",
          "name": "stdout",
          "text": [
            "front 3 elements are u\n",
            "last 3 elements are h\n"
          ]
        }
      ]
    },
    {
      "cell_type": "markdown",
      "source": [
        "day 15) write program repeated items of a tuple."
      ],
      "metadata": {
        "id": "Kj8kSLXO3kSy"
      }
    },
    {
      "cell_type": "code",
      "source": [
        "tup=('K','r','u','s','h','n','a','a')\n",
        "print(tup.count('a'))"
      ],
      "metadata": {
        "colab": {
          "base_uri": "https://localhost:8080/"
        },
        "id": "JHiYGHrv3cIS",
        "outputId": "2374e003-c38a-4509-c12f-9f4a4a248a83"
      },
      "execution_count": null,
      "outputs": [
        {
          "output_type": "stream",
          "name": "stdout",
          "text": [
            "2\n"
          ]
        }
      ]
    },
    {
      "cell_type": "markdown",
      "source": [
        "day 16) wirte a program to check whether an element exists within a tuple."
      ],
      "metadata": {
        "id": "ySORw8jQRkYD"
      }
    },
    {
      "cell_type": "code",
      "source": [
        "tup1=('K','r','u','s','h','n','a')\n",
        "ch=input(\"enter element to search : \")\n",
        "print(ch in tup1)"
      ],
      "metadata": {
        "colab": {
          "base_uri": "https://localhost:8080/"
        },
        "id": "qY2OoTASRklz",
        "outputId": "18c54241-fd74-403c-be1a-6c04675117ca"
      },
      "execution_count": null,
      "outputs": [
        {
          "output_type": "stream",
          "name": "stdout",
          "text": [
            "enter element to search : K\n",
            "True\n"
          ]
        }
      ]
    },
    {
      "cell_type": "markdown",
      "source": [
        "day 17) Write a Python program to find repeated items in a tuple."
      ],
      "metadata": {
        "id": "jxXtRgk_tLZI"
      }
    },
    {
      "cell_type": "code",
      "source": [
        "tuplex = 2, 4, 5, 6, 2, 3, 4, 4, 7\n",
        "print(tuplex)\n",
        "count = tuplex.count(4)\n",
        "print(count)\n"
      ],
      "metadata": {
        "colab": {
          "base_uri": "https://localhost:8080/"
        },
        "id": "DIqM3ErLtLkR",
        "outputId": "654816c9-0226-4eaa-ccac-bf726d1d71bf"
      },
      "execution_count": null,
      "outputs": [
        {
          "output_type": "stream",
          "name": "stdout",
          "text": [
            "(2, 4, 5, 6, 2, 3, 4, 4, 7)\n",
            "3\n"
          ]
        }
      ]
    },
    {
      "cell_type": "markdown",
      "source": [
        "Day 18) what is output and iteration over set."
      ],
      "metadata": {
        "id": "l0rgSXuvbA5G"
      }
    },
    {
      "cell_type": "code",
      "source": [
        "set={10,20,30,40,40}\n",
        "print(set)\n",
        "for i in set:\n",
        "  print(i)"
      ],
      "metadata": {
        "colab": {
          "base_uri": "https://localhost:8080/"
        },
        "id": "yBlakfTubBDV",
        "outputId": "8eb3e7b3-fbe3-4952-a1db-2280c846e46c"
      },
      "execution_count": 1,
      "outputs": [
        {
          "output_type": "stream",
          "name": "stdout",
          "text": [
            "{40, 10, 20, 30}\n",
            "40\n",
            "10\n",
            "20\n",
            "30\n"
          ]
        }
      ]
    },
    {
      "cell_type": "markdown",
      "source": [
        "Day 19) WAP to add & remove operation on set."
      ],
      "metadata": {
        "id": "tOJyzBFQbBK0"
      }
    },
    {
      "cell_type": "code",
      "source": [
        "set.add(50)\n",
        "set.pop()\n",
        "set.remove(30)\n",
        "set.discard(20)\n",
        "print(set)"
      ],
      "metadata": {
        "colab": {
          "base_uri": "https://localhost:8080/"
        },
        "id": "Nh_quuNebBSo",
        "outputId": "7c966b69-33dc-42b6-dabf-ab86b58bd17d"
      },
      "execution_count": 2,
      "outputs": [
        {
          "output_type": "stream",
          "name": "stdout",
          "text": [
            "{10, 50}\n"
          ]
        }
      ]
    },
    {
      "cell_type": "markdown",
      "source": [
        "Day 20) WAP to create union and intersection of sets."
      ],
      "metadata": {
        "id": "veDRubFYbBbI"
      }
    },
    {
      "cell_type": "code",
      "source": [
        "set1={1,2,3}\n",
        "set2={2,3,4}\n",
        "print(set1.union(set2))\n",
        "print(set1&set2)"
      ],
      "metadata": {
        "colab": {
          "base_uri": "https://localhost:8080/"
        },
        "id": "xZzgfCGubBjp",
        "outputId": "7bd5f62a-400b-4afe-fd02-ffc2e16b599a"
      },
      "execution_count": 5,
      "outputs": [
        {
          "output_type": "stream",
          "name": "stdout",
          "text": [
            "{1, 2, 3, 4}\n",
            "{2, 3}\n"
          ]
        }
      ]
    },
    {
      "cell_type": "markdown",
      "source": [
        "Day 21) WAP to min,max,difference,symmetrix_difference."
      ],
      "metadata": {
        "id": "C8cSlXIHbBqH"
      }
    },
    {
      "cell_type": "code",
      "source": [
        "set3={10,20,30,40,50,60}\n",
        "print(min(set3))\n",
        "print(max(set3))\n",
        "set1={1,2,3}\n",
        "set2={2,3,4}\n",
        "print(set1-set2)\n",
        "print(set1^set2)\n",
        "\"\"\"\"print(set1.difference(set2))\n",
        "print(set1.symmetric_difference(set2))\"\"\""
      ],
      "metadata": {
        "colab": {
          "base_uri": "https://localhost:8080/",
          "height": 104
        },
        "id": "dUFG90cpbBxg",
        "outputId": "519205e3-48b0-4e38-ac7b-53a75da5956c"
      },
      "execution_count": 11,
      "outputs": [
        {
          "output_type": "stream",
          "name": "stdout",
          "text": [
            "10\n",
            "60\n",
            "{1}\n",
            "{1, 4}\n"
          ]
        },
        {
          "output_type": "execute_result",
          "data": {
            "text/plain": [
              "'\"print(set1.difference(set2))\\nprint(set1.symmetric_difference(set2))'"
            ],
            "application/vnd.google.colaboratory.intrinsic+json": {
              "type": "string"
            }
          },
          "metadata": {},
          "execution_count": 11
        }
      ]
    },
    {
      "cell_type": "markdown",
      "source": [
        "Day 22) WAp to create shallow copy of sets ."
      ],
      "metadata": {
        "id": "8EXJiiMIeysd"
      }
    },
    {
      "cell_type": "code",
      "source": [
        "set4={\"abc\",\"def\",\"ghi\"}\n",
        "set5=set4.copy()\n",
        "print(set5)"
      ],
      "metadata": {
        "colab": {
          "base_uri": "https://localhost:8080/"
        },
        "id": "mf_9y_Cdey3o",
        "outputId": "4c208179-e3bc-4707-d6d2-e1e6b2f8a58e"
      },
      "execution_count": 12,
      "outputs": [
        {
          "output_type": "stream",
          "name": "stdout",
          "text": [
            "{'ghi', 'def', 'abc'}\n"
          ]
        }
      ]
    }
  ]
}