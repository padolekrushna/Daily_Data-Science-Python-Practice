{
  "nbformat": 4,
  "nbformat_minor": 0,
  "metadata": {
    "colab": {
      "provenance": [],
      "authorship_tag": "ABX9TyOFtlxB3gF3PbYelk+higJp"
    },
    "kernelspec": {
      "name": "python3",
      "display_name": "Python 3"
    },
    "language_info": {
      "name": "python"
    }
  },
  "cells": [
    {
      "cell_type": "markdown",
      "source": [
        "daily practic python part 2:"
      ],
      "metadata": {
        "id": "W2I9OTqA1815"
      }
    },
    {
      "cell_type": "markdown",
      "source": [
        " day 14) write program to get the 3 elements from front and 3 elements from back of tuple."
      ],
      "metadata": {
        "id": "ymppGDnv2SiU"
      }
    },
    {
      "cell_type": "code",
      "source": [
        "tup=('K','r','u','s','h','n','a')\n",
        "print(\"front 3 elements are\",tup[2])\n",
        "print(\"last 3 elements are\",tup[-3])"
      ],
      "metadata": {
        "colab": {
          "base_uri": "https://localhost:8080/"
        },
        "id": "5_sJ7f4_2S67",
        "outputId": "6acd9cb9-70f7-46ac-fb56-6fb0ebc11006"
      },
      "execution_count": 2,
      "outputs": [
        {
          "output_type": "stream",
          "name": "stdout",
          "text": [
            "front 3 elements are u\n",
            "last 3 elements are h\n"
          ]
        }
      ]
    },
    {
      "cell_type": "markdown",
      "source": [
        "day 15) write program repeated items of a tuple."
      ],
      "metadata": {
        "id": "Kj8kSLXO3kSy"
      }
    },
    {
      "cell_type": "code",
      "source": [
        "tup=('K','r','u','s','h','n','a','a')\n",
        "print(tup.count('a'))"
      ],
      "metadata": {
        "colab": {
          "base_uri": "https://localhost:8080/"
        },
        "id": "JHiYGHrv3cIS",
        "outputId": "2374e003-c38a-4509-c12f-9f4a4a248a83"
      },
      "execution_count": 4,
      "outputs": [
        {
          "output_type": "stream",
          "name": "stdout",
          "text": [
            "2\n"
          ]
        }
      ]
    }
  ]
}