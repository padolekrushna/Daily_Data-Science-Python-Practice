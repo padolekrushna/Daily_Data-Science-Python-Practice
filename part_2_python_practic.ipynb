{
  "nbformat": 4,
  "nbformat_minor": 0,
  "metadata": {
    "colab": {
      "provenance": [],
      "authorship_tag": "ABX9TyPmHdE74qU6PhKD8LgpGj+d"
    },
    "kernelspec": {
      "name": "python3",
      "display_name": "Python 3"
    },
    "language_info": {
      "name": "python"
    }
  },
  "cells": [
    {
      "cell_type": "markdown",
      "source": [
        "daily practic python part 2:"
      ],
      "metadata": {
        "id": "W2I9OTqA1815"
      }
    },
    {
      "cell_type": "markdown",
      "source": [
        " day 14) write program to get the 3 elements from front and 3 elements from back of tuple."
      ],
      "metadata": {
        "id": "ymppGDnv2SiU"
      }
    },
    {
      "cell_type": "code",
      "source": [
        "tup=('K','r','u','s','h','n','a')\n",
        "print(\"front 3 elements are\",tup[2])\n",
        "print(\"last 3 elements are\",tup[-3])"
      ],
      "metadata": {
        "colab": {
          "base_uri": "https://localhost:8080/"
        },
        "id": "5_sJ7f4_2S67",
        "outputId": "6acd9cb9-70f7-46ac-fb56-6fb0ebc11006"
      },
      "execution_count": null,
      "outputs": [
        {
          "output_type": "stream",
          "name": "stdout",
          "text": [
            "front 3 elements are u\n",
            "last 3 elements are h\n"
          ]
        }
      ]
    },
    {
      "cell_type": "markdown",
      "source": [
        "day 15) write program repeated items of a tuple."
      ],
      "metadata": {
        "id": "Kj8kSLXO3kSy"
      }
    },
    {
      "cell_type": "code",
      "source": [
        "tup=('K','r','u','s','h','n','a','a')\n",
        "print(tup.count('a'))"
      ],
      "metadata": {
        "colab": {
          "base_uri": "https://localhost:8080/"
        },
        "id": "JHiYGHrv3cIS",
        "outputId": "2374e003-c38a-4509-c12f-9f4a4a248a83"
      },
      "execution_count": null,
      "outputs": [
        {
          "output_type": "stream",
          "name": "stdout",
          "text": [
            "2\n"
          ]
        }
      ]
    },
    {
      "cell_type": "markdown",
      "source": [
        "day 16) wirte a program to check whether an element exists within a tuple."
      ],
      "metadata": {
        "id": "ySORw8jQRkYD"
      }
    },
    {
      "cell_type": "code",
      "source": [
        "tup1=('K','r','u','s','h','n','a')\n",
        "ch=input(\"enter element to search : \")\n",
        "print(ch in tup1)"
      ],
      "metadata": {
        "colab": {
          "base_uri": "https://localhost:8080/"
        },
        "id": "qY2OoTASRklz",
        "outputId": "18c54241-fd74-403c-be1a-6c04675117ca"
      },
      "execution_count": null,
      "outputs": [
        {
          "output_type": "stream",
          "name": "stdout",
          "text": [
            "enter element to search : K\n",
            "True\n"
          ]
        }
      ]
    },
    {
      "cell_type": "markdown",
      "source": [
        "day 17) Write a Python program to find repeated items in a tuple."
      ],
      "metadata": {
        "id": "jxXtRgk_tLZI"
      }
    },
    {
      "cell_type": "code",
      "source": [
        "tuplex = 2, 4, 5, 6, 2, 3, 4, 4, 7\n",
        "print(tuplex)\n",
        "count = tuplex.count(4)\n",
        "print(count)\n"
      ],
      "metadata": {
        "colab": {
          "base_uri": "https://localhost:8080/"
        },
        "id": "DIqM3ErLtLkR",
        "outputId": "654816c9-0226-4eaa-ccac-bf726d1d71bf"
      },
      "execution_count": 1,
      "outputs": [
        {
          "output_type": "stream",
          "name": "stdout",
          "text": [
            "(2, 4, 5, 6, 2, 3, 4, 4, 7)\n",
            "3\n"
          ]
        }
      ]
    }
  ]
}