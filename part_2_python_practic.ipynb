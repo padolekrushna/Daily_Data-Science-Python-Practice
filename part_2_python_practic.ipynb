{
  "nbformat": 4,
  "nbformat_minor": 0,
  "metadata": {
    "colab": {
      "provenance": [],
      "authorship_tag": "ABX9TyNNYkgpDGjKkXrH+mUvBAzB"
    },
    "kernelspec": {
      "name": "python3",
      "display_name": "Python 3"
    },
    "language_info": {
      "name": "python"
    }
  },
  "cells": [
    {
      "cell_type": "markdown",
      "source": [
        "daily practic python part 2:"
      ],
      "metadata": {
        "id": "W2I9OTqA1815"
      }
    },
    {
      "cell_type": "markdown",
      "source": [
        " day 14) write program to get the 3 elements from front and 3 elements from back of tuple."
      ],
      "metadata": {
        "id": "ymppGDnv2SiU"
      }
    },
    {
      "cell_type": "code",
      "source": [
        "tup=('K','r','u','s','h','n','a')\n",
        "print(\"front 3 elements are\",tup[2])\n",
        "print(\"last 3 elements are\",tup[-3])"
      ],
      "metadata": {
        "colab": {
          "base_uri": "https://localhost:8080/"
        },
        "id": "5_sJ7f4_2S67",
        "outputId": "6acd9cb9-70f7-46ac-fb56-6fb0ebc11006"
      },
      "execution_count": null,
      "outputs": [
        {
          "output_type": "stream",
          "name": "stdout",
          "text": [
            "front 3 elements are u\n",
            "last 3 elements are h\n"
          ]
        }
      ]
    },
    {
      "cell_type": "markdown",
      "source": [
        "day 15) write program repeated items of a tuple."
      ],
      "metadata": {
        "id": "Kj8kSLXO3kSy"
      }
    },
    {
      "cell_type": "code",
      "source": [
        "tup=('K','r','u','s','h','n','a','a')\n",
        "print(tup.count('a'))"
      ],
      "metadata": {
        "colab": {
          "base_uri": "https://localhost:8080/"
        },
        "id": "JHiYGHrv3cIS",
        "outputId": "2374e003-c38a-4509-c12f-9f4a4a248a83"
      },
      "execution_count": null,
      "outputs": [
        {
          "output_type": "stream",
          "name": "stdout",
          "text": [
            "2\n"
          ]
        }
      ]
    },
    {
      "cell_type": "markdown",
      "source": [
        "day 16) wirte a program to check whether an element exists within a tuple."
      ],
      "metadata": {
        "id": "ySORw8jQRkYD"
      }
    },
    {
      "cell_type": "code",
      "source": [
        "tup1=('K','r','u','s','h','n','a')\n",
        "ch=input(\"enter element to search : \")\n",
        "print(ch in tup1)"
      ],
      "metadata": {
        "colab": {
          "base_uri": "https://localhost:8080/"
        },
        "id": "qY2OoTASRklz",
        "outputId": "18c54241-fd74-403c-be1a-6c04675117ca"
      },
      "execution_count": null,
      "outputs": [
        {
          "output_type": "stream",
          "name": "stdout",
          "text": [
            "enter element to search : K\n",
            "True\n"
          ]
        }
      ]
    },
    {
      "cell_type": "markdown",
      "source": [
        "day 17) Write a Python program to find repeated items in a tuple."
      ],
      "metadata": {
        "id": "jxXtRgk_tLZI"
      }
    },
    {
      "cell_type": "code",
      "source": [
        "tuplex = 2, 4, 5, 6, 2, 3, 4, 4, 7\n",
        "print(tuplex)\n",
        "count = tuplex.count(4)\n",
        "print(count)\n"
      ],
      "metadata": {
        "colab": {
          "base_uri": "https://localhost:8080/"
        },
        "id": "DIqM3ErLtLkR",
        "outputId": "654816c9-0226-4eaa-ccac-bf726d1d71bf"
      },
      "execution_count": null,
      "outputs": [
        {
          "output_type": "stream",
          "name": "stdout",
          "text": [
            "(2, 4, 5, 6, 2, 3, 4, 4, 7)\n",
            "3\n"
          ]
        }
      ]
    },
    {
      "cell_type": "markdown",
      "source": [
        "Day 18) what is output and iteration over set."
      ],
      "metadata": {
        "id": "l0rgSXuvbA5G"
      }
    },
    {
      "cell_type": "code",
      "source": [
        "set={10,20,30,40,40}\n",
        "print(set)\n",
        "for i in set:\n",
        "  print(i)"
      ],
      "metadata": {
        "colab": {
          "base_uri": "https://localhost:8080/"
        },
        "id": "yBlakfTubBDV",
        "outputId": "8eb3e7b3-fbe3-4952-a1db-2280c846e46c"
      },
      "execution_count": null,
      "outputs": [
        {
          "output_type": "stream",
          "name": "stdout",
          "text": [
            "{40, 10, 20, 30}\n",
            "40\n",
            "10\n",
            "20\n",
            "30\n"
          ]
        }
      ]
    },
    {
      "cell_type": "markdown",
      "source": [
        "Day 19) WAP to add & remove operation on set."
      ],
      "metadata": {
        "id": "tOJyzBFQbBK0"
      }
    },
    {
      "cell_type": "code",
      "source": [
        "set.add(50)\n",
        "set.pop()\n",
        "set.remove(30)\n",
        "set.discard(20)\n",
        "print(set)"
      ],
      "metadata": {
        "colab": {
          "base_uri": "https://localhost:8080/"
        },
        "id": "Nh_quuNebBSo",
        "outputId": "7c966b69-33dc-42b6-dabf-ab86b58bd17d"
      },
      "execution_count": null,
      "outputs": [
        {
          "output_type": "stream",
          "name": "stdout",
          "text": [
            "{10, 50}\n"
          ]
        }
      ]
    },
    {
      "cell_type": "markdown",
      "source": [
        "Day 20) WAP to create union and intersection of sets."
      ],
      "metadata": {
        "id": "veDRubFYbBbI"
      }
    },
    {
      "cell_type": "code",
      "source": [
        "set1={1,2,3}\n",
        "set2={2,3,4}\n",
        "print(set1.union(set2))\n",
        "print(set1&set2)"
      ],
      "metadata": {
        "colab": {
          "base_uri": "https://localhost:8080/"
        },
        "id": "xZzgfCGubBjp",
        "outputId": "7bd5f62a-400b-4afe-fd02-ffc2e16b599a"
      },
      "execution_count": null,
      "outputs": [
        {
          "output_type": "stream",
          "name": "stdout",
          "text": [
            "{1, 2, 3, 4}\n",
            "{2, 3}\n"
          ]
        }
      ]
    },
    {
      "cell_type": "markdown",
      "source": [
        "Day 21) WAP to min,max,difference,symmetrix_difference."
      ],
      "metadata": {
        "id": "C8cSlXIHbBqH"
      }
    },
    {
      "cell_type": "code",
      "source": [
        "set3={10,20,30,40,50,60}\n",
        "print(min(set3))\n",
        "print(max(set3))\n",
        "set1={1,2,3}\n",
        "set2={2,3,4}\n",
        "print(set1-set2)\n",
        "print(set1^set2)\n",
        "\"\"\"\"print(set1.difference(set2))\n",
        "print(set1.symmetric_difference(set2))\"\"\""
      ],
      "metadata": {
        "colab": {
          "base_uri": "https://localhost:8080/",
          "height": 104
        },
        "id": "dUFG90cpbBxg",
        "outputId": "519205e3-48b0-4e38-ac7b-53a75da5956c"
      },
      "execution_count": null,
      "outputs": [
        {
          "output_type": "stream",
          "name": "stdout",
          "text": [
            "10\n",
            "60\n",
            "{1}\n",
            "{1, 4}\n"
          ]
        },
        {
          "output_type": "execute_result",
          "data": {
            "text/plain": [
              "'\"print(set1.difference(set2))\\nprint(set1.symmetric_difference(set2))'"
            ],
            "application/vnd.google.colaboratory.intrinsic+json": {
              "type": "string"
            }
          },
          "metadata": {},
          "execution_count": 11
        }
      ]
    },
    {
      "cell_type": "markdown",
      "source": [
        "Day 22) WAp to create shallow copy of sets ."
      ],
      "metadata": {
        "id": "8EXJiiMIeysd"
      }
    },
    {
      "cell_type": "code",
      "source": [
        "set4={\"abc\",\"def\",\"ghi\"}\n",
        "set5=set4.copy()\n",
        "print(set5)"
      ],
      "metadata": {
        "colab": {
          "base_uri": "https://localhost:8080/"
        },
        "id": "mf_9y_Cdey3o",
        "outputId": "4c208179-e3bc-4707-d6d2-e1e6b2f8a58e"
      },
      "execution_count": null,
      "outputs": [
        {
          "output_type": "stream",
          "name": "stdout",
          "text": [
            "{'ghi', 'def', 'abc'}\n"
          ]
        }
      ]
    },
    {
      "cell_type": "markdown",
      "source": [
        "Day 23) WAP to accept the string which contains all vowels."
      ],
      "metadata": {
        "id": "trgC2MPHp9Lj"
      }
    },
    {
      "cell_type": "code",
      "source": [
        "def check(string) :\n",
        "\n",
        "\tstring = string.lower()\n",
        "\tvowels = set(\"aeiou\")\n",
        "\ts = set({})\n",
        "\tfor char in string :\n",
        "\t\tif char in vowels :\n",
        "\t\t\ts.add(char)\n",
        "\t\telse:\n",
        "\t\t\tpass\n",
        "\tif len(s) == len(vowels) :\n",
        "\t\tprint(\"Accepted\")\n",
        "\telse :\n",
        "\t\tprint(\"Not Accepted\")\n",
        "if __name__ == \"__main__\" :\n",
        "\n",
        "\tstring = \"SEEquoiaL\"\n",
        "\tcheck(string)\n"
      ],
      "metadata": {
        "colab": {
          "base_uri": "https://localhost:8080/"
        },
        "id": "18Ijb6SUrj_9",
        "outputId": "a31dfab1-63be-43c6-a4b9-86abb0081d3c"
      },
      "execution_count": null,
      "outputs": [
        {
          "output_type": "stream",
          "name": "stdout",
          "text": [
            "Accepted\n"
          ]
        }
      ]
    },
    {
      "cell_type": "markdown",
      "source": [
        "Day 24)Write a Python script to concatenate the following dictionaries to create a new one."
      ],
      "metadata": {
        "id": "0C64ZqQsh3N9"
      }
    },
    {
      "cell_type": "code",
      "source": [
        "dic1 = {1: 10, 2: 20}\n",
        "dic2 = {3: 30, 4: 40}\n",
        "dic3 = {5: 50, 6: 60}\n",
        "dic4 = {}\n",
        "for d in (dic1, dic2, dic3):\n",
        "    dic4.update(d)\n",
        "print(dic4)"
      ],
      "metadata": {
        "colab": {
          "base_uri": "https://localhost:8080/"
        },
        "id": "QH-uit-7h3V2",
        "outputId": "3f6701e5-b422-46d3-8521-642649944323"
      },
      "execution_count": null,
      "outputs": [
        {
          "output_type": "stream",
          "name": "stdout",
          "text": [
            "{1: 10, 2: 20, 3: 30, 4: 40, 5: 50, 6: 60}\n"
          ]
        }
      ]
    },
    {
      "cell_type": "markdown",
      "source": [
        "Day 25) WAP to calculate  the avg of number given in list."
      ],
      "metadata": {
        "id": "nXtThQAG8net"
      }
    },
    {
      "cell_type": "code",
      "source": [
        "lst=[10,20,30,40]\n",
        "sum=0\n",
        "for i in range(len(lst)):\n",
        "   sum=sum+lst[i]\n",
        "   avg=sum/len(lst)\n",
        "print(sum)\n",
        "print(avg)"
      ],
      "metadata": {
        "colab": {
          "base_uri": "https://localhost:8080/"
        },
        "id": "hxpXFbl58npR",
        "outputId": "4ae13471-6ba4-4ea9-aba8-23783b79c81b"
      },
      "execution_count": null,
      "outputs": [
        {
          "output_type": "stream",
          "name": "stdout",
          "text": [
            "100\n",
            "25.0\n"
          ]
        }
      ]
    },
    {
      "cell_type": "markdown",
      "source": [
        "Day 26) WAP which accepts 6 integer values and prints \"duplicates\" if any of the values entered are duplicates otherwise it prints \"all unique\"."
      ],
      "metadata": {
        "id": "1y3xagRVI_PS"
      }
    },
    {
      "cell_type": "code",
      "source": [
        "a=list()\n",
        "for i in range(6):\n",
        "  a.append (int(input(\"enter\")))\n",
        "  if len (set(a))!=len(a):\n",
        "    print(\"duplication\")\n",
        "  else:\n",
        "      print(\"all unique\")"
      ],
      "metadata": {
        "colab": {
          "base_uri": "https://localhost:8080/"
        },
        "id": "uep2ND20I_e7",
        "outputId": "d297a22b-f738-4c0e-b6ac-377306c31104"
      },
      "execution_count": null,
      "outputs": [
        {
          "output_type": "stream",
          "name": "stdout",
          "text": [
            "enter12\n",
            "all unique\n",
            "enter12\n",
            "duplication\n"
          ]
        }
      ]
    }
  ]
}