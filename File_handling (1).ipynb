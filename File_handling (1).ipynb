{
 "cells": [
  {
   "cell_type": "code",
   "execution_count": null,
   "id": "7d0d593c",
   "metadata": {},
   "outputs": [],
   "source": [
    "#write a function in python to read the content from a text file poem.txt line by line and displey the same on screen"
   ]
  },
  {
   "cell_type": "code",
   "execution_count": 4,
   "id": "599e55a9",
   "metadata": {},
   "outputs": [
    {
     "name": "stdout",
     "output_type": "stream",
     "text": [
      "Raj Raut\n",
      "Krushna Padole"
     ]
    }
   ],
   "source": [
    "def read_file():\n",
    "    file = open(\"poem1.txt\")\n",
    "    for line in file:\n",
    "        print(line,end=\"\")\n",
    "    file.close()\n",
    "    \n",
    "read_file()"
   ]
  },
  {
   "cell_type": "code",
   "execution_count": null,
   "id": "2fe39552",
   "metadata": {},
   "outputs": [],
   "source": [
    "#write a fumction in python to count the number of lines from a text file story.txt which is not starting with an alphabet T"
   ]
  },
  {
   "cell_type": "code",
   "execution_count": 39,
   "id": "4590e4d8",
   "metadata": {},
   "outputs": [
    {
     "name": "stdout",
     "output_type": "stream",
     "text": [
      "No line starting with 'T'= 2\n"
     ]
    }
   ],
   "source": [
    "def line_count():\n",
    "    file = open(\"story.txt\",\"r\")\n",
    "    count=0\n",
    "    for line in file:\n",
    "        if line[0] not in 'Tt':\n",
    "            count+= 1\n",
    "    file.close()\n",
    "    print(\"No line starting with 'T'=\",count)\n",
    "        \n",
    "line_count()"
   ]
  },
  {
   "cell_type": "code",
   "execution_count": null,
   "id": "15d06317",
   "metadata": {},
   "outputs": [],
   "source": [
    "#write a function  in python to count and displey the total number of word in a text file"
   ]
  },
  {
   "cell_type": "code",
   "execution_count": 15,
   "id": "6a1ddb99",
   "metadata": {},
   "outputs": [
    {
     "name": "stdout",
     "output_type": "stream",
     "text": [
      "total words are : 7\n"
     ]
    }
   ],
   "source": [
    "def count_word():\n",
    "    file = open(\"notes.txt\",\"r\")\n",
    "    count=0\n",
    "    data=file.read()\n",
    "    words=data.split()\n",
    "    for word in words:\n",
    "        count+=1\n",
    "    print(\"total words are :\",count)\n",
    "    file.close()\n",
    "count_word()"
   ]
  },
  {
   "cell_type": "code",
   "execution_count": null,
   "id": "9fb40905",
   "metadata": {},
   "outputs": [],
   "source": [
    "#write a function in python to read liner from a TEXT FILE NOTE.TXT. YOUR FUNCTION SHould find and display the occurance of the word THE"
   ]
  },
  {
   "cell_type": "code",
   "execution_count": 18,
   "id": "b79bbf25",
   "metadata": {},
   "outputs": [
    {
     "name": "stdout",
     "output_type": "stream",
     "text": [
      "5\n"
     ]
    }
   ],
   "source": [
    "def count_word():\n",
    "    file = open(\"note.txt\",\"r\")\n",
    "    count=0\n",
    "    data=file.read()\n",
    "    words=data.split()\n",
    "    for word in words:\n",
    "        if word == \"the\" or word == \"The\":\n",
    "            count += 1\n",
    "    print(count)\n",
    "    file.close()\n",
    "count_word()"
   ]
  },
  {
   "cell_type": "code",
   "execution_count": null,
   "id": "9772b62a",
   "metadata": {},
   "outputs": [],
   "source": [
    "#write a function display_word() in python to read lines from a text file story.txt and display those word which are less then 4 characters"
   ]
  },
  {
   "cell_type": "code",
   "execution_count": 25,
   "id": "0289676d",
   "metadata": {},
   "outputs": [
    {
     "name": "stdout",
     "output_type": "stream",
     "text": [
      "i am raj how are you "
     ]
    }
   ],
   "source": [
    "def displey_word():\n",
    "    file=open(\"story1.txt\",\"r\")\n",
    "    data=file.read()\n",
    "    words=data.split()\n",
    "    for word in words:\n",
    "        if len(word)<4:\n",
    "            print(word,end=\" \")\n",
    "    file.close()\n",
    "displey_word()"
   ]
  },
  {
   "cell_type": "code",
   "execution_count": null,
   "id": "44b258db",
   "metadata": {},
   "outputs": [],
   "source": [
    "#write a function in python to count the word this and these present in the text file artical.txt "
   ]
  },
  {
   "cell_type": "code",
   "execution_count": 27,
   "id": "49367a93",
   "metadata": {},
   "outputs": [
    {
     "name": "stdout",
     "output_type": "stream",
     "text": [
      "5\n"
     ]
    }
   ],
   "source": [
    "def count_word():\n",
    "    file = open(\"artical.txt\",\"r\")\n",
    "    count=0\n",
    "    data=file.read()\n",
    "    words=data.split()\n",
    "    for word in words:\n",
    "        if word == \"this\" or word == \"these\":\n",
    "            count += 1\n",
    "    print(count)\n",
    "    file.close()\n",
    "count_word()"
   ]
  },
  {
   "cell_type": "code",
   "execution_count": null,
   "id": "12ad7404",
   "metadata": {},
   "outputs": [],
   "source": [
    "#write a function in python to count word in a file those are ending with alphabet e"
   ]
  },
  {
   "cell_type": "code",
   "execution_count": 29,
   "id": "2492b8db",
   "metadata": {},
   "outputs": [
    {
     "name": "stdout",
     "output_type": "stream",
     "text": [
      "7\n"
     ]
    }
   ],
   "source": [
    "def count_word():\n",
    "    file = open(\"artical.txt\",\"r\")\n",
    "    count=0\n",
    "    data=file.read()\n",
    "    words=data.split()\n",
    "    for word in words:\n",
    "        if word[-1] == 'e':\n",
    "            count += 1\n",
    "    print(count)\n",
    "    file.close()\n",
    "count_word()"
   ]
  },
  {
   "cell_type": "code",
   "execution_count": null,
   "id": "50960a69",
   "metadata": {},
   "outputs": [],
   "source": [
    "#write a function in python to count uppercase character in a text file"
   ]
  },
  {
   "cell_type": "code",
   "execution_count": 33,
   "id": "e16971fe",
   "metadata": {},
   "outputs": [
    {
     "name": "stdout",
     "output_type": "stream",
     "text": [
      "5\n"
     ]
    }
   ],
   "source": [
    "def count_word():\n",
    "    file = open(\"artical.txt\",\"r\")\n",
    "    data=file.read()\n",
    "    count=0\n",
    "    for letter in data:\n",
    "        if letter.isupper():\n",
    "            count += 1\n",
    "    print(count)\n",
    "    file.close()\n",
    "count_word()"
   ]
  },
  {
   "cell_type": "code",
   "execution_count": null,
   "id": "2fcbd86f",
   "metadata": {},
   "outputs": [],
   "source": [
    "#a text file name name matter contains some text which need to be display auch that every next character is separated by a symbol # write a function defination for gash_display() in python that would display the entire content of the file matter.txt in the desired format"
   ]
  },
  {
   "cell_type": "code",
   "execution_count": 40,
   "id": "c6fd85c3",
   "metadata": {},
   "outputs": [
    {
     "name": "stdout",
     "output_type": "stream",
     "text": [
      "T#H#I#S# #I#S# #A#N# #A#P#P#L#E# #M#O#B#I#L#E#"
     ]
    }
   ],
   "source": [
    "def hash_display():\n",
    "    file = open(\"matter.txt\",'r')\n",
    "    count=0\n",
    "    data=file.read()\n",
    "    word=data.split()\n",
    "    for letter in data:\n",
    "        print(letter,end=\"#\")\n",
    "    file.close()\n",
    "hash_display()"
   ]
  },
  {
   "cell_type": "code",
   "execution_count": null,
   "id": "f12907aa",
   "metadata": {},
   "outputs": [],
   "source": [
    "#aditi has used a text"
   ]
  }
 ],
 "metadata": {
  "kernelspec": {
   "display_name": "Python 3 (ipykernel)",
   "language": "python",
   "name": "python3"
  },
  "language_info": {
   "codemirror_mode": {
    "name": "ipython",
    "version": 3
   },
   "file_extension": ".py",
   "mimetype": "text/x-python",
   "name": "python",
   "nbconvert_exporter": "python",
   "pygments_lexer": "ipython3",
   "version": "3.11.5"
  }
 },
 "nbformat": 4,
 "nbformat_minor": 5
}
