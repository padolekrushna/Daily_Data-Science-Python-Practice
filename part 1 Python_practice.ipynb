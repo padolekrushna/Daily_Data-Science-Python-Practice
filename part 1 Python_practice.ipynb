{
  "nbformat": 4,
  "nbformat_minor": 0,
  "metadata": {
    "colab": {
      "provenance": [],
      "authorship_tag": "ABX9TyNOcJPEF8EOeHvwfl8y+YSZ",
      "include_colab_link": true
    },
    "kernelspec": {
      "name": "python3",
      "display_name": "Python 3"
    },
    "language_info": {
      "name": "python"
    }
  },
  "cells": [
    {
      "cell_type": "markdown",
      "metadata": {
        "id": "view-in-github",
        "colab_type": "text"
      },
      "source": [
        "<a href=\"https://colab.research.google.com/github/padolekrushna/Daily_Data-Science-Python-Practice/blob/main/Python_practice.ipynb\" target=\"_parent\"><img src=\"https://colab.research.google.com/assets/colab-badge.svg\" alt=\"Open In Colab\"/></a>"
      ]
    },
    {
      "cell_type": "markdown",
      "source": [
        "Welcome to the Data Science Python Practice Repository! This repository is designed to provide a platform for practicing Python programming in the field of data science. It offers a wide range of code snippets and exercises to help you enhance your Python skills, with a particular focus on data analysis, machine learning, and data visualization."
      ],
      "metadata": {
        "id": "4ahqrBeL2vO7"
      }
    },
    {
      "cell_type": "code",
      "source": [
        "# Importing necessary libraries\n",
        "import numpy as np\n",
        "import pandas as pd\n",
        "import seaborn as sns\n",
        "import matplotlib.pyplot as plt\n",
        "%matplotlib inline"
      ],
      "metadata": {
        "id": "C_cFBrKI21KW"
      },
      "execution_count": null,
      "outputs": []
    },
    {
      "cell_type": "markdown",
      "source": [
        "Q1) predicting number is even or odd in python."
      ],
      "metadata": {
        "id": "CZmZMs3r3qbE"
      }
    },
    {
      "cell_type": "code",
      "source": [
        "x = int(input(\"Enter a number: \"))\n",
        "\n",
        "if x % 2 == 0:\n",
        "    print(x, \"is an even number\")\n",
        "else:\n",
        "    print(x, \"is an odd number\")\n"
      ],
      "metadata": {
        "id": "U7Ho0wMQ24Tl",
        "outputId": "3458a621-1955-4e2d-e10c-a47aaa76e259",
        "colab": {
          "base_uri": "https://localhost:8080/"
        }
      },
      "execution_count": null,
      "outputs": [
        {
          "output_type": "stream",
          "name": "stdout",
          "text": [
            "Enter a number: 100\n",
            "100 is an even number\n"
          ]
        }
      ]
    },
    {
      "cell_type": "markdown",
      "source": [
        "Q2) Python Program to Find Area of a Circle"
      ],
      "metadata": {
        "id": "jIqaj9ppg2LI"
      }
    },
    {
      "cell_type": "code",
      "source": [
        "def findArea(r):\n",
        "\tPI = 3.142\n",
        "\treturn PI * (r*r);\n",
        "print(\"Area is\",findArea(5));"
      ],
      "metadata": {
        "id": "tMo0g6_Yg29V",
        "outputId": "96c043e8-d955-45c7-98c8-de5171bafcba",
        "colab": {
          "base_uri": "https://localhost:8080/"
        }
      },
      "execution_count": null,
      "outputs": [
        {
          "output_type": "stream",
          "name": "stdout",
          "text": [
            "Area is 78.55\n"
          ]
        }
      ]
    },
    {
      "cell_type": "markdown",
      "source": [
        "Q3) Python Program to Replace all Occurrences of ‘a’ with $ in a String."
      ],
      "metadata": {
        "id": "-esBSXu9EjRR"
      }
    },
    {
      "cell_type": "code",
      "source": [
        "str1 = \"Krushna PADOLE\"\n",
        "str2 = \"\"\n",
        "for char in range(0, len(str1)):\n",
        "\tif(str1[char]== \"a\" or str1[char]== \"A\"):\n",
        "\t\tstr2 += '$'\n",
        "\telse:\n",
        "\t\tstr2 += str1[char]\n",
        "print(\"Modified string : \",str2)"
      ],
      "metadata": {
        "id": "PdPTRvz6HcvV",
        "outputId": "7f3b51c8-4d97-4685-8b38-9eca63a51191",
        "colab": {
          "base_uri": "https://localhost:8080/"
        }
      },
      "execution_count": null,
      "outputs": [
        {
          "output_type": "stream",
          "name": "stdout",
          "text": [
            "Modified string :  Krushn$ P$DOLE\n"
          ]
        }
      ]
    },
    {
      "cell_type": "markdown",
      "source": [
        "Q4) Python Program to Calculate the Length of a String Without using Library Functions."
      ],
      "metadata": {
        "id": "sDeiUV0IJf5c"
      }
    },
    {
      "cell_type": "code",
      "source": [
        "string=input(\"Enter string:\")\n",
        "count=0\n",
        "for i in string:\n",
        "      count+=1\n",
        "print(\"Length of the string is:\",count)"
      ],
      "metadata": {
        "id": "ftHUB-L7JgJw",
        "outputId": "154cba5b-d450-46a0-8441-07c53fee1a15",
        "colab": {
          "base_uri": "https://localhost:8080/"
        }
      },
      "execution_count": null,
      "outputs": [
        {
          "output_type": "stream",
          "name": "stdout",
          "text": [
            "Enter string:Krushna padole\n",
            "Length of the string is: 14\n"
          ]
        }
      ]
    },
    {
      "cell_type": "markdown",
      "source": [
        "Q5) Python program to Calculate Frequency of a Characters in a String."
      ],
      "metadata": {
        "id": "m9KBlfPaLQlR"
      }
    },
    {
      "cell_type": "code",
      "source": [
        "str1 = \"Krushna Padole\"\n",
        "char_count = {}\n",
        "for char in str1:\n",
        "    if char in char_count:\n",
        "        char_count[char] += 1\n",
        "    else:\n",
        "        char_count[char] = 1\n",
        "print(char_count)"
      ],
      "metadata": {
        "id": "NPw_fbEwTiXL",
        "outputId": "d0319e08-c054-44db-d75c-461d7e654f41",
        "colab": {
          "base_uri": "https://localhost:8080/"
        }
      },
      "execution_count": null,
      "outputs": [
        {
          "output_type": "stream",
          "name": "stdout",
          "text": [
            "{'K': 1, 'r': 1, 'u': 1, 's': 1, 'h': 1, 'n': 1, 'a': 2, ' ': 1, 'P': 1, 'd': 1, 'o': 1, 'l': 1, 'e': 1}\n"
          ]
        }
      ]
    },
    {
      "cell_type": "markdown",
      "source": [
        "Q6) Python Program to Check if a String is Palindrome or Not."
      ],
      "metadata": {
        "id": "_aFdo-VkPMae"
      }
    },
    {
      "cell_type": "code",
      "source": [
        "x = input(\"enter a string : \")\n",
        "y = \"\"\n",
        "for i in x:\n",
        "\ty = i + y\n",
        "if (x == y):\n",
        "\tprint(\"Yes its palindrome\")\n",
        "else:\n",
        "\tprint(\"No palindrome\")"
      ],
      "metadata": {
        "colab": {
          "base_uri": "https://localhost:8080/"
        },
        "id": "Lt7RN6_CPMmx",
        "outputId": "16ce8d5c-0c57-4216-ac5d-6f434202ddc4"
      },
      "execution_count": null,
      "outputs": [
        {
          "output_type": "stream",
          "name": "stdout",
          "text": [
            "enter a string : abccba\n",
            "Yes its palindrome\n"
          ]
        }
      ]
    },
    {
      "cell_type": "markdown",
      "source": [
        "Q7) Python program to calculate the number of digits and letters in a string."
      ],
      "metadata": {
        "id": "tBEXVaf0o2Zx"
      }
    },
    {
      "cell_type": "code",
      "source": [
        "def count(input_string):\n",
        "    num_digits = 0\n",
        "    num_letters = 0\n",
        "\n",
        "    for i in input_string:\n",
        "\n",
        "        if '0' <= i <= '9':\n",
        "            num_digits += 1\n",
        "        else:\n",
        "            if 'a' <= i.lower() <= 'z':\n",
        "                num_letters += 1\n",
        "\n",
        "    print(\"Number of digits:\", num_digits)\n",
        "    print(\"Number of letters:\", num_letters)\n",
        "\n",
        "input_string = input(\"Enter a string: \")\n",
        "count(input_string)"
      ],
      "metadata": {
        "colab": {
          "base_uri": "https://localhost:8080/"
        },
        "id": "74TRcivlqh2H",
        "outputId": "915a6320-390b-4217-d04c-d0339b1606e2"
      },
      "execution_count": null,
      "outputs": [
        {
          "output_type": "stream",
          "name": "stdout",
          "text": [
            "Enter a string: krushna123\n",
            "Number of digits: 3\n",
            "Number of letters: 7\n"
          ]
        }
      ]
    },
    {
      "cell_type": "markdown",
      "source": [
        "Day 8) Remove the characters which have odd index values of a given string"
      ],
      "metadata": {
        "id": "xYpf7RbzFyvY"
      }
    },
    {
      "cell_type": "code",
      "source": [
        "def odd_values_string(str):\n",
        "    result = \"\"\n",
        "    for i in range(len(str)):\n",
        "        if i % 2 == 0:\n",
        "            result = result + str[i]\n",
        "    return result\n",
        "print(odd_values_string('krushna padole'))"
      ],
      "metadata": {
        "colab": {
          "base_uri": "https://localhost:8080/"
        },
        "id": "vhE9taCRFy2_",
        "outputId": "a160d7e3-20ba-48fe-ade2-a4d5234e1e24"
      },
      "execution_count": null,
      "outputs": [
        {
          "output_type": "stream",
          "name": "stdout",
          "text": [
            "kuhapdl\n"
          ]
        }
      ]
    },
    {
      "cell_type": "markdown",
      "source": [
        "Day 9) Remove special symbols / punctuation from a string."
      ],
      "metadata": {
        "id": "ReFp87U8Gsza"
      }
    },
    {
      "cell_type": "code",
      "source": [
        "test_str = input(\"enter sring\")\n",
        "print(\"The original string is : \" + test_str)\n",
        "punc = '''!()-[]{};:'\"\\,<>./?@#$%^&*_~'''\n",
        "res=\" \"\n",
        "for ele in test_str:\n",
        "\tif ele not in punc:\n",
        "\t\tres+=ele\n",
        "print(\"The string after punctuation filter : \" + res)\n"
      ],
      "metadata": {
        "colab": {
          "base_uri": "https://localhost:8080/"
        },
        "id": "ndYYGPWbGs8_",
        "outputId": "9dd7ce2b-4311-442b-cc4b-54c0e0c5051f"
      },
      "execution_count": null,
      "outputs": [
        {
          "output_type": "stream",
          "name": "stdout",
          "text": [
            "enter sringKrushna@_123@&padole%$_\n",
            "The original string is : Krushna@_123@&padole%$_\n",
            "The string after punctuation filter :  Krushna123padole\n"
          ]
        }
      ]
    },
    {
      "cell_type": "markdown",
      "source": [
        "Day 10) write pythom program to reverse a tuple in set and aslo covert tuple to string."
      ],
      "metadata": {
        "id": "U987Z7OkEfnb"
      }
    },
    {
      "cell_type": "code",
      "source": [
        "from pickle import TUPLE2\n",
        "tuple1=(\"krushna\",'padole',9.8,10)\n",
        "team\n",
        "team=tuple(reversed(tuple1))\n",
        "print(team)\n",
        "TUPLE2 = ('p', 'y', 't', 'h', 'o', 'n')\n",
        "str = ''.join(TUPLE2)\n",
        "print(str)"
      ],
      "metadata": {
        "id": "6iHw6gVUEfv0",
        "outputId": "71ede5a0-277c-48f3-ff7c-1aa44924c0eb",
        "colab": {
          "base_uri": "https://localhost:8080/"
        }
      },
      "execution_count": null,
      "outputs": [
        {
          "output_type": "stream",
          "name": "stdout",
          "text": [
            "(10, 9.8, 'padole', 'krushna')\n",
            "python\n"
          ]
        }
      ]
    },
    {
      "cell_type": "markdown",
      "source": [
        "Day 11) write python program to add an item in a tuple."
      ],
      "metadata": {
        "id": "6QrbiwHCJonv"
      }
    },
    {
      "cell_type": "code",
      "source": [
        "t = (10,40,50,70,90)\n",
        "t = t + (20,)\n",
        "l = list(t)\n",
        "l.append(30)\n",
        "t = tuple(l)\n",
        "print(t)"
      ],
      "metadata": {
        "id": "1Q05-ruhFcsd",
        "outputId": "5d2a6158-e42c-4c7a-c660-fe4b4fdd0a2d",
        "colab": {
          "base_uri": "https://localhost:8080/"
        }
      },
      "execution_count": 3,
      "outputs": [
        {
          "output_type": "stream",
          "name": "stdout",
          "text": [
            "(10, 40, 50, 70, 90, 20, 30)\n"
          ]
        }
      ]
    },
    {
      "cell_type": "markdown",
      "source": [
        "Day 12) copy element 44 and 55 from the following tuple into a new tuple\n",
        "        tuple1=(11,22,33,44,55,66)"
      ],
      "metadata": {
        "id": "Tsg6zFAhKzR7"
      }
    },
    {
      "cell_type": "code",
      "source": [
        "tuple1 = (11, 22, 33, 44, 55, 66)\n",
        "tuple2 = tuple1[3:-1]\n",
        "print(tuple2)"
      ],
      "metadata": {
        "id": "cKxClEf9K1Sx",
        "outputId": "ab8c6d26-12c6-4463-b9d6-f29ab2285c85",
        "colab": {
          "base_uri": "https://localhost:8080/"
        }
      },
      "execution_count": 4,
      "outputs": [
        {
          "output_type": "stream",
          "name": "stdout",
          "text": [
            "(44, 55)\n"
          ]
        }
      ]
    }
  ]
}
