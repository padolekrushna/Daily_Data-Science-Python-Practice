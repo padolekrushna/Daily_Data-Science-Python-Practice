{
  "nbformat": 4,
  "nbformat_minor": 0,
  "metadata": {
    "colab": {
      "provenance": [],
      "authorship_tag": "ABX9TyPxZ64w9af16uRBxZTJk6hf",
      "include_colab_link": true
    },
    "kernelspec": {
      "name": "python3",
      "display_name": "Python 3"
    },
    "language_info": {
      "name": "python"
    }
  },
  "cells": [
    {
      "cell_type": "markdown",
      "metadata": {
        "id": "view-in-github",
        "colab_type": "text"
      },
      "source": [
        "<a href=\"https://colab.research.google.com/github/padolekrushna/Daily_Data-Science-Python-Practice/blob/main/part_4_python_practice.ipynb\" target=\"_parent\"><img src=\"https://colab.research.google.com/assets/colab-badge.svg\" alt=\"Open In Colab\"/></a>"
      ]
    },
    {
      "cell_type": "markdown",
      "source": [
        "Day 50) Insert a function that prints a greeting, and execute it on the p1 object:"
      ],
      "metadata": {
        "id": "3r2OJ7M86arb"
      }
    },
    {
      "cell_type": "code",
      "execution_count": null,
      "metadata": {
        "colab": {
          "base_uri": "https://localhost:8080/"
        },
        "id": "hnXm7w-75R28",
        "outputId": "f4210c76-0e7d-480a-dcde-4afb0ab035b8"
      },
      "outputs": [
        {
          "output_type": "stream",
          "name": "stdout",
          "text": [
            "Hello my name is John\n"
          ]
        }
      ],
      "source": [
        "class Person:\n",
        "  def __init__(self, name, age):\n",
        "    self.name = name\n",
        "    self.age = age\n",
        "\n",
        "  def myfunc(self):\n",
        "    print(\"Hello my name is \" + self.name)\n",
        "\n",
        "p1 = Person(\"John\", 36)\n",
        "p1.myfunc()"
      ]
    },
    {
      "cell_type": "markdown",
      "source": [
        "Day 51)Given two strings of comma-seperated values, sort and return the second list based on the ordering of the first list.\n"
      ],
      "metadata": {
        "id": "_JmssbYRAH52"
      }
    },
    {
      "cell_type": "code",
      "source": [
        "def sort_list(list1, list2):\n",
        "\n",
        "    zipped_pairs = zip(list2, list1)\n",
        "\n",
        "    z = [x for _, x in sorted(zipped_pairs)]\n",
        "\n",
        "    return z\n",
        "\n",
        "\n",
        "n = \"a,b,c,d,e,f,g,h,i\"\n",
        "m = \"0,1,1,0,1,2,2,0,1\"\n",
        "x = n.split(\",\")\n",
        "y = m.split(\",\")\n",
        "print(sort_list(x, y))\n",
        "\n",
        "\n",
        "n = \"g,e,e,k,s,f,o,r,g,e,e,k,s\"\n",
        "m = \"0,1,1,0,1,2,2,0,1\"\n",
        "x = n.split(\",\")\n",
        "y = m.split(\",\")\n",
        "print(sort_list(x, y))"
      ],
      "metadata": {
        "id": "tvULHXGP6k3b",
        "outputId": "38e3a8ff-f0fa-40e8-8c6e-ae6f03f3519d",
        "colab": {
          "base_uri": "https://localhost:8080/"
        }
      },
      "execution_count": null,
      "outputs": [
        {
          "output_type": "stream",
          "name": "stdout",
          "text": [
            "['a', 'd', 'h', 'b', 'c', 'e', 'i', 'f', 'g']\n",
            "['g', 'k', 'r', 'e', 'e', 'g', 's', 'f', 'o']\n"
          ]
        }
      ]
    },
    {
      "cell_type": "markdown",
      "source": [
        "Day 52) Given an list of 100 numbers, find the (unique set) of duplicate values."
      ],
      "metadata": {
        "id": "bA2VXb5bAQ5s"
      }
    },
    {
      "cell_type": "code",
      "source": [
        "random_list = [0, 0, 1, 1, 2, 3, 4, 5]\n",
        "\n",
        "print(random_list)\n",
        "\n",
        "def keep_duplicates(iterable):\n",
        "    seen = set()\n",
        "    duplicates = set()\n",
        "    for x in iterable:\n",
        "        if x in seen and x not in duplicates:\n",
        "            yield x\n",
        "            duplicates.add(x)\n",
        "        else:\n",
        "            seen.add(x)\n",
        "\n",
        "\n",
        "print(list(keep_duplicates(random_list)))"
      ],
      "metadata": {
        "id": "uaDgyp8oAPLV",
        "outputId": "c4e928d9-d54e-47ad-ff8b-964afadfc094",
        "colab": {
          "base_uri": "https://localhost:8080/"
        }
      },
      "execution_count": null,
      "outputs": [
        {
          "output_type": "stream",
          "name": "stdout",
          "text": [
            "[0, 0, 1, 1, 2, 3, 4, 5]\n",
            "[0, 1]\n"
          ]
        }
      ]
    },
    {
      "cell_type": "markdown",
      "source": [
        "Day 53) Given an list of 100 numbers, find the (unique set) of unique values."
      ],
      "metadata": {
        "id": "LN-tq2V0AfD5"
      }
    },
    {
      "cell_type": "code",
      "source": [
        "import random\n",
        "random_list = [random.randint(0,100) for i in range(100)]\n",
        "print(list)\n",
        "\n",
        "seen = set()\n",
        "uniq = []\n",
        "for x in random_list:\n",
        "    if x not in seen:\n",
        "        uniq.append(x)\n",
        "        seen.add(x)\n",
        "\n",
        "print(seen)"
      ],
      "metadata": {
        "id": "PN20XBYHAbdJ",
        "outputId": "1861decc-e581-419d-aa6a-955262364785",
        "colab": {
          "base_uri": "https://localhost:8080/"
        }
      },
      "execution_count": null,
      "outputs": [
        {
          "output_type": "stream",
          "name": "stdout",
          "text": [
            "<class 'list'>\n",
            "{1, 2, 3, 6, 7, 11, 14, 16, 17, 18, 22, 23, 24, 26, 30, 34, 35, 37, 38, 40, 41, 42, 43, 46, 47, 48, 49, 50, 51, 53, 54, 55, 56, 58, 60, 62, 63, 64, 66, 68, 69, 70, 73, 75, 76, 78, 79, 80, 81, 83, 84, 86, 87, 88, 89, 90, 94, 96, 97, 99, 100}\n"
          ]
        }
      ]
    },
    {
      "cell_type": "markdown",
      "source": [
        "Day 54)\n",
        "Find all of the different permutations of a string. Your answer should not contain duplicates.\n"
      ],
      "metadata": {
        "id": "j4pN8UQhAr-a"
      }
    },
    {
      "cell_type": "code",
      "source": [
        "from itertools import permutations\n",
        "\n",
        "string = \"stass\"\n",
        "perms = [''.join(p) for p in permutations(string)]\n",
        "print(perms)\n",
        "\n",
        "print(\"With duplicates: \", len(perms), \"Without duplicates: \", len(set(perms)))"
      ],
      "metadata": {
        "id": "C9IHT20QAsOo",
        "outputId": "e3267877-74fb-46e3-a9f1-8d550a0f7663",
        "colab": {
          "base_uri": "https://localhost:8080/"
        }
      },
      "execution_count": null,
      "outputs": [
        {
          "output_type": "stream",
          "name": "stdout",
          "text": [
            "['stass', 'stass', 'stsas', 'stssa', 'stsas', 'stssa', 'satss', 'satss', 'sasts', 'sasst', 'sasts', 'sasst', 'sstas', 'sstsa', 'ssats', 'ssast', 'sssta', 'sssat', 'sstas', 'sstsa', 'ssats', 'ssast', 'sssta', 'sssat', 'tsass', 'tsass', 'tssas', 'tsssa', 'tssas', 'tsssa', 'tasss', 'tasss', 'tasss', 'tasss', 'tasss', 'tasss', 'tssas', 'tsssa', 'tsass', 'tsass', 'tsssa', 'tssas', 'tssas', 'tsssa', 'tsass', 'tsass', 'tsssa', 'tssas', 'astss', 'astss', 'assts', 'assst', 'assts', 'assst', 'atsss', 'atsss', 'atsss', 'atsss', 'atsss', 'atsss', 'assts', 'assst', 'astss', 'astss', 'assst', 'assts', 'assts', 'assst', 'astss', 'astss', 'assst', 'assts', 'sstas', 'sstsa', 'ssats', 'ssast', 'sssta', 'sssat', 'stsas', 'stssa', 'stass', 'stass', 'stssa', 'stsas', 'sasts', 'sasst', 'satss', 'satss', 'sasst', 'sasts', 'sssta', 'sssat', 'sstsa', 'sstas', 'ssast', 'ssats', 'sstas', 'sstsa', 'ssats', 'ssast', 'sssta', 'sssat', 'stsas', 'stssa', 'stass', 'stass', 'stssa', 'stsas', 'sasts', 'sasst', 'satss', 'satss', 'sasst', 'sasts', 'sssta', 'sssat', 'sstsa', 'sstas', 'ssast', 'ssats']\n",
            "With duplicates:  120 Without duplicates:  20\n"
          ]
        }
      ]
    },
    {
      "cell_type": "markdown",
      "source": [
        "Day 55) Read data from a API call that gives org structure data in JSON format and arrange that data in requested format"
      ],
      "metadata": {
        "id": "SmE8-YgBA6UU"
      }
    },
    {
      "cell_type": "code",
      "source": [
        "import requests\n",
        "\n",
        "resp = requests.get(\"https://api.spacexdata.com/v3/capsules/past\")\n",
        "\n",
        "if resp.status_code != 200:\n",
        "    # This means something went wrong.\n",
        "    raise ApiError('GET /tasks/ {}'.format(resp.status_code))\n",
        "\n",
        "for item in resp.json():\n",
        "    print('Capsule: {} Time: {} Status: {}'.format(item['capsule_serial'], item['original_launch_unix'], item['status']))\n"
      ],
      "metadata": {
        "id": "4rVStbesAqod",
        "outputId": "8beb4680-4490-434f-a544-084df4af37d0",
        "colab": {
          "base_uri": "https://localhost:8080/"
        }
      },
      "execution_count": null,
      "outputs": [
        {
          "output_type": "stream",
          "name": "stdout",
          "text": [
            "Capsule: C101 Time: 1291822980 Status: retired\n",
            "Capsule: C102 Time: 1335944640 Status: retired\n",
            "Capsule: C103 Time: 1349656500 Status: unknown\n",
            "Capsule: C104 Time: 1362165000 Status: unknown\n",
            "Capsule: C105 Time: 1397849100 Status: unknown\n",
            "Capsule: C106 Time: 1411278720 Status: active\n",
            "Capsule: C107 Time: 1420883220 Status: unknown\n",
            "Capsule: C108 Time: 1429042200 Status: active\n",
            "Capsule: C109 Time: 1435501260 Status: destroyed\n",
            "Capsule: C110 Time: 1460148180 Status: active\n",
            "Capsule: C111 Time: 1468817100 Status: active\n",
            "Capsule: C112 Time: 1487515140 Status: active\n",
            "Capsule: C113 Time: 1502728260 Status: active\n",
            "Capsule: C201 Time: 1551512700 Status: active\n",
            "Capsule: C205 Time: 1579442400 Status: active\n",
            "Capsule: C206 Time: 1590866520 Status: active\n"
          ]
        }
      ]
    },
    {
      "cell_type": "markdown",
      "source": [
        "Day56)\n",
        "print LinkedIn if a number is divisible by 4 and 6, Linked if it is divisible by 4 and in it is by 6\n"
      ],
      "metadata": {
        "id": "Omd1vJEZA_rX"
      }
    },
    {
      "cell_type": "code",
      "source": [
        "for i in range(0, 100):\n",
        "    if i % 4 == 0 and i % 6 == 0:\n",
        "        print(i, \"Linkedin\")\n",
        "    elif i % 4 == 0:\n",
        "        print(i, \"Linked\")\n",
        "    elif i % 6 == 0:\n",
        "        print(i, \"in\")\n",
        "    else:\n",
        "        print(i)"
      ],
      "metadata": {
        "id": "BMjDgMukA_JA",
        "outputId": "0d9500f8-c0c3-4a3a-ffa2-2ce6f2b35212",
        "colab": {
          "base_uri": "https://localhost:8080/"
        },
        "collapsed": true
      },
      "execution_count": null,
      "outputs": [
        {
          "output_type": "stream",
          "name": "stdout",
          "text": [
            "0 Linkedin\n",
            "1\n",
            "2\n",
            "3\n",
            "4 Linked\n",
            "5\n",
            "6 in\n",
            "7\n",
            "8 Linked\n",
            "9\n",
            "10\n",
            "11\n",
            "12 Linkedin\n",
            "13\n",
            "14\n",
            "15\n",
            "16 Linked\n",
            "17\n",
            "18 in\n",
            "19\n",
            "20 Linked\n",
            "21\n",
            "22\n",
            "23\n",
            "24 Linkedin\n",
            "25\n",
            "26\n",
            "27\n",
            "28 Linked\n",
            "29\n",
            "30 in\n",
            "31\n",
            "32 Linked\n",
            "33\n",
            "34\n",
            "35\n",
            "36 Linkedin\n",
            "37\n",
            "38\n",
            "39\n",
            "40 Linked\n",
            "41\n",
            "42 in\n",
            "43\n",
            "44 Linked\n",
            "45\n",
            "46\n",
            "47\n",
            "48 Linkedin\n",
            "49\n",
            "50\n",
            "51\n",
            "52 Linked\n",
            "53\n",
            "54 in\n",
            "55\n",
            "56 Linked\n",
            "57\n",
            "58\n",
            "59\n",
            "60 Linkedin\n",
            "61\n",
            "62\n",
            "63\n",
            "64 Linked\n",
            "65\n",
            "66 in\n",
            "67\n",
            "68 Linked\n",
            "69\n",
            "70\n",
            "71\n",
            "72 Linkedin\n",
            "73\n",
            "74\n",
            "75\n",
            "76 Linked\n",
            "77\n",
            "78 in\n",
            "79\n",
            "80 Linked\n",
            "81\n",
            "82\n",
            "83\n",
            "84 Linkedin\n",
            "85\n",
            "86\n",
            "87\n",
            "88 Linked\n",
            "89\n",
            "90 in\n",
            "91\n",
            "92 Linked\n",
            "93\n",
            "94\n",
            "95\n",
            "96 Linkedin\n",
            "97\n",
            "98\n",
            "99\n"
          ]
        }
      ]
    },
    {
      "cell_type": "markdown",
      "source": [
        "Day 57) Given a string as your input, delete any reoccurring character, and return the new string. input = \"aabbcc\" output = \"abc\""
      ],
      "metadata": {
        "id": "VMphvw_YBNNg"
      }
    },
    {
      "cell_type": "code",
      "source": [
        "from itertools import groupby\n",
        "\n",
        "input = \"aabbcc\"\n",
        "output = ''.join(c for c, _ in groupby(input))\n",
        "print(output)"
      ],
      "metadata": {
        "id": "pt0dz21TBG4K",
        "outputId": "ae691673-277a-412b-ab00-ef42f1882919",
        "colab": {
          "base_uri": "https://localhost:8080/"
        }
      },
      "execution_count": null,
      "outputs": [
        {
          "output_type": "stream",
          "name": "stdout",
          "text": [
            "abc\n"
          ]
        }
      ]
    },
    {
      "cell_type": "markdown",
      "source": [
        "Day 58) Converting an Integer into Decimals"
      ],
      "metadata": {
        "id": "vrLeeE46BRwJ"
      }
    },
    {
      "cell_type": "code",
      "source": [
        "import decimal\n",
        "integer = 10\n",
        "print(decimal.Decimal(integer))\n",
        "print(type(decimal.Decimal(integer)))\n",
        "\n",
        "\n"
      ],
      "metadata": {
        "id": "BlfJZD6bBRCG",
        "outputId": "4bd93e05-8baa-4630-aecc-b4d867fcb4c1",
        "colab": {
          "base_uri": "https://localhost:8080/"
        }
      },
      "execution_count": null,
      "outputs": [
        {
          "output_type": "stream",
          "name": "stdout",
          "text": [
            "10\n",
            "<class 'decimal.Decimal'>\n"
          ]
        }
      ]
    },
    {
      "cell_type": "markdown",
      "source": [
        "Day 59 ) Converting an String of Integers into Decimals"
      ],
      "metadata": {
        "id": "ozERbAhlCMil"
      }
    },
    {
      "cell_type": "code",
      "source": [
        "import decimal\n",
        "string = '12345'\n",
        "print(decimal.Decimal(string))\n",
        "print(type(decimal.Decimal(string)))"
      ],
      "metadata": {
        "id": "mNmX6ea7CGJF",
        "outputId": "c65b386b-722d-41c8-e2c6-732793763238",
        "colab": {
          "base_uri": "https://localhost:8080/"
        }
      },
      "execution_count": null,
      "outputs": [
        {
          "output_type": "stream",
          "name": "stdout",
          "text": [
            "12345\n",
            "<class 'decimal.Decimal'>\n"
          ]
        }
      ]
    },
    {
      "cell_type": "markdown",
      "source": [
        "Day 60)Reversing a String using an Extended Slicing Technique"
      ],
      "metadata": {
        "id": "hyWaNDW1CTuG"
      }
    },
    {
      "cell_type": "code",
      "source": [
        "string = \"Python Programming\"\n",
        "print(string[::-1])\n",
        "\n"
      ],
      "metadata": {
        "id": "9DI3d4SDCRcm",
        "outputId": "b33603f2-def0-4fd1-ad21-dc24a6875eca",
        "colab": {
          "base_uri": "https://localhost:8080/"
        }
      },
      "execution_count": null,
      "outputs": [
        {
          "output_type": "stream",
          "name": "stdout",
          "text": [
            "gnimmargorP nohtyP\n"
          ]
        }
      ]
    },
    {
      "cell_type": "markdown",
      "source": [
        "Day 61) Counting Vowels in a Given Word"
      ],
      "metadata": {
        "id": "2bQu-v6NCc4i"
      }
    },
    {
      "cell_type": "code",
      "source": [
        "vowel = ['a', 'e', 'i', 'o', 'u']\n",
        "word = \"programming\"\n",
        "count = 0\n",
        "for character in word:\n",
        "    if character in vowel:\n",
        "        count += 1\n",
        "print(count)\n"
      ],
      "metadata": {
        "id": "_6Gu-HisCcXh",
        "outputId": "60b36a32-f467-4faf-c52d-9aad5e365627",
        "colab": {
          "base_uri": "https://localhost:8080/"
        }
      },
      "execution_count": null,
      "outputs": [
        {
          "output_type": "stream",
          "name": "stdout",
          "text": [
            "3\n"
          ]
        }
      ]
    },
    {
      "cell_type": "markdown",
      "source": [
        "Day 61)Counting Consonants in a Given Word"
      ],
      "metadata": {
        "id": "Mjqtyal3CmC_"
      }
    },
    {
      "cell_type": "code",
      "source": [
        "vowel = ['a', 'e', 'i', 'o', 'u']\n",
        "word = \"programming\"\n",
        "count = 0\n",
        "for character in word:\n",
        "    if character not in vowel:\n",
        "        count += 1\n",
        "print(count)\n"
      ],
      "metadata": {
        "id": "8hR-0g9hCjh-",
        "outputId": "4b7fa9b7-bcc7-48f0-8c40-fcb2914fdaf0",
        "colab": {
          "base_uri": "https://localhost:8080/"
        }
      },
      "execution_count": null,
      "outputs": [
        {
          "output_type": "stream",
          "name": "stdout",
          "text": [
            "8\n"
          ]
        }
      ]
    },
    {
      "cell_type": "markdown",
      "source": [
        "Day 62) Counting the Number of Occurances of a Character in a String"
      ],
      "metadata": {
        "id": "yemUVfqhCqiq"
      }
    },
    {
      "cell_type": "code",
      "source": [
        "word = \"python\"\n",
        "character = \"p\"\n",
        "count = 0\n",
        "for letter in word:\n",
        "    if letter == character:\n",
        "        count += 1\n",
        "print(count)\n",
        "\n"
      ],
      "metadata": {
        "id": "utFylIepCqE_",
        "outputId": "dfdd419a-efaf-47de-aa4f-e6f7d8fe0db1",
        "colab": {
          "base_uri": "https://localhost:8080/"
        }
      },
      "execution_count": null,
      "outputs": [
        {
          "output_type": "stream",
          "name": "stdout",
          "text": [
            "1\n"
          ]
        }
      ]
    },
    {
      "cell_type": "markdown",
      "source": [
        "Day 63) Writing Fibonacci Series"
      ],
      "metadata": {
        "id": "VBNdoa6BC3GN"
      }
    },
    {
      "cell_type": "code",
      "source": [
        "fib = [0,1]\n",
        "# Range starts from 0 by default\n",
        "for i in range(5):\n",
        "    fib.append(fib[-1] + fib[-2])\n",
        "\n",
        "# Converting the list of integers to string\n",
        "print(', '.join(str(e) for e in fib))\n"
      ],
      "metadata": {
        "id": "qmPNsNkWC2mG",
        "outputId": "94bca184-a64c-4da6-9ac6-c4b08674f278",
        "colab": {
          "base_uri": "https://localhost:8080/"
        }
      },
      "execution_count": null,
      "outputs": [
        {
          "output_type": "stream",
          "name": "stdout",
          "text": [
            "0, 1, 1, 2, 3, 5, 8\n"
          ]
        }
      ]
    },
    {
      "cell_type": "markdown",
      "source": [
        "Day 64)Finding the Maximum Number in a List"
      ],
      "metadata": {
        "id": "q2_kJTuPC_UT"
      }
    },
    {
      "cell_type": "code",
      "source": [
        "numberList = [15, 85, 35, 89, 125]\n",
        "\n",
        "maxNum = numberList[0]\n",
        "for num in numberList:\n",
        "    if maxNum < num:\n",
        "        maxNum = num\n",
        "print(maxNum)\n",
        "\n"
      ],
      "metadata": {
        "id": "MHOb95gAC_gA",
        "outputId": "8f3abe0f-f597-469f-e0fa-c467965e5d13",
        "colab": {
          "base_uri": "https://localhost:8080/"
        }
      },
      "execution_count": null,
      "outputs": [
        {
          "output_type": "stream",
          "name": "stdout",
          "text": [
            "125\n"
          ]
        }
      ]
    },
    {
      "cell_type": "markdown",
      "source": [
        "Day65) Finding the Minimum Number in a List"
      ],
      "metadata": {
        "id": "4aN5egxAC_ll"
      }
    },
    {
      "cell_type": "code",
      "source": [
        "numberList = [15, 85, 35, 89, 125, 2]\n",
        "\n",
        "minNum = numberList[0]\n",
        "for num in numberList:\n",
        "    if minNum > num:\n",
        "        minNum = num\n",
        "print(minNum)\n"
      ],
      "metadata": {
        "id": "JjV2Q8BsC_rO",
        "outputId": "f566d85f-646e-4e55-b4f3-acef4f5a67fd",
        "colab": {
          "base_uri": "https://localhost:8080/"
        }
      },
      "execution_count": null,
      "outputs": [
        {
          "output_type": "stream",
          "name": "stdout",
          "text": [
            "2\n"
          ]
        }
      ]
    },
    {
      "cell_type": "markdown",
      "source": [
        "Day 66) Finding the Middle Element in a List"
      ],
      "metadata": {
        "id": "Bq3Vsj8CC_xO"
      }
    },
    {
      "cell_type": "code",
      "source": [
        "numList = [1, 2, 3, 4, 5]\n",
        "midElement = int((len(numList)/2))\n",
        "\n",
        "print(numList[midElement])\n",
        "\n"
      ],
      "metadata": {
        "id": "WXtxvj5yC_29",
        "outputId": "4b9ad2d7-266c-4e48-b6d2-8685c30248e7",
        "colab": {
          "base_uri": "https://localhost:8080/"
        }
      },
      "execution_count": null,
      "outputs": [
        {
          "output_type": "stream",
          "name": "stdout",
          "text": [
            "3\n"
          ]
        }
      ]
    },
    {
      "cell_type": "markdown",
      "source": [
        "Day 67)Converting a List into a String"
      ],
      "metadata": {
        "id": "0GUjQVFvC_89"
      }
    },
    {
      "cell_type": "code",
      "source": [
        "lst = [\"P\", \"Y\", \"T\", \"H\", \"O\", \"N\"]\n",
        "string = ''.join(lst)\n",
        "\n",
        "print(string)\n",
        "print(type(string))\n"
      ],
      "metadata": {
        "id": "QEMGMr0EDAC7",
        "outputId": "f08f0c9d-ec06-4ef8-88a6-cfcedbd448d3",
        "colab": {
          "base_uri": "https://localhost:8080/"
        }
      },
      "execution_count": null,
      "outputs": [
        {
          "output_type": "stream",
          "name": "stdout",
          "text": [
            "PYTHON\n",
            "<class 'str'>\n"
          ]
        }
      ]
    },
    {
      "cell_type": "markdown",
      "source": [
        "Day 68)Adding Two List Elements Together"
      ],
      "metadata": {
        "id": "7efUGgH9DbEg"
      }
    },
    {
      "cell_type": "code",
      "source": [
        "lst1 = [1, 2, 3]\n",
        "lst2 = [4, 5, 6]\n",
        "\n",
        "res_lst = []\n",
        "for i in range(0, len(lst1)):\n",
        "    res_lst.append(lst1[i] + lst2[i])\n",
        "print(res_lst)\n",
        "\n"
      ],
      "metadata": {
        "id": "UmQogZJhDbLy",
        "outputId": "9fb9d004-4fde-423e-c290-6064681d90dc",
        "colab": {
          "base_uri": "https://localhost:8080/"
        }
      },
      "execution_count": null,
      "outputs": [
        {
          "output_type": "stream",
          "name": "stdout",
          "text": [
            "[5, 7, 9]\n"
          ]
        }
      ]
    },
    {
      "cell_type": "markdown",
      "source": [
        "Day69) Comparing Two Strings for Anagrams"
      ],
      "metadata": {
        "id": "k3OwegRVDbQ8"
      }
    },
    {
      "cell_type": "code",
      "source": [
        "str1 = \"Listen\"\n",
        "str2 = \"Silent\"\n",
        "\n",
        "str1 = list(str1.upper())\n",
        "str2 = list(str2.upper())\n",
        "str1.sort(), str2.sort()\n",
        "\n",
        "if(str1 == str2):\n",
        "    print(\"True\")\n",
        "else:\n",
        "    print(\"False\")\n",
        "\n"
      ],
      "metadata": {
        "id": "sSfOpMfkDbWd",
        "outputId": "d0d490d5-e4bc-46d8-8d2b-4bddf4dee40b",
        "colab": {
          "base_uri": "https://localhost:8080/"
        }
      },
      "execution_count": null,
      "outputs": [
        {
          "output_type": "stream",
          "name": "stdout",
          "text": [
            "True\n"
          ]
        }
      ]
    },
    {
      "cell_type": "markdown",
      "source": [
        "Day 70) Checking for Palindrome Using Extended Slicing Technique"
      ],
      "metadata": {
        "id": "_URd3GUEDba-"
      }
    },
    {
      "cell_type": "code",
      "source": [
        "str1 = \"Kayak\".lower()\n",
        "str2 = \"kayak\".lower()\n",
        "\n",
        "if(str1 == str2[::-1]):\n",
        "    print(\"True\")\n",
        "else:\n",
        "    print(\"False\")\n",
        "\n"
      ],
      "metadata": {
        "id": "Bjgh7-6DDbg7",
        "outputId": "74b5e547-85d7-4305-e795-f7bc3d975f0c",
        "colab": {
          "base_uri": "https://localhost:8080/"
        }
      },
      "execution_count": null,
      "outputs": [
        {
          "output_type": "stream",
          "name": "stdout",
          "text": [
            "True\n"
          ]
        }
      ]
    },
    {
      "cell_type": "markdown",
      "source": [
        "Day71) Counting the White Spaces in a String"
      ],
      "metadata": {
        "id": "J8MsGCArDblq"
      }
    },
    {
      "cell_type": "code",
      "source": [
        "string = \"P r ogramm in g \"\n",
        "print(string.count(' '))\n"
      ],
      "metadata": {
        "id": "44d0npzbDbr9",
        "outputId": "3966c902-0dcf-4d19-8e65-a21407a58d6d",
        "colab": {
          "base_uri": "https://localhost:8080/"
        }
      },
      "execution_count": null,
      "outputs": [
        {
          "output_type": "stream",
          "name": "stdout",
          "text": [
            "5\n"
          ]
        }
      ]
    },
    {
      "cell_type": "markdown",
      "source": [
        "Day 72) Counting Digits, Letters, and Spaces in a String"
      ],
      "metadata": {
        "id": "P4QAjrKlDbxa"
      }
    },
    {
      "cell_type": "code",
      "source": [
        "# Importing Regular Expressions Library\n",
        "import re\n",
        "\n",
        "name = 'Python is 1'\n",
        "\n",
        "digitCount = re.sub(\"[^0-9]\", \"\", name)\n",
        "letterCount = re.sub(\"[^a-zA-Z]\", \"\", name)\n",
        "spaceCount = re.findall(\"[ \\n]\", name)\n",
        "\n",
        "print(len(digitCount))\n",
        "print(len(letterCount))\n",
        "print(len(spaceCount))\n",
        "\n"
      ],
      "metadata": {
        "id": "ZEJSVB3XC8k9",
        "outputId": "c9846e30-d24b-43e0-e162-377cf63ea005",
        "colab": {
          "base_uri": "https://localhost:8080/"
        }
      },
      "execution_count": null,
      "outputs": [
        {
          "output_type": "stream",
          "name": "stdout",
          "text": [
            "1\n",
            "8\n",
            "2\n"
          ]
        }
      ]
    },
    {
      "cell_type": "markdown",
      "source": [
        "Day 73) Counting Special Characters in a String"
      ],
      "metadata": {
        "id": "HKkT6C0jD99r"
      }
    },
    {
      "cell_type": "code",
      "source": [
        "# Importing Regular Expressions Library\n",
        "import re\n",
        "spChar = \"!@#$%^&*()\"\n",
        "\n",
        "count = re.sub('[\\w]+', '', spChar)\n",
        "print(len(count))\n"
      ],
      "metadata": {
        "id": "j4uJBXtgD-EZ",
        "outputId": "29dc30f7-da01-4ff0-da14-aea47e5f8f36",
        "colab": {
          "base_uri": "https://localhost:8080/"
        }
      },
      "execution_count": null,
      "outputs": [
        {
          "output_type": "stream",
          "name": "stdout",
          "text": [
            "10\n"
          ]
        }
      ]
    },
    {
      "cell_type": "markdown",
      "source": [
        "Day74)Removing All Whitespace in a String"
      ],
      "metadata": {
        "id": "iosBYNH2D-J6"
      }
    },
    {
      "cell_type": "code",
      "source": [
        "import re\n",
        "\n",
        "string = \"C O D E\"\n",
        "spaces = re.compile(r'\\s+')\n",
        "result = re.sub(spaces, '', string)\n",
        "print(result)\n"
      ],
      "metadata": {
        "id": "Nrl047SCD-Ps",
        "outputId": "24f0ca79-e11d-47bd-c923-ce82f3250fbe",
        "colab": {
          "base_uri": "https://localhost:8080/"
        }
      },
      "execution_count": null,
      "outputs": [
        {
          "output_type": "stream",
          "name": "stdout",
          "text": [
            "CODE\n"
          ]
        }
      ]
    },
    {
      "cell_type": "markdown",
      "source": [
        "Day 75) Building a Pyramid in Python"
      ],
      "metadata": {
        "id": "zR03PSWxD-Ur"
      }
    },
    {
      "cell_type": "code",
      "source": [
        "floors = 3\n",
        "h = 2*floors-1\n",
        "for i in range(1, 2*floors, 2):\n",
        "    print('{:^{}}'.format('*'*i, h))\n"
      ],
      "metadata": {
        "id": "6hBdhdbAD-Zy",
        "outputId": "b57858e2-ead6-4799-b523-3bbdbcd0082e",
        "colab": {
          "base_uri": "https://localhost:8080/"
        }
      },
      "execution_count": null,
      "outputs": [
        {
          "output_type": "stream",
          "name": "stdout",
          "text": [
            "  *  \n",
            " *** \n",
            "*****\n"
          ]
        }
      ]
    },
    {
      "cell_type": "markdown",
      "source": [
        "Day 76)Randomizing the Items of a List in Python"
      ],
      "metadata": {
        "id": "32Agw5AsD-ek"
      }
    },
    {
      "cell_type": "code",
      "source": [
        "\n",
        "from random import shuffle\n",
        "\n",
        "lst = ['Python', 'is', 'Easy']\n",
        "shuffle(lst)\n",
        "print(lst)\n"
      ],
      "metadata": {
        "id": "2eDjzCDqD-jc",
        "outputId": "a51d9695-a8cf-4852-ba06-216890a42787",
        "colab": {
          "base_uri": "https://localhost:8080/"
        }
      },
      "execution_count": null,
      "outputs": [
        {
          "output_type": "stream",
          "name": "stdout",
          "text": [
            "['Easy', 'is', 'Python']\n"
          ]
        }
      ]
    },
    {
      "cell_type": "markdown",
      "source": [
        "Day 77) Given two arrays, write a python function to return the intersection of the two? For example, X = [1,5,9,0] and Y = [3,0,2,9] it should return [9,0]"
      ],
      "metadata": {
        "id": "rPhyWs_8EpxB"
      }
    },
    {
      "cell_type": "code",
      "source": [
        "def intersection(X, Y):\n",
        "    set_X = set(X)\n",
        "    set_Y = set(Y)\n",
        "    intersect = set_X.intersection(set_Y)\n",
        "    return list(intersect)\n",
        "X = [1, 5, 9, 0]\n",
        "Y = [3, 0, 2, 9]\n",
        "result = intersection(X, Y)\n",
        "print(result)"
      ],
      "metadata": {
        "id": "e1U-6QbkEkLP",
        "outputId": "01122063-7caa-4f12-f361-e3aeb92384b7",
        "colab": {
          "base_uri": "https://localhost:8080/"
        }
      },
      "execution_count": null,
      "outputs": [
        {
          "output_type": "stream",
          "name": "stdout",
          "text": [
            "[0, 9]\n"
          ]
        }
      ]
    },
    {
      "cell_type": "markdown",
      "source": [
        "Day 78) Given an array of integers of size N, the task is to find the first non-repeating element in this array.\n"
      ],
      "metadata": {
        "id": "jxoxyu6tHaro"
      }
    },
    {
      "cell_type": "code",
      "source": [
        "def first_non_repeating_element(arr):\n",
        "    frequency = {}\n",
        "    for num in arr:\n",
        "        if num in frequency:\n",
        "            frequency[num] += 1\n",
        "        else:\n",
        "            frequency[num] = 1\n",
        "    for num in arr:\n",
        "        if frequency[num] == 1:\n",
        "            return num\n",
        "    return None\n",
        "input_array = [-1, 2, -1, 3, 0]\n",
        "output = first_non_repeating_element(input_array)\n",
        "print(output)\n"
      ],
      "metadata": {
        "id": "sS9M4AohNrDs",
        "outputId": "70cd934b-b185-477a-88bc-86fcb48c47ed",
        "colab": {
          "base_uri": "https://localhost:8080/"
        }
      },
      "execution_count": null,
      "outputs": [
        {
          "output_type": "stream",
          "name": "stdout",
          "text": [
            "2\n"
          ]
        }
      ]
    },
    {
      "cell_type": "markdown",
      "source": [
        "Day 79)Write a Python program to find validity of a string of parentheses, '(', ')', '{', '}', '[' and ']. These brackets must be close in the correct order,for example \"()\" and \"()[]{}\" are valid but \"[)\", \"({[)]\" and \"{{{\" are invalid."
      ],
      "metadata": {
        "id": "ZiJkNLv9IaNa"
      }
    },
    {
      "cell_type": "code",
      "source": [
        "class py_solution:\n",
        "   def is_valid_parenthese(self, str1):\n",
        "        stack, pchar = [], {\"(\": \")\", \"{\": \"}\", \"[\": \"]\"}\n",
        "        for parenthese in str1:\n",
        "            if parenthese in pchar:\n",
        "                stack.append(parenthese)\n",
        "            elif len(stack) == 0 or pchar[stack.pop()] != parenthese:\n",
        "                return False\n",
        "        return len(stack) == 0\n",
        "\n",
        "print(py_solution().is_valid_parenthese(\"(){}[]\"))\n",
        "print(py_solution().is_valid_parenthese(\"()[{)}\"))\n",
        "print(py_solution().is_valid_parenthese(\"()\"))"
      ],
      "metadata": {
        "id": "Y2V1LscsIaex",
        "outputId": "d8e63ab5-f09e-40f2-b0f7-790610b09e6d",
        "colab": {
          "base_uri": "https://localhost:8080/"
        }
      },
      "execution_count": null,
      "outputs": [
        {
          "output_type": "stream",
          "name": "stdout",
          "text": [
            "True\n",
            "False\n",
            "True\n"
          ]
        }
      ]
    },
    {
      "cell_type": "markdown",
      "source": [
        "Day 80) Python Program to Transpose a Matrix"
      ],
      "metadata": {
        "id": "mXl0E_ueIanV"
      }
    },
    {
      "cell_type": "code",
      "source": [
        "X = [[12,7],\n",
        "    [4 ,5],\n",
        "    [3 ,8]]\n",
        "result = [[0,0,0],\n",
        "         [0,0,0]]\n",
        "for i in range(len(X)):\n",
        "   for j in range(len(X[0])):\n",
        "       result[j][i] = X[i][j]\n",
        "\n",
        "for r in result:\n",
        "   print(r)\n"
      ],
      "metadata": {
        "id": "m1Blw9WAIatX",
        "outputId": "28647d0e-0478-4727-f9cc-a1431ffd3ac4",
        "colab": {
          "base_uri": "https://localhost:8080/"
        }
      },
      "execution_count": null,
      "outputs": [
        {
          "output_type": "stream",
          "name": "stdout",
          "text": [
            "[12, 4, 3]\n",
            "[7, 5, 8]\n"
          ]
        }
      ]
    },
    {
      "cell_type": "markdown",
      "source": [
        "Day 81) To check if a date is valid in Python, you can use the datetime module"
      ],
      "metadata": {
        "id": "bqLIY9oDIazG"
      }
    },
    {
      "cell_type": "code",
      "source": [
        "from datetime import datetime\n",
        "\n",
        "def is_valid_date(year, month, day):\n",
        "    try:\n",
        "        datetime(year, month, day)\n",
        "        return True\n",
        "    except ValueError:\n",
        "        return False\n",
        "\n",
        "if is_valid_date(2023,2,29):\n",
        "    print(f\"The date {year}-{month}-{day} is valid.\")\n",
        "else:\n",
        "    print(f\"The date {year}-{month}-{day} is not valid.\")\n",
        "\n"
      ],
      "metadata": {
        "id": "F3LjlU4WIa4k",
        "outputId": "8c6501a7-db72-474b-ba94-3c5237edf769",
        "colab": {
          "base_uri": "https://localhost:8080/"
        }
      },
      "execution_count": null,
      "outputs": [
        {
          "output_type": "stream",
          "name": "stdout",
          "text": [
            "The date 2023-2-29 is not valid.\n"
          ]
        }
      ]
    },
    {
      "cell_type": "markdown",
      "source": [
        "Day 82) Python program to find number of days between two given dates"
      ],
      "metadata": {
        "id": "rKrdXjEEIa9l"
      }
    },
    {
      "cell_type": "code",
      "source": [
        "from datetime import date\n",
        "def numOfDays(date1, date2):\n",
        "\tif date2 > date1:\n",
        "\t\treturn (date2-date1).days\n",
        "\telse:\n",
        "\t\treturn (date1-date2).days\n",
        "date1 = date(2018, 12, 13)\n",
        "date2 = date(2015, 2, 25)\n",
        "print(numOfDays(date1, date2), \"days\")"
      ],
      "metadata": {
        "id": "bFTNtAPvIbDB",
        "outputId": "5a099cdd-f0e8-4e24-bd25-eebc4b0e351d",
        "colab": {
          "base_uri": "https://localhost:8080/"
        }
      },
      "execution_count": null,
      "outputs": [
        {
          "output_type": "stream",
          "name": "stdout",
          "text": [
            "1387 days\n"
          ]
        }
      ]
    },
    {
      "cell_type": "markdown",
      "source": [
        "Day 83)Generate random string of given length"
      ],
      "metadata": {
        "id": "88KoDEvcIbHl"
      }
    },
    {
      "cell_type": "code",
      "source": [
        "import string\n",
        "import random\n",
        "N = 7\n",
        "res = ''.join(random.choices(string.ascii_lowercase +\n",
        "\t\t\t\t\t\t\tstring.digits, k=N))\n",
        "print(\"The generated random string : \" + str(res))"
      ],
      "metadata": {
        "id": "V8ylVR_JIbM5",
        "outputId": "ded6466d-670e-43a5-9cab-8ce726d3f1ff",
        "colab": {
          "base_uri": "https://localhost:8080/"
        }
      },
      "execution_count": null,
      "outputs": [
        {
          "output_type": "stream",
          "name": "stdout",
          "text": [
            "The generated random string : 5d2m15i\n"
          ]
        }
      ]
    },
    {
      "cell_type": "markdown",
      "source": [
        "Day 84) Programs for printing pyramid patterns in Python"
      ],
      "metadata": {
        "id": "gHoj6NPsIbQ0"
      }
    },
    {
      "cell_type": "code",
      "source": [
        "n = 5\n",
        "alph = 65\n",
        "for i in range(0, n):\n",
        "\tprint(\" \" * (n-i), end=\" \")\n",
        "\tfor j in range(0, i+1):\n",
        "\t\tprint(chr(alph), end=\" \")\n",
        "\t\talph += 1\n",
        "\talph = 65\n",
        "\tprint()\n"
      ],
      "metadata": {
        "id": "X8aT5qgXIbV2",
        "outputId": "e1da23ce-8d74-4d57-c7ae-680614ab9ede",
        "colab": {
          "base_uri": "https://localhost:8080/"
        }
      },
      "execution_count": null,
      "outputs": [
        {
          "output_type": "stream",
          "name": "stdout",
          "text": [
            "      A \n",
            "     A B \n",
            "    A B C \n",
            "   A B C D \n",
            "  A B C D E \n"
          ]
        }
      ]
    },
    {
      "cell_type": "markdown",
      "source": [
        "day 85) Python – Check if a list is empty or not"
      ],
      "metadata": {
        "id": "e4_PTL7TIbaM"
      }
    },
    {
      "cell_type": "code",
      "source": [
        "def Enquiry(lis1):\n",
        "\tif len(lis1) == 0:\n",
        "\t\treturn 0\n",
        "\telse:\n",
        "\t\treturn 1\n",
        "lis1 = []\n",
        "if Enquiry(lis1):\n",
        "\tprint(\"The list is not empty\")\n",
        "else:\n",
        "\tprint(\"Empty List\")\n"
      ],
      "metadata": {
        "id": "OJJy5WZLIbfb",
        "outputId": "48637f6c-f41c-4216-9cb8-89949eda38c0",
        "colab": {
          "base_uri": "https://localhost:8080/"
        }
      },
      "execution_count": null,
      "outputs": [
        {
          "output_type": "stream",
          "name": "stdout",
          "text": [
            "Empty List\n"
          ]
        }
      ]
    },
    {
      "cell_type": "markdown",
      "source": [
        "Day 86)To convert seconds into days, hours, minutes, and seconds"
      ],
      "metadata": {
        "id": "4QZmcDFNSEFS"
      }
    },
    {
      "cell_type": "code",
      "source": [
        "def convert_seconds(seconds):\n",
        "    days = seconds // 86400\n",
        "    hours = (seconds % 86400) // 3600\n",
        "    minutes = (seconds % 3600) // 60\n",
        "    seconds = seconds % 60\n",
        "    return days, hours, minutes, seconds\n",
        "days, hours, minutes, seconds = convert_seconds(90061)\n",
        "print(f\"{days} days, {hours} hours, {minutes} minutes, and {seconds} seconds\")"
      ],
      "metadata": {
        "id": "kESiBXz2Ibx7",
        "outputId": "583e7507-a301-41b6-e660-8a4ef1043213",
        "colab": {
          "base_uri": "https://localhost:8080/"
        }
      },
      "execution_count": null,
      "outputs": [
        {
          "output_type": "stream",
          "name": "stdout",
          "text": [
            "1 days, 1 hours, 1 minutes, and 1 seconds\n"
          ]
        }
      ]
    },
    {
      "cell_type": "markdown",
      "source": [
        "Day 87) To count the number of words in a string in Python"
      ],
      "metadata": {
        "id": "mRXATLWrIb2v"
      }
    },
    {
      "cell_type": "code",
      "source": [
        "def count_words(string):\n",
        "    words = string.split()\n",
        "    return len(words)\n",
        "text = \"This is an example string.\"\n",
        "word_count = count_words(text)\n",
        "print(f\"The number of words in the string is: {word_count}\")\n"
      ],
      "metadata": {
        "id": "rIZm0SRWIYwq",
        "outputId": "3c6bd493-9156-40c1-97be-b11515df25ca",
        "colab": {
          "base_uri": "https://localhost:8080/"
        }
      },
      "execution_count": null,
      "outputs": [
        {
          "output_type": "stream",
          "name": "stdout",
          "text": [
            "The number of words in the string is: 5\n"
          ]
        }
      ]
    },
    {
      "cell_type": "markdown",
      "source": [
        "Day 88) To check if a string starts with a specific value in Python"
      ],
      "metadata": {
        "id": "xSquDAYpTvi7"
      }
    },
    {
      "cell_type": "code",
      "source": [
        "text = \"Hello, world!\"\n",
        "if text.startswith(\"Hello\"):\n",
        "    print(\"The string starts with 'Hello'.\")\n",
        "else:\n",
        "    print(\"The string does not start with 'Hello'.\")"
      ],
      "metadata": {
        "id": "Sy3iBBJxTDL5",
        "outputId": "1d337961-27be-433a-ec74-d39ee476c3de",
        "colab": {
          "base_uri": "https://localhost:8080/"
        }
      },
      "execution_count": null,
      "outputs": [
        {
          "output_type": "stream",
          "name": "stdout",
          "text": [
            "The string starts with 'Hello'.\n"
          ]
        }
      ]
    },
    {
      "cell_type": "markdown",
      "source": [
        "Day 89) To convert an array (or list of lists) to a comma-separated string in Python"
      ],
      "metadata": {
        "id": "nkZKaTLbUbM6"
      }
    },
    {
      "cell_type": "code",
      "source": [
        "array = [1, 2, 3, 4, 5]\n",
        "comma_separated_string = \",\".join(map(str, array))\n",
        "print(comma_separated_string)"
      ],
      "metadata": {
        "id": "BvLfhv1GTyvR",
        "outputId": "e81016e1-c236-4fe7-abe4-2d9cf8d9bed3",
        "colab": {
          "base_uri": "https://localhost:8080/"
        }
      },
      "execution_count": null,
      "outputs": [
        {
          "output_type": "stream",
          "name": "stdout",
          "text": [
            "1,2,3,4,5\n"
          ]
        }
      ]
    },
    {
      "cell_type": "markdown",
      "source": [
        "Day 89)To check if a string is a valid email address in Python"
      ],
      "metadata": {
        "id": "WmP31T-qV3iw"
      }
    },
    {
      "cell_type": "code",
      "source": [
        "import re\n",
        "def is_valid_email(email):\n",
        "    pattern = r'^[a-zA-Z0-9._%+-]+@[a-zA-Z0-9.-]+\\.[a-zA-Z]{2,}$'\n",
        "    return re.match(pattern, email) is not None\n",
        "email = \"krushnapadole12@gmail.com\"\n",
        "print(f\"{email} is valid: {is_valid_email(email)}\")"
      ],
      "metadata": {
        "id": "M69BXG47VemZ",
        "outputId": "5f0c75d2-1021-405f-fdd4-e35b61397c99",
        "colab": {
          "base_uri": "https://localhost:8080/"
        }
      },
      "execution_count": null,
      "outputs": [
        {
          "output_type": "stream",
          "name": "stdout",
          "text": [
            "krushnapadole12@gmail.com is valid: True\n"
          ]
        }
      ]
    },
    {
      "cell_type": "markdown",
      "source": [
        "Day 90) To convert feet to meters, you use the conversion factor:\n",
        "\n",
        "1 foot=0.3048 meters"
      ],
      "metadata": {
        "id": "DEeJBvHOWB-v"
      }
    },
    {
      "cell_type": "code",
      "source": [
        "def feet_to_meters(feet):\n",
        "    return feet * 0.3048\n",
        "meters = feet_to_meters(10)\n",
        "print(f\"{feet} feet is equal to {meters} meters.\")"
      ],
      "metadata": {
        "id": "hK7ZQIGyVikS",
        "outputId": "9e8e0b4e-c38b-42f1-ad7b-7ca6eb70a061",
        "colab": {
          "base_uri": "https://localhost:8080/"
        }
      },
      "execution_count": null,
      "outputs": [
        {
          "output_type": "stream",
          "name": "stdout",
          "text": [
            "10 feet is equal to 3.048 meters.\n"
          ]
        }
      ]
    },
    {
      "cell_type": "markdown",
      "source": [
        "Day 91) To convert degrees to radians in Python"
      ],
      "metadata": {
        "id": "eAdSoxIQX_xz"
      }
    },
    {
      "cell_type": "code",
      "source": [
        "import math\n",
        "def degrees_to_radians(degrees):\n",
        "    return degrees * (math.pi / 180)\n",
        "degrees = 45\n",
        "radians = degrees_to_radians(degrees)\n",
        "print(f\"{degrees} degrees is equal to {radians} radians.\")"
      ],
      "metadata": {
        "id": "ZezmuLuoXIUA",
        "outputId": "9b35f412-9084-45fd-ad9e-1ff18f1a3f50",
        "colab": {
          "base_uri": "https://localhost:8080/"
        }
      },
      "execution_count": null,
      "outputs": [
        {
          "output_type": "stream",
          "name": "stdout",
          "text": [
            "45 degrees is equal to 0.7853981633974483 radians.\n"
          ]
        }
      ]
    },
    {
      "cell_type": "markdown",
      "source": [
        "Day 92) Merge two sorted arrays."
      ],
      "metadata": {
        "id": "ELL3XfhxBU_P"
      }
    },
    {
      "cell_type": "code",
      "source": [
        "def mergeArrays(arr1, arr2, n1, n2, arr3):\n",
        "\ti = 0\n",
        "\tj = 0\n",
        "\tk = 0\n",
        "\twhile(i < n1):\n",
        "\t\tarr3[k] = arr1[i]\n",
        "\t\tk += 1\n",
        "\t\ti += 1\n",
        "\twhile(j < n2):\n",
        "\t\tarr3[k] = arr2[j]\n",
        "\t\tk += 1\n",
        "\t\tj += 1\n",
        "\tarr3.sort()\n",
        "if __name__ == '__main__':\n",
        "\tarr1 = [1, 3, 5, 7]\n",
        "\tn1 = len(arr1)\n",
        "\n",
        "\tarr2 = [2, 4, 6, 8]\n",
        "\tn2 = len(arr2)\n",
        "\n",
        "\tarr3 = [0 for i in range(n1+n2)]\n",
        "\tmergeArrays(arr1, arr2, n1, n2, arr3)\n",
        "\n",
        "\tprint(\"Array after merging\")\n",
        "\tfor i in range(n1 + n2):\n",
        "\t\tprint(arr3[i], end=\" \")"
      ],
      "metadata": {
        "id": "SG-XYhdIBVUz",
        "outputId": "809c29b3-6d4b-40e0-f60e-a6ea279ba0d8",
        "colab": {
          "base_uri": "https://localhost:8080/"
        }
      },
      "execution_count": 1,
      "outputs": [
        {
          "output_type": "stream",
          "name": "stdout",
          "text": [
            "Array after merging\n",
            "1 2 3 4 5 6 7 8 "
          ]
        }
      ]
    },
    {
      "cell_type": "markdown",
      "source": [
        "day 93) Alternet way of above Quastion"
      ],
      "metadata": {
        "id": "fBJikx6KDLQd"
      }
    },
    {
      "cell_type": "code",
      "source": [
        "def merge_sorted_arrays(arr1, arr2):\n",
        "    return sorted(arr1 + arr2)\n",
        "arr1 = [1, 3, 5, 7]\n",
        "arr2 = [2, 4, 6, 8]\n",
        "result = merge_sorted_arrays(arr1, arr2)\n",
        "print(result)\n"
      ],
      "metadata": {
        "id": "7-ce06XFBVxP",
        "outputId": "7c620ebe-f0df-4521-afd5-c73255856f6f",
        "colab": {
          "base_uri": "https://localhost:8080/"
        }
      },
      "execution_count": 2,
      "outputs": [
        {
          "output_type": "stream",
          "name": "stdout",
          "text": [
            "[1, 2, 3, 4, 5, 6, 7, 8]\n"
          ]
        }
      ]
    },
    {
      "cell_type": "markdown",
      "source": [
        "Day 94) To find the length of the longest substring without repeating characters"
      ],
      "metadata": {
        "id": "4zbAziO4BV-y"
      }
    },
    {
      "cell_type": "code",
      "source": [
        "def length_of_longest_substring(s):\n",
        "    char_index = {}\n",
        "    longest = 0\n",
        "    start = 0\n",
        "\n",
        "    for i, char in enumerate(s):\n",
        "        if char in char_index and char_index[char] >= start:\n",
        "            start = char_index[char] + 1\n",
        "        longest = max(longest, i - start + 1)\n",
        "        char_index[char] = i\n",
        "\n",
        "    return longest\n",
        "s = \"abcabcbb\"\n",
        "result = length_of_longest_substring(s)\n",
        "print(result)"
      ],
      "metadata": {
        "id": "EOVq69Z6BWMh",
        "outputId": "383c9341-ee83-4a87-98cf-00ac7b5bb3d7",
        "colab": {
          "base_uri": "https://localhost:8080/"
        }
      },
      "execution_count": 8,
      "outputs": [
        {
          "output_type": "stream",
          "name": "stdout",
          "text": [
            "3\n"
          ]
        }
      ]
    },
    {
      "cell_type": "markdown",
      "source": [
        "day 95)To check if a binary tree is a binary search tree (BST)"
      ],
      "metadata": {
        "id": "EmxXZI6fBWZi"
      }
    },
    {
      "cell_type": "code",
      "source": [
        "class TreeNode:\n",
        "    def __init__(self, value):\n",
        "        self.value = value\n",
        "        self.left = None\n",
        "        self.right = None\n",
        "\n",
        "def is_bst(node, left=float('-inf'), right=float('inf')):\n",
        "    if node is None:\n",
        "        return True\n",
        "\n",
        "    if not (left < node.value < right):\n",
        "        return False\n",
        "\n",
        "    return (is_bst(node.left, left, node.value) and\n",
        "            is_bst(node.right, node.value, right))\n",
        "\n",
        "root = TreeNode(10)\n",
        "root.left = TreeNode(5)\n",
        "root.right = TreeNode(15)\n",
        "root.left.left = TreeNode(2)\n",
        "root.left.right = TreeNode(7)\n",
        "root.right.left = TreeNode(12)\n",
        "root.right.right = TreeNode(20)\n",
        "\n",
        "result = is_bst(root)\n",
        "print(result)\n"
      ],
      "metadata": {
        "id": "mBjrMHMpBWnn",
        "outputId": "c00eeb8f-9410-4dc0-9fff-f600a8bf796a",
        "colab": {
          "base_uri": "https://localhost:8080/"
        }
      },
      "execution_count": 9,
      "outputs": [
        {
          "output_type": "stream",
          "name": "stdout",
          "text": [
            "True\n"
          ]
        }
      ]
    },
    {
      "cell_type": "markdown",
      "source": [
        "day 96)To perform a level order traversal (also known as breadth-first traversal) of a binary tree"
      ],
      "metadata": {
        "id": "OgewfwCEBW9m"
      }
    },
    {
      "cell_type": "code",
      "source": [
        "from collections import deque\n",
        "\n",
        "class TreeNode:\n",
        "    def __init__(self, value):\n",
        "        self.value = value\n",
        "        self.left = None\n",
        "        self.right = None\n",
        "\n",
        "def level_order_traversal(root):\n",
        "    if not root:\n",
        "        return []\n",
        "\n",
        "    result = []\n",
        "    queue = deque([root])\n",
        "\n",
        "    while queue:\n",
        "        level_size = len(queue)\n",
        "        level = []\n",
        "\n",
        "        for _ in range(level_size):\n",
        "            node = queue.popleft()\n",
        "            level.append(node.value)\n",
        "\n",
        "            if node.left:\n",
        "                queue.append(node.left)\n",
        "            if node.right:\n",
        "                queue.append(node.right)\n",
        "\n",
        "        result.append(level)\n",
        "\n",
        "    return result\n",
        "root = TreeNode(1)\n",
        "root.left = TreeNode(2)\n",
        "root.right = TreeNode(3)\n",
        "root.left.left = TreeNode(4)\n",
        "root.left.right = TreeNode(5)\n",
        "root.right.left = TreeNode(6)\n",
        "root.right.right = TreeNode(7)\n",
        "\n",
        "result = level_order_traversal(root)\n",
        "print(result)\n"
      ],
      "metadata": {
        "id": "AlUZBVQYBXM4",
        "outputId": "bfbd48fc-110a-4716-fa02-a65ffa09a2ed",
        "colab": {
          "base_uri": "https://localhost:8080/"
        }
      },
      "execution_count": 10,
      "outputs": [
        {
          "output_type": "stream",
          "name": "stdout",
          "text": [
            "[[1], [2, 3], [4, 5, 6, 7]]\n"
          ]
        }
      ]
    },
    {
      "cell_type": "markdown",
      "source": [
        "Day 97)To find the KKth largest element in an array"
      ],
      "metadata": {
        "id": "iS83AtiRBXab"
      }
    },
    {
      "cell_type": "code",
      "source": [
        "def find_kth_largest(nums, k):\n",
        "    nums.sort(reverse=True)\n",
        "    return nums[k-1]\n",
        "\n",
        "arr = [3, 2, 1, 5, 6, 4]\n",
        "k = 2\n",
        "result = find_kth_largest(arr, k)\n",
        "print(result)\n"
      ],
      "metadata": {
        "id": "oxcuFqM6BXqI",
        "outputId": "387eb003-1cbe-47cd-aed0-a06d60d64d55",
        "colab": {
          "base_uri": "https://localhost:8080/"
        }
      },
      "execution_count": 11,
      "outputs": [
        {
          "output_type": "stream",
          "name": "stdout",
          "text": [
            "5\n"
          ]
        }
      ]
    }
  ]
}