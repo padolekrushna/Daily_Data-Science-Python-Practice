{
  "nbformat": 4,
  "nbformat_minor": 0,
  "metadata": {
    "colab": {
      "provenance": [],
      "authorship_tag": "ABX9TyN0NTyLI3dDHp7oxnn/J0PJ",
      "include_colab_link": true
    },
    "kernelspec": {
      "name": "python3",
      "display_name": "Python 3"
    },
    "language_info": {
      "name": "python"
    }
  },
  "cells": [
    {
      "cell_type": "markdown",
      "metadata": {
        "id": "view-in-github",
        "colab_type": "text"
      },
      "source": [
        "<a href=\"https://colab.research.google.com/github/padolekrushna/Daily_Data-Science-Python-Practice/blob/main/part_4_python_practice.ipynb\" target=\"_parent\"><img src=\"https://colab.research.google.com/assets/colab-badge.svg\" alt=\"Open In Colab\"/></a>"
      ]
    },
    {
      "cell_type": "markdown",
      "source": [
        "Day 50) Insert a function that prints a greeting, and execute it on the p1 object:"
      ],
      "metadata": {
        "id": "3r2OJ7M86arb"
      }
    },
    {
      "cell_type": "code",
      "execution_count": null,
      "metadata": {
        "colab": {
          "base_uri": "https://localhost:8080/"
        },
        "id": "hnXm7w-75R28",
        "outputId": "f4210c76-0e7d-480a-dcde-4afb0ab035b8"
      },
      "outputs": [
        {
          "output_type": "stream",
          "name": "stdout",
          "text": [
            "Hello my name is John\n"
          ]
        }
      ],
      "source": [
        "class Person:\n",
        "  def __init__(self, name, age):\n",
        "    self.name = name\n",
        "    self.age = age\n",
        "\n",
        "  def myfunc(self):\n",
        "    print(\"Hello my name is \" + self.name)\n",
        "\n",
        "p1 = Person(\"John\", 36)\n",
        "p1.myfunc()"
      ]
    },
    {
      "cell_type": "markdown",
      "source": [
        "Day 51)Given two strings of comma-seperated values, sort and return the second list based on the ordering of the first list.\n"
      ],
      "metadata": {
        "id": "_JmssbYRAH52"
      }
    },
    {
      "cell_type": "code",
      "source": [
        "def sort_list(list1, list2):\n",
        "\n",
        "    zipped_pairs = zip(list2, list1)\n",
        "\n",
        "    z = [x for _, x in sorted(zipped_pairs)]\n",
        "\n",
        "    return z\n",
        "\n",
        "\n",
        "n = \"a,b,c,d,e,f,g,h,i\"\n",
        "m = \"0,1,1,0,1,2,2,0,1\"\n",
        "x = n.split(\",\")\n",
        "y = m.split(\",\")\n",
        "print(sort_list(x, y))\n",
        "\n",
        "\n",
        "n = \"g,e,e,k,s,f,o,r,g,e,e,k,s\"\n",
        "m = \"0,1,1,0,1,2,2,0,1\"\n",
        "x = n.split(\",\")\n",
        "y = m.split(\",\")\n",
        "print(sort_list(x, y))"
      ],
      "metadata": {
        "id": "tvULHXGP6k3b",
        "outputId": "38e3a8ff-f0fa-40e8-8c6e-ae6f03f3519d",
        "colab": {
          "base_uri": "https://localhost:8080/"
        }
      },
      "execution_count": null,
      "outputs": [
        {
          "output_type": "stream",
          "name": "stdout",
          "text": [
            "['a', 'd', 'h', 'b', 'c', 'e', 'i', 'f', 'g']\n",
            "['g', 'k', 'r', 'e', 'e', 'g', 's', 'f', 'o']\n"
          ]
        }
      ]
    },
    {
      "cell_type": "markdown",
      "source": [
        "Day 52) Given an list of 100 numbers, find the (unique set) of duplicate values."
      ],
      "metadata": {
        "id": "bA2VXb5bAQ5s"
      }
    },
    {
      "cell_type": "code",
      "source": [
        "random_list = [0, 0, 1, 1, 2, 3, 4, 5]\n",
        "\n",
        "print(random_list)\n",
        "\n",
        "def keep_duplicates(iterable):\n",
        "    seen = set()\n",
        "    duplicates = set()\n",
        "    for x in iterable:\n",
        "        if x in seen and x not in duplicates:\n",
        "            yield x\n",
        "            duplicates.add(x)\n",
        "        else:\n",
        "            seen.add(x)\n",
        "\n",
        "\n",
        "print(list(keep_duplicates(random_list)))"
      ],
      "metadata": {
        "id": "uaDgyp8oAPLV",
        "outputId": "c4e928d9-d54e-47ad-ff8b-964afadfc094",
        "colab": {
          "base_uri": "https://localhost:8080/"
        }
      },
      "execution_count": null,
      "outputs": [
        {
          "output_type": "stream",
          "name": "stdout",
          "text": [
            "[0, 0, 1, 1, 2, 3, 4, 5]\n",
            "[0, 1]\n"
          ]
        }
      ]
    },
    {
      "cell_type": "markdown",
      "source": [
        "Day 53) Given an list of 100 numbers, find the (unique set) of unique values."
      ],
      "metadata": {
        "id": "LN-tq2V0AfD5"
      }
    },
    {
      "cell_type": "code",
      "source": [
        "import random\n",
        "random_list = [random.randint(0,100) for i in range(100)]\n",
        "print(list)\n",
        "\n",
        "seen = set()\n",
        "uniq = []\n",
        "for x in random_list:\n",
        "    if x not in seen:\n",
        "        uniq.append(x)\n",
        "        seen.add(x)\n",
        "\n",
        "print(seen)"
      ],
      "metadata": {
        "id": "PN20XBYHAbdJ",
        "outputId": "1861decc-e581-419d-aa6a-955262364785",
        "colab": {
          "base_uri": "https://localhost:8080/"
        }
      },
      "execution_count": null,
      "outputs": [
        {
          "output_type": "stream",
          "name": "stdout",
          "text": [
            "<class 'list'>\n",
            "{1, 2, 3, 6, 7, 11, 14, 16, 17, 18, 22, 23, 24, 26, 30, 34, 35, 37, 38, 40, 41, 42, 43, 46, 47, 48, 49, 50, 51, 53, 54, 55, 56, 58, 60, 62, 63, 64, 66, 68, 69, 70, 73, 75, 76, 78, 79, 80, 81, 83, 84, 86, 87, 88, 89, 90, 94, 96, 97, 99, 100}\n"
          ]
        }
      ]
    },
    {
      "cell_type": "markdown",
      "source": [
        "Day 54)\n",
        "Find all of the different permutations of a string. Your answer should not contain duplicates.\n"
      ],
      "metadata": {
        "id": "j4pN8UQhAr-a"
      }
    },
    {
      "cell_type": "code",
      "source": [
        "from itertools import permutations\n",
        "\n",
        "string = \"stass\"\n",
        "perms = [''.join(p) for p in permutations(string)]\n",
        "print(perms)\n",
        "\n",
        "print(\"With duplicates: \", len(perms), \"Without duplicates: \", len(set(perms)))"
      ],
      "metadata": {
        "id": "C9IHT20QAsOo",
        "outputId": "e3267877-74fb-46e3-a9f1-8d550a0f7663",
        "colab": {
          "base_uri": "https://localhost:8080/"
        }
      },
      "execution_count": null,
      "outputs": [
        {
          "output_type": "stream",
          "name": "stdout",
          "text": [
            "['stass', 'stass', 'stsas', 'stssa', 'stsas', 'stssa', 'satss', 'satss', 'sasts', 'sasst', 'sasts', 'sasst', 'sstas', 'sstsa', 'ssats', 'ssast', 'sssta', 'sssat', 'sstas', 'sstsa', 'ssats', 'ssast', 'sssta', 'sssat', 'tsass', 'tsass', 'tssas', 'tsssa', 'tssas', 'tsssa', 'tasss', 'tasss', 'tasss', 'tasss', 'tasss', 'tasss', 'tssas', 'tsssa', 'tsass', 'tsass', 'tsssa', 'tssas', 'tssas', 'tsssa', 'tsass', 'tsass', 'tsssa', 'tssas', 'astss', 'astss', 'assts', 'assst', 'assts', 'assst', 'atsss', 'atsss', 'atsss', 'atsss', 'atsss', 'atsss', 'assts', 'assst', 'astss', 'astss', 'assst', 'assts', 'assts', 'assst', 'astss', 'astss', 'assst', 'assts', 'sstas', 'sstsa', 'ssats', 'ssast', 'sssta', 'sssat', 'stsas', 'stssa', 'stass', 'stass', 'stssa', 'stsas', 'sasts', 'sasst', 'satss', 'satss', 'sasst', 'sasts', 'sssta', 'sssat', 'sstsa', 'sstas', 'ssast', 'ssats', 'sstas', 'sstsa', 'ssats', 'ssast', 'sssta', 'sssat', 'stsas', 'stssa', 'stass', 'stass', 'stssa', 'stsas', 'sasts', 'sasst', 'satss', 'satss', 'sasst', 'sasts', 'sssta', 'sssat', 'sstsa', 'sstas', 'ssast', 'ssats']\n",
            "With duplicates:  120 Without duplicates:  20\n"
          ]
        }
      ]
    },
    {
      "cell_type": "markdown",
      "source": [
        "Day 55) Read data from a API call that gives org structure data in JSON format and arrange that data in requested format"
      ],
      "metadata": {
        "id": "SmE8-YgBA6UU"
      }
    },
    {
      "cell_type": "code",
      "source": [
        "import requests\n",
        "\n",
        "resp = requests.get(\"https://api.spacexdata.com/v3/capsules/past\")\n",
        "\n",
        "if resp.status_code != 200:\n",
        "    # This means something went wrong.\n",
        "    raise ApiError('GET /tasks/ {}'.format(resp.status_code))\n",
        "\n",
        "for item in resp.json():\n",
        "    print('Capsule: {} Time: {} Status: {}'.format(item['capsule_serial'], item['original_launch_unix'], item['status']))\n"
      ],
      "metadata": {
        "id": "4rVStbesAqod",
        "outputId": "8beb4680-4490-434f-a544-084df4af37d0",
        "colab": {
          "base_uri": "https://localhost:8080/"
        }
      },
      "execution_count": null,
      "outputs": [
        {
          "output_type": "stream",
          "name": "stdout",
          "text": [
            "Capsule: C101 Time: 1291822980 Status: retired\n",
            "Capsule: C102 Time: 1335944640 Status: retired\n",
            "Capsule: C103 Time: 1349656500 Status: unknown\n",
            "Capsule: C104 Time: 1362165000 Status: unknown\n",
            "Capsule: C105 Time: 1397849100 Status: unknown\n",
            "Capsule: C106 Time: 1411278720 Status: active\n",
            "Capsule: C107 Time: 1420883220 Status: unknown\n",
            "Capsule: C108 Time: 1429042200 Status: active\n",
            "Capsule: C109 Time: 1435501260 Status: destroyed\n",
            "Capsule: C110 Time: 1460148180 Status: active\n",
            "Capsule: C111 Time: 1468817100 Status: active\n",
            "Capsule: C112 Time: 1487515140 Status: active\n",
            "Capsule: C113 Time: 1502728260 Status: active\n",
            "Capsule: C201 Time: 1551512700 Status: active\n",
            "Capsule: C205 Time: 1579442400 Status: active\n",
            "Capsule: C206 Time: 1590866520 Status: active\n"
          ]
        }
      ]
    },
    {
      "cell_type": "markdown",
      "source": [
        "Day56)\n",
        "print LinkedIn if a number is divisible by 4 and 6, Linked if it is divisible by 4 and in it is by 6\n"
      ],
      "metadata": {
        "id": "Omd1vJEZA_rX"
      }
    },
    {
      "cell_type": "code",
      "source": [
        "for i in range(0, 100):\n",
        "    if i % 4 == 0 and i % 6 == 0:\n",
        "        print(i, \"Linkedin\")\n",
        "    elif i % 4 == 0:\n",
        "        print(i, \"Linked\")\n",
        "    elif i % 6 == 0:\n",
        "        print(i, \"in\")\n",
        "    else:\n",
        "        print(i)"
      ],
      "metadata": {
        "id": "BMjDgMukA_JA",
        "outputId": "0d9500f8-c0c3-4a3a-ffa2-2ce6f2b35212",
        "colab": {
          "base_uri": "https://localhost:8080/"
        },
        "collapsed": true
      },
      "execution_count": null,
      "outputs": [
        {
          "output_type": "stream",
          "name": "stdout",
          "text": [
            "0 Linkedin\n",
            "1\n",
            "2\n",
            "3\n",
            "4 Linked\n",
            "5\n",
            "6 in\n",
            "7\n",
            "8 Linked\n",
            "9\n",
            "10\n",
            "11\n",
            "12 Linkedin\n",
            "13\n",
            "14\n",
            "15\n",
            "16 Linked\n",
            "17\n",
            "18 in\n",
            "19\n",
            "20 Linked\n",
            "21\n",
            "22\n",
            "23\n",
            "24 Linkedin\n",
            "25\n",
            "26\n",
            "27\n",
            "28 Linked\n",
            "29\n",
            "30 in\n",
            "31\n",
            "32 Linked\n",
            "33\n",
            "34\n",
            "35\n",
            "36 Linkedin\n",
            "37\n",
            "38\n",
            "39\n",
            "40 Linked\n",
            "41\n",
            "42 in\n",
            "43\n",
            "44 Linked\n",
            "45\n",
            "46\n",
            "47\n",
            "48 Linkedin\n",
            "49\n",
            "50\n",
            "51\n",
            "52 Linked\n",
            "53\n",
            "54 in\n",
            "55\n",
            "56 Linked\n",
            "57\n",
            "58\n",
            "59\n",
            "60 Linkedin\n",
            "61\n",
            "62\n",
            "63\n",
            "64 Linked\n",
            "65\n",
            "66 in\n",
            "67\n",
            "68 Linked\n",
            "69\n",
            "70\n",
            "71\n",
            "72 Linkedin\n",
            "73\n",
            "74\n",
            "75\n",
            "76 Linked\n",
            "77\n",
            "78 in\n",
            "79\n",
            "80 Linked\n",
            "81\n",
            "82\n",
            "83\n",
            "84 Linkedin\n",
            "85\n",
            "86\n",
            "87\n",
            "88 Linked\n",
            "89\n",
            "90 in\n",
            "91\n",
            "92 Linked\n",
            "93\n",
            "94\n",
            "95\n",
            "96 Linkedin\n",
            "97\n",
            "98\n",
            "99\n"
          ]
        }
      ]
    },
    {
      "cell_type": "markdown",
      "source": [
        "Day 57) Given a string as your input, delete any reoccurring character, and return the new string. input = \"aabbcc\" output = \"abc\""
      ],
      "metadata": {
        "id": "VMphvw_YBNNg"
      }
    },
    {
      "cell_type": "code",
      "source": [
        "from itertools import groupby\n",
        "\n",
        "input = \"aabbcc\"\n",
        "output = ''.join(c for c, _ in groupby(input))\n",
        "print(output)"
      ],
      "metadata": {
        "id": "pt0dz21TBG4K",
        "outputId": "ae691673-277a-412b-ab00-ef42f1882919",
        "colab": {
          "base_uri": "https://localhost:8080/"
        }
      },
      "execution_count": null,
      "outputs": [
        {
          "output_type": "stream",
          "name": "stdout",
          "text": [
            "abc\n"
          ]
        }
      ]
    },
    {
      "cell_type": "markdown",
      "source": [
        "Day 58) Converting an Integer into Decimals"
      ],
      "metadata": {
        "id": "vrLeeE46BRwJ"
      }
    },
    {
      "cell_type": "code",
      "source": [
        "import decimal\n",
        "integer = 10\n",
        "print(decimal.Decimal(integer))\n",
        "print(type(decimal.Decimal(integer)))\n",
        "\n",
        "\n"
      ],
      "metadata": {
        "id": "BlfJZD6bBRCG",
        "outputId": "4bd93e05-8baa-4630-aecc-b4d867fcb4c1",
        "colab": {
          "base_uri": "https://localhost:8080/"
        }
      },
      "execution_count": null,
      "outputs": [
        {
          "output_type": "stream",
          "name": "stdout",
          "text": [
            "10\n",
            "<class 'decimal.Decimal'>\n"
          ]
        }
      ]
    },
    {
      "cell_type": "markdown",
      "source": [
        "Day 59 ) Converting an String of Integers into Decimals"
      ],
      "metadata": {
        "id": "ozERbAhlCMil"
      }
    },
    {
      "cell_type": "code",
      "source": [
        "import decimal\n",
        "string = '12345'\n",
        "print(decimal.Decimal(string))\n",
        "print(type(decimal.Decimal(string)))"
      ],
      "metadata": {
        "id": "mNmX6ea7CGJF",
        "outputId": "c65b386b-722d-41c8-e2c6-732793763238",
        "colab": {
          "base_uri": "https://localhost:8080/"
        }
      },
      "execution_count": null,
      "outputs": [
        {
          "output_type": "stream",
          "name": "stdout",
          "text": [
            "12345\n",
            "<class 'decimal.Decimal'>\n"
          ]
        }
      ]
    },
    {
      "cell_type": "markdown",
      "source": [
        "Day 60)Reversing a String using an Extended Slicing Technique"
      ],
      "metadata": {
        "id": "hyWaNDW1CTuG"
      }
    },
    {
      "cell_type": "code",
      "source": [
        "string = \"Python Programming\"\n",
        "print(string[::-1])\n",
        "\n"
      ],
      "metadata": {
        "id": "9DI3d4SDCRcm",
        "outputId": "b33603f2-def0-4fd1-ad21-dc24a6875eca",
        "colab": {
          "base_uri": "https://localhost:8080/"
        }
      },
      "execution_count": null,
      "outputs": [
        {
          "output_type": "stream",
          "name": "stdout",
          "text": [
            "gnimmargorP nohtyP\n"
          ]
        }
      ]
    },
    {
      "cell_type": "markdown",
      "source": [
        "Day 61) Counting Vowels in a Given Word"
      ],
      "metadata": {
        "id": "2bQu-v6NCc4i"
      }
    },
    {
      "cell_type": "code",
      "source": [
        "vowel = ['a', 'e', 'i', 'o', 'u']\n",
        "word = \"programming\"\n",
        "count = 0\n",
        "for character in word:\n",
        "    if character in vowel:\n",
        "        count += 1\n",
        "print(count)\n"
      ],
      "metadata": {
        "id": "_6Gu-HisCcXh",
        "outputId": "60b36a32-f467-4faf-c52d-9aad5e365627",
        "colab": {
          "base_uri": "https://localhost:8080/"
        }
      },
      "execution_count": null,
      "outputs": [
        {
          "output_type": "stream",
          "name": "stdout",
          "text": [
            "3\n"
          ]
        }
      ]
    },
    {
      "cell_type": "markdown",
      "source": [
        "Day 61)Counting Consonants in a Given Word"
      ],
      "metadata": {
        "id": "Mjqtyal3CmC_"
      }
    },
    {
      "cell_type": "code",
      "source": [
        "vowel = ['a', 'e', 'i', 'o', 'u']\n",
        "word = \"programming\"\n",
        "count = 0\n",
        "for character in word:\n",
        "    if character not in vowel:\n",
        "        count += 1\n",
        "print(count)\n"
      ],
      "metadata": {
        "id": "8hR-0g9hCjh-",
        "outputId": "4b7fa9b7-bcc7-48f0-8c40-fcb2914fdaf0",
        "colab": {
          "base_uri": "https://localhost:8080/"
        }
      },
      "execution_count": null,
      "outputs": [
        {
          "output_type": "stream",
          "name": "stdout",
          "text": [
            "8\n"
          ]
        }
      ]
    },
    {
      "cell_type": "markdown",
      "source": [
        "Day 62) Counting the Number of Occurances of a Character in a String"
      ],
      "metadata": {
        "id": "yemUVfqhCqiq"
      }
    },
    {
      "cell_type": "code",
      "source": [
        "word = \"python\"\n",
        "character = \"p\"\n",
        "count = 0\n",
        "for letter in word:\n",
        "    if letter == character:\n",
        "        count += 1\n",
        "print(count)\n",
        "\n"
      ],
      "metadata": {
        "id": "utFylIepCqE_",
        "outputId": "dfdd419a-efaf-47de-aa4f-e6f7d8fe0db1",
        "colab": {
          "base_uri": "https://localhost:8080/"
        }
      },
      "execution_count": null,
      "outputs": [
        {
          "output_type": "stream",
          "name": "stdout",
          "text": [
            "1\n"
          ]
        }
      ]
    },
    {
      "cell_type": "markdown",
      "source": [
        "Day 63) Writing Fibonacci Series"
      ],
      "metadata": {
        "id": "VBNdoa6BC3GN"
      }
    },
    {
      "cell_type": "code",
      "source": [
        "fib = [0,1]\n",
        "# Range starts from 0 by default\n",
        "for i in range(5):\n",
        "    fib.append(fib[-1] + fib[-2])\n",
        "\n",
        "# Converting the list of integers to string\n",
        "print(', '.join(str(e) for e in fib))\n"
      ],
      "metadata": {
        "id": "qmPNsNkWC2mG",
        "outputId": "94bca184-a64c-4da6-9ac6-c4b08674f278",
        "colab": {
          "base_uri": "https://localhost:8080/"
        }
      },
      "execution_count": null,
      "outputs": [
        {
          "output_type": "stream",
          "name": "stdout",
          "text": [
            "0, 1, 1, 2, 3, 5, 8\n"
          ]
        }
      ]
    },
    {
      "cell_type": "markdown",
      "source": [
        "Day 64)Finding the Maximum Number in a List"
      ],
      "metadata": {
        "id": "q2_kJTuPC_UT"
      }
    },
    {
      "cell_type": "code",
      "source": [
        "numberList = [15, 85, 35, 89, 125]\n",
        "\n",
        "maxNum = numberList[0]\n",
        "for num in numberList:\n",
        "    if maxNum < num:\n",
        "        maxNum = num\n",
        "print(maxNum)\n",
        "\n"
      ],
      "metadata": {
        "id": "MHOb95gAC_gA",
        "outputId": "8f3abe0f-f597-469f-e0fa-c467965e5d13",
        "colab": {
          "base_uri": "https://localhost:8080/"
        }
      },
      "execution_count": null,
      "outputs": [
        {
          "output_type": "stream",
          "name": "stdout",
          "text": [
            "125\n"
          ]
        }
      ]
    },
    {
      "cell_type": "markdown",
      "source": [
        "Day65) Finding the Minimum Number in a List"
      ],
      "metadata": {
        "id": "4aN5egxAC_ll"
      }
    },
    {
      "cell_type": "code",
      "source": [
        "numberList = [15, 85, 35, 89, 125, 2]\n",
        "\n",
        "minNum = numberList[0]\n",
        "for num in numberList:\n",
        "    if minNum > num:\n",
        "        minNum = num\n",
        "print(minNum)\n"
      ],
      "metadata": {
        "id": "JjV2Q8BsC_rO",
        "outputId": "f566d85f-646e-4e55-b4f3-acef4f5a67fd",
        "colab": {
          "base_uri": "https://localhost:8080/"
        }
      },
      "execution_count": null,
      "outputs": [
        {
          "output_type": "stream",
          "name": "stdout",
          "text": [
            "2\n"
          ]
        }
      ]
    },
    {
      "cell_type": "markdown",
      "source": [
        "Day 66) Finding the Middle Element in a List"
      ],
      "metadata": {
        "id": "Bq3Vsj8CC_xO"
      }
    },
    {
      "cell_type": "code",
      "source": [
        "numList = [1, 2, 3, 4, 5]\n",
        "midElement = int((len(numList)/2))\n",
        "\n",
        "print(numList[midElement])\n",
        "\n"
      ],
      "metadata": {
        "id": "WXtxvj5yC_29",
        "outputId": "4b9ad2d7-266c-4e48-b6d2-8685c30248e7",
        "colab": {
          "base_uri": "https://localhost:8080/"
        }
      },
      "execution_count": null,
      "outputs": [
        {
          "output_type": "stream",
          "name": "stdout",
          "text": [
            "3\n"
          ]
        }
      ]
    },
    {
      "cell_type": "markdown",
      "source": [
        "Day 67)Converting a List into a String"
      ],
      "metadata": {
        "id": "0GUjQVFvC_89"
      }
    },
    {
      "cell_type": "code",
      "source": [
        "lst = [\"P\", \"Y\", \"T\", \"H\", \"O\", \"N\"]\n",
        "string = ''.join(lst)\n",
        "\n",
        "print(string)\n",
        "print(type(string))\n"
      ],
      "metadata": {
        "id": "QEMGMr0EDAC7",
        "outputId": "f08f0c9d-ec06-4ef8-88a6-cfcedbd448d3",
        "colab": {
          "base_uri": "https://localhost:8080/"
        }
      },
      "execution_count": null,
      "outputs": [
        {
          "output_type": "stream",
          "name": "stdout",
          "text": [
            "PYTHON\n",
            "<class 'str'>\n"
          ]
        }
      ]
    },
    {
      "cell_type": "markdown",
      "source": [
        "Day 68)Adding Two List Elements Together"
      ],
      "metadata": {
        "id": "7efUGgH9DbEg"
      }
    },
    {
      "cell_type": "code",
      "source": [
        "lst1 = [1, 2, 3]\n",
        "lst2 = [4, 5, 6]\n",
        "\n",
        "res_lst = []\n",
        "for i in range(0, len(lst1)):\n",
        "    res_lst.append(lst1[i] + lst2[i])\n",
        "print(res_lst)\n",
        "\n"
      ],
      "metadata": {
        "id": "UmQogZJhDbLy",
        "outputId": "9fb9d004-4fde-423e-c290-6064681d90dc",
        "colab": {
          "base_uri": "https://localhost:8080/"
        }
      },
      "execution_count": null,
      "outputs": [
        {
          "output_type": "stream",
          "name": "stdout",
          "text": [
            "[5, 7, 9]\n"
          ]
        }
      ]
    },
    {
      "cell_type": "markdown",
      "source": [
        "Day69) Comparing Two Strings for Anagrams"
      ],
      "metadata": {
        "id": "k3OwegRVDbQ8"
      }
    },
    {
      "cell_type": "code",
      "source": [
        "str1 = \"Listen\"\n",
        "str2 = \"Silent\"\n",
        "\n",
        "str1 = list(str1.upper())\n",
        "str2 = list(str2.upper())\n",
        "str1.sort(), str2.sort()\n",
        "\n",
        "if(str1 == str2):\n",
        "    print(\"True\")\n",
        "else:\n",
        "    print(\"False\")\n",
        "\n"
      ],
      "metadata": {
        "id": "sSfOpMfkDbWd",
        "outputId": "d0d490d5-e4bc-46d8-8d2b-4bddf4dee40b",
        "colab": {
          "base_uri": "https://localhost:8080/"
        }
      },
      "execution_count": null,
      "outputs": [
        {
          "output_type": "stream",
          "name": "stdout",
          "text": [
            "True\n"
          ]
        }
      ]
    },
    {
      "cell_type": "markdown",
      "source": [
        "Day 70) Checking for Palindrome Using Extended Slicing Technique"
      ],
      "metadata": {
        "id": "_URd3GUEDba-"
      }
    },
    {
      "cell_type": "code",
      "source": [
        "str1 = \"Kayak\".lower()\n",
        "str2 = \"kayak\".lower()\n",
        "\n",
        "if(str1 == str2[::-1]):\n",
        "    print(\"True\")\n",
        "else:\n",
        "    print(\"False\")\n",
        "\n"
      ],
      "metadata": {
        "id": "Bjgh7-6DDbg7",
        "outputId": "74b5e547-85d7-4305-e795-f7bc3d975f0c",
        "colab": {
          "base_uri": "https://localhost:8080/"
        }
      },
      "execution_count": null,
      "outputs": [
        {
          "output_type": "stream",
          "name": "stdout",
          "text": [
            "True\n"
          ]
        }
      ]
    },
    {
      "cell_type": "markdown",
      "source": [
        "Day71) Counting the White Spaces in a String"
      ],
      "metadata": {
        "id": "J8MsGCArDblq"
      }
    },
    {
      "cell_type": "code",
      "source": [
        "string = \"P r ogramm in g \"\n",
        "print(string.count(' '))\n"
      ],
      "metadata": {
        "id": "44d0npzbDbr9",
        "outputId": "3966c902-0dcf-4d19-8e65-a21407a58d6d",
        "colab": {
          "base_uri": "https://localhost:8080/"
        }
      },
      "execution_count": null,
      "outputs": [
        {
          "output_type": "stream",
          "name": "stdout",
          "text": [
            "5\n"
          ]
        }
      ]
    },
    {
      "cell_type": "markdown",
      "source": [
        "Day 72) Counting Digits, Letters, and Spaces in a String"
      ],
      "metadata": {
        "id": "P4QAjrKlDbxa"
      }
    },
    {
      "cell_type": "code",
      "source": [
        "# Importing Regular Expressions Library\n",
        "import re\n",
        "\n",
        "name = 'Python is 1'\n",
        "\n",
        "digitCount = re.sub(\"[^0-9]\", \"\", name)\n",
        "letterCount = re.sub(\"[^a-zA-Z]\", \"\", name)\n",
        "spaceCount = re.findall(\"[ \\n]\", name)\n",
        "\n",
        "print(len(digitCount))\n",
        "print(len(letterCount))\n",
        "print(len(spaceCount))\n",
        "\n"
      ],
      "metadata": {
        "id": "ZEJSVB3XC8k9",
        "outputId": "c9846e30-d24b-43e0-e162-377cf63ea005",
        "colab": {
          "base_uri": "https://localhost:8080/"
        }
      },
      "execution_count": null,
      "outputs": [
        {
          "output_type": "stream",
          "name": "stdout",
          "text": [
            "1\n",
            "8\n",
            "2\n"
          ]
        }
      ]
    },
    {
      "cell_type": "markdown",
      "source": [
        "Day 73) Counting Special Characters in a String"
      ],
      "metadata": {
        "id": "HKkT6C0jD99r"
      }
    },
    {
      "cell_type": "code",
      "source": [
        "# Importing Regular Expressions Library\n",
        "import re\n",
        "spChar = \"!@#$%^&*()\"\n",
        "\n",
        "count = re.sub('[\\w]+', '', spChar)\n",
        "print(len(count))\n"
      ],
      "metadata": {
        "id": "j4uJBXtgD-EZ",
        "outputId": "29dc30f7-da01-4ff0-da14-aea47e5f8f36",
        "colab": {
          "base_uri": "https://localhost:8080/"
        }
      },
      "execution_count": null,
      "outputs": [
        {
          "output_type": "stream",
          "name": "stdout",
          "text": [
            "10\n"
          ]
        }
      ]
    },
    {
      "cell_type": "markdown",
      "source": [
        "Day74)Removing All Whitespace in a String"
      ],
      "metadata": {
        "id": "iosBYNH2D-J6"
      }
    },
    {
      "cell_type": "code",
      "source": [
        "import re\n",
        "\n",
        "string = \"C O D E\"\n",
        "spaces = re.compile(r'\\s+')\n",
        "result = re.sub(spaces, '', string)\n",
        "print(result)\n"
      ],
      "metadata": {
        "id": "Nrl047SCD-Ps",
        "outputId": "24f0ca79-e11d-47bd-c923-ce82f3250fbe",
        "colab": {
          "base_uri": "https://localhost:8080/"
        }
      },
      "execution_count": null,
      "outputs": [
        {
          "output_type": "stream",
          "name": "stdout",
          "text": [
            "CODE\n"
          ]
        }
      ]
    },
    {
      "cell_type": "markdown",
      "source": [
        "Day 75) Building a Pyramid in Python"
      ],
      "metadata": {
        "id": "zR03PSWxD-Ur"
      }
    },
    {
      "cell_type": "code",
      "source": [
        "floors = 3\n",
        "h = 2*floors-1\n",
        "for i in range(1, 2*floors, 2):\n",
        "    print('{:^{}}'.format('*'*i, h))\n"
      ],
      "metadata": {
        "id": "6hBdhdbAD-Zy",
        "outputId": "b57858e2-ead6-4799-b523-3bbdbcd0082e",
        "colab": {
          "base_uri": "https://localhost:8080/"
        }
      },
      "execution_count": null,
      "outputs": [
        {
          "output_type": "stream",
          "name": "stdout",
          "text": [
            "  *  \n",
            " *** \n",
            "*****\n"
          ]
        }
      ]
    },
    {
      "cell_type": "markdown",
      "source": [
        "Day 76)Randomizing the Items of a List in Python"
      ],
      "metadata": {
        "id": "32Agw5AsD-ek"
      }
    },
    {
      "cell_type": "code",
      "source": [
        "\n",
        "from random import shuffle\n",
        "\n",
        "lst = ['Python', 'is', 'Easy']\n",
        "shuffle(lst)\n",
        "print(lst)\n"
      ],
      "metadata": {
        "id": "2eDjzCDqD-jc",
        "outputId": "a51d9695-a8cf-4852-ba06-216890a42787",
        "colab": {
          "base_uri": "https://localhost:8080/"
        }
      },
      "execution_count": null,
      "outputs": [
        {
          "output_type": "stream",
          "name": "stdout",
          "text": [
            "['Easy', 'is', 'Python']\n"
          ]
        }
      ]
    },
    {
      "cell_type": "markdown",
      "source": [
        "Day 77) Given two arrays, write a python function to return the intersection of the two? For example, X = [1,5,9,0] and Y = [3,0,2,9] it should return [9,0]"
      ],
      "metadata": {
        "id": "rPhyWs_8EpxB"
      }
    },
    {
      "cell_type": "code",
      "source": [
        "def intersection(X, Y):\n",
        "    set_X = set(X)\n",
        "    set_Y = set(Y)\n",
        "    intersect = set_X.intersection(set_Y)\n",
        "    return list(intersect)\n",
        "X = [1, 5, 9, 0]\n",
        "Y = [3, 0, 2, 9]\n",
        "result = intersection(X, Y)\n",
        "print(result)"
      ],
      "metadata": {
        "id": "e1U-6QbkEkLP",
        "outputId": "01122063-7caa-4f12-f361-e3aeb92384b7",
        "colab": {
          "base_uri": "https://localhost:8080/"
        }
      },
      "execution_count": 4,
      "outputs": [
        {
          "output_type": "stream",
          "name": "stdout",
          "text": [
            "[0, 9]\n"
          ]
        }
      ]
    },
    {
      "cell_type": "code",
      "source": [],
      "metadata": {
        "id": "sS9M4AohNrDs"
      },
      "execution_count": null,
      "outputs": []
    }
  ]
}