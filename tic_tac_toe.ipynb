{
  "nbformat": 4,
  "nbformat_minor": 0,
  "metadata": {
    "colab": {
      "provenance": [],
      "authorship_tag": "ABX9TyOBnCJTcGZG1EdIR5GZ58A6"
    },
    "kernelspec": {
      "name": "python3",
      "display_name": "Python 3"
    },
    "language_info": {
      "name": "python"
    }
  },
  "cells": [
    {
      "cell_type": "code",
      "execution_count": 1,
      "metadata": {
        "colab": {
          "base_uri": "https://localhost:8080/"
        },
        "id": "ytES7gKb9RZ0",
        "outputId": "2bd34eff-6768-4a42-8e0d-de561bf598ec"
      },
      "outputs": [
        {
          "output_type": "stream",
          "name": "stdout",
          "text": [
            " | | \n",
            "-----\n",
            " | | \n",
            "-----\n",
            " | | \n",
            "-----\n",
            "Player X, enter row (0, 1, or 2): 1\n",
            "Player X, enter column (0, 1, or 2): 1\n",
            " | | \n",
            "-----\n",
            " |X| \n",
            "-----\n",
            " | | \n",
            "-----\n",
            "Player O, enter row (0, 1, or 2): 0\n",
            "Player O, enter column (0, 1, or 2): 0\n",
            "O| | \n",
            "-----\n",
            " |X| \n",
            "-----\n",
            " | | \n",
            "-----\n",
            "Player X, enter row (0, 1, or 2): 2\n",
            "Player X, enter column (0, 1, or 2): 0\n",
            "O| | \n",
            "-----\n",
            " |X| \n",
            "-----\n",
            "X| | \n",
            "-----\n",
            "Player O, enter row (0, 1, or 2): 2\n",
            "Player O, enter column (0, 1, or 2): 2\n",
            "O| | \n",
            "-----\n",
            " |X| \n",
            "-----\n",
            "X| |O\n",
            "-----\n",
            "Player X, enter row (0, 1, or 2): 0\n",
            "Player X, enter column (0, 1, or 2): 2\n",
            "O| |X\n",
            "-----\n",
            " |X| \n",
            "-----\n",
            "X| |O\n",
            "-----\n",
            "Player X wins!\n"
          ]
        }
      ],
      "source": [
        "def print_board(board):\n",
        "    for row in board:\n",
        "        print(\"|\".join(row))\n",
        "        print(\"-\" * 5)\n",
        "\n",
        "def check_winner(board, player):\n",
        "    # Check rows and columns\n",
        "    for i in range(3):\n",
        "        if all(board[i][j] == player for j in range(3)) or all(board[j][i] == player for j in range(3)):\n",
        "            return True\n",
        "\n",
        "    # Check diagonals\n",
        "    if all(board[i][i] == player for i in range(3)) or all(board[i][2 - i] == player for i in range(3)):\n",
        "        return True\n",
        "\n",
        "    return False\n",
        "\n",
        "def is_board_full(board):\n",
        "    return all(board[i][j] != \" \" for i in range(3) for j in range(3))\n",
        "\n",
        "def tic_tac_toe():\n",
        "    board = [[\" \" for _ in range(3)] for _ in range(3)]\n",
        "    current_player = \"X\"\n",
        "\n",
        "    while True:\n",
        "        print_board(board)\n",
        "\n",
        "        row = int(input(f\"Player {current_player}, enter row (0, 1, or 2): \"))\n",
        "        col = int(input(f\"Player {current_player}, enter column (0, 1, or 2): \"))\n",
        "\n",
        "        if board[row][col] == \" \":\n",
        "            board[row][col] = current_player\n",
        "            if check_winner(board, current_player):\n",
        "                print_board(board)\n",
        "                print(f\"Player {current_player} wins!\")\n",
        "                break\n",
        "            elif is_board_full(board):\n",
        "                print_board(board)\n",
        "                print(\"It's a tie!\")\n",
        "                break\n",
        "            else:\n",
        "                current_player = \"O\" if current_player == \"X\" else \"X\"\n",
        "        else:\n",
        "            print(\"Cell already taken. Try again.\")\n",
        "\n",
        "if __name__ == \"__main__\":\n",
        "    tic_tac_toe()\n"
      ]
    }
  ]
}